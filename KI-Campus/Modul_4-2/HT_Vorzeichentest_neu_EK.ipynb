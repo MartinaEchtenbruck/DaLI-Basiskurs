{
 "cells": [
  {
   "cell_type": "markdown",
   "metadata": {
    "id": "pxBpJrBndiTJ"
   },
   "source": [
    "# **Hypothesentest: Vorzeichentest**\n",
    "\n",
    "In diesem Jupyter Notebook werden wir die Hypothesen, die wir in Modul 2 formuliert haben, untersuchen.\n",
    "\n",
    "Die Durchführung von Hypothesentests ist sehr umfangreich. Es würde den Rahmen dieser Veranstaltung sprengen, auf alle Themen und Konzepte einzugehen, die mit einem solchen Hypothesentest einhergehen. Daher sind im Folgenden Inhalte, die über den Rahmen dieser Veranstaltung hinausgehen, als **optional** gekennzeichnet. Wer sich für die Inhalte interessiert, kann hier tiefer in die Materie einsteigen. Die inhaltliche Durchdringung der optionalen Inhalte ist jedoch **nicht notwendig** für die erfolgreiche Teilnahme an dieser Veranstaltung.\n",
    "\n",
    "**Bitte beachten** Sie, dass die enthaltenen Codezeilen ausgeführt werden müssen. Wir empfehlen Ihnen, alle Codezeilen vor der Ausführung auszuführen. Wählen Sie dazu im Menü \"Cell\" den Punkt \"Run all\".\n",
    "\n",
    "---\n",
    "\n",
    "Um eine wissenschaftliche Untersuchung durchzuführen, bei der Hypothesen anhand eines Tests untersucht werden, gibt es für gewöhlich einen festen Ablauf mit einzelnen Schritten, die der Reihe nach durchzuführen sind. Üblicherweise sind dies die folgenden Schritte:\n",
    "\n",
    "\n",
    "  -   Formulierung der Nullhypothese und der Alternativhypothese\n",
    "  -   Teststatistik wählen\n",
    "  -   Signifikanzniveau festlegen\n",
    "  -   Nullverteilung der Teststatistik bestimmen\n",
    "  -   Annahme und Ablehnungsbereich für die Nullhypothese bestimmen\n",
    "  -   Teststatistik berechnen\n",
    "  -   Das Ergebnis der Studie gemäß den Vorgaben aus 3. + 5. ermitteln.\n",
    "\n",
    "Im Folgenden möchten wir unsere aufgestellten Hypothesen nun untersuchen und werden dazu die aufgeführten Schritte durchführen. Der Nachvollziehbarkeit halber weichen wir allerdings ein wenig von der üblichen Reihenfolge ab und berechnen die Teststatistik noch bevor wir uns der Nullverteilung zuwenden.\n",
    "Versuchen Sie die Schritte nachzuvollziehen und ggf. soweit möglich auf Ihre eigenen Hypothesen anzuwenden."
   ]
  },
  {
   "cell_type": "markdown",
   "metadata": {
    "id": "u4fpjZVulQfH"
   },
   "source": [
    "Um unsere Hypothesen im Folgenden zu überprüfen starten wir zunächst, wie gehabt, mit dem Einlesen unserer Daten."
   ]
  },
  {
   "cell_type": "markdown",
   "metadata": {
    "id": "C9x9TSWcJ7k8",
    "jp-MarkdownHeadingCollapsed": true
   },
   "source": [
    "## Einlesen der Daten"
   ]
  },
  {
   "cell_type": "code",
   "execution_count": 2,
   "metadata": {
    "colab": {
     "base_uri": "https://localhost:8080/",
     "height": 461
    },
    "id": "oF6WYN9zQgiT",
    "outputId": "b01caea1-0b49-4466-c15e-f97e8b1e4bd4"
   },
   "outputs": [
    {
     "data": {
      "text/html": [
       "<div>\n",
       "<style scoped>\n",
       "    .dataframe tbody tr th:only-of-type {\n",
       "        vertical-align: middle;\n",
       "    }\n",
       "\n",
       "    .dataframe tbody tr th {\n",
       "        vertical-align: top;\n",
       "    }\n",
       "\n",
       "    .dataframe thead th {\n",
       "        text-align: right;\n",
       "    }\n",
       "</style>\n",
       "<table border=\"1\" class=\"dataframe\">\n",
       "  <thead>\n",
       "    <tr style=\"text-align: right;\">\n",
       "      <th></th>\n",
       "      <th>Stationscode</th>\n",
       "      <th>Datum</th>\n",
       "      <th>Uhrzeit</th>\n",
       "      <th>Feinstaub</th>\n",
       "      <th>Ozon</th>\n",
       "      <th>Stickstoffdioxid</th>\n",
       "      <th>Luftqualitätsindex</th>\n",
       "      <th>Temperatur-mean</th>\n",
       "      <th>Temperatur-min</th>\n",
       "      <th>Temperatur-max</th>\n",
       "      <th>Niederschlag</th>\n",
       "      <th>Schneefall</th>\n",
       "      <th>Windrichtung</th>\n",
       "      <th>Windgeschwindigkeit</th>\n",
       "      <th>Spitzenwindboe</th>\n",
       "      <th>Luftdruck</th>\n",
       "      <th>Sonnenminuten</th>\n",
       "    </tr>\n",
       "  </thead>\n",
       "  <tbody>\n",
       "    <tr>\n",
       "      <th>0</th>\n",
       "      <td>DENW053</td>\n",
       "      <td>01.11.2020</td>\n",
       "      <td>01:00</td>\n",
       "      <td>13.0</td>\n",
       "      <td>45.0</td>\n",
       "      <td>9.0</td>\n",
       "      <td>sehr gut</td>\n",
       "      <td>15.5</td>\n",
       "      <td>12.8</td>\n",
       "      <td>18.2</td>\n",
       "      <td>2.3</td>\n",
       "      <td>0.0</td>\n",
       "      <td>214.4</td>\n",
       "      <td>30.5</td>\n",
       "      <td>63.0</td>\n",
       "      <td>1012.0</td>\n",
       "      <td>0.0</td>\n",
       "    </tr>\n",
       "    <tr>\n",
       "      <th>1</th>\n",
       "      <td>DENW053</td>\n",
       "      <td>01.11.2020</td>\n",
       "      <td>02:00</td>\n",
       "      <td>13.0</td>\n",
       "      <td>33.0</td>\n",
       "      <td>13.0</td>\n",
       "      <td>sehr gut</td>\n",
       "      <td>15.5</td>\n",
       "      <td>12.8</td>\n",
       "      <td>18.2</td>\n",
       "      <td>2.3</td>\n",
       "      <td>0.0</td>\n",
       "      <td>214.4</td>\n",
       "      <td>30.5</td>\n",
       "      <td>63.0</td>\n",
       "      <td>1012.0</td>\n",
       "      <td>0.0</td>\n",
       "    </tr>\n",
       "    <tr>\n",
       "      <th>2</th>\n",
       "      <td>DENW053</td>\n",
       "      <td>01.11.2020</td>\n",
       "      <td>03:00</td>\n",
       "      <td>13.0</td>\n",
       "      <td>28.0</td>\n",
       "      <td>13.0</td>\n",
       "      <td>sehr gut</td>\n",
       "      <td>15.5</td>\n",
       "      <td>12.8</td>\n",
       "      <td>18.2</td>\n",
       "      <td>2.3</td>\n",
       "      <td>0.0</td>\n",
       "      <td>214.4</td>\n",
       "      <td>30.5</td>\n",
       "      <td>63.0</td>\n",
       "      <td>1012.0</td>\n",
       "      <td>0.0</td>\n",
       "    </tr>\n",
       "    <tr>\n",
       "      <th>3</th>\n",
       "      <td>DENW053</td>\n",
       "      <td>01.11.2020</td>\n",
       "      <td>04:00</td>\n",
       "      <td>13.0</td>\n",
       "      <td>41.0</td>\n",
       "      <td>7.0</td>\n",
       "      <td>sehr gut</td>\n",
       "      <td>15.5</td>\n",
       "      <td>12.8</td>\n",
       "      <td>18.2</td>\n",
       "      <td>2.3</td>\n",
       "      <td>0.0</td>\n",
       "      <td>214.4</td>\n",
       "      <td>30.5</td>\n",
       "      <td>63.0</td>\n",
       "      <td>1012.0</td>\n",
       "      <td>0.0</td>\n",
       "    </tr>\n",
       "    <tr>\n",
       "      <th>4</th>\n",
       "      <td>DENW053</td>\n",
       "      <td>01.11.2020</td>\n",
       "      <td>05:00</td>\n",
       "      <td>13.0</td>\n",
       "      <td>46.0</td>\n",
       "      <td>7.0</td>\n",
       "      <td>sehr gut</td>\n",
       "      <td>15.5</td>\n",
       "      <td>12.8</td>\n",
       "      <td>18.2</td>\n",
       "      <td>2.3</td>\n",
       "      <td>0.0</td>\n",
       "      <td>214.4</td>\n",
       "      <td>30.5</td>\n",
       "      <td>63.0</td>\n",
       "      <td>1012.0</td>\n",
       "      <td>0.0</td>\n",
       "    </tr>\n",
       "    <tr>\n",
       "      <th>...</th>\n",
       "      <td>...</td>\n",
       "      <td>...</td>\n",
       "      <td>...</td>\n",
       "      <td>...</td>\n",
       "      <td>...</td>\n",
       "      <td>...</td>\n",
       "      <td>...</td>\n",
       "      <td>...</td>\n",
       "      <td>...</td>\n",
       "      <td>...</td>\n",
       "      <td>...</td>\n",
       "      <td>...</td>\n",
       "      <td>...</td>\n",
       "      <td>...</td>\n",
       "      <td>...</td>\n",
       "      <td>...</td>\n",
       "      <td>...</td>\n",
       "    </tr>\n",
       "    <tr>\n",
       "      <th>35039</th>\n",
       "      <td>DENW059</td>\n",
       "      <td>31.10.2021</td>\n",
       "      <td>21:00</td>\n",
       "      <td>6.0</td>\n",
       "      <td>51.0</td>\n",
       "      <td>9.0</td>\n",
       "      <td>sehr gut</td>\n",
       "      <td>13.0</td>\n",
       "      <td>9.0</td>\n",
       "      <td>17.9</td>\n",
       "      <td>11.6</td>\n",
       "      <td>0.0</td>\n",
       "      <td>172.1</td>\n",
       "      <td>17.0</td>\n",
       "      <td>78.0</td>\n",
       "      <td>1003.9</td>\n",
       "      <td>71.0</td>\n",
       "    </tr>\n",
       "    <tr>\n",
       "      <th>35040</th>\n",
       "      <td>DENW059</td>\n",
       "      <td>31.10.2021</td>\n",
       "      <td>22:00</td>\n",
       "      <td>6.0</td>\n",
       "      <td>59.0</td>\n",
       "      <td>7.0</td>\n",
       "      <td>sehr gut</td>\n",
       "      <td>13.0</td>\n",
       "      <td>9.0</td>\n",
       "      <td>17.9</td>\n",
       "      <td>11.6</td>\n",
       "      <td>0.0</td>\n",
       "      <td>172.1</td>\n",
       "      <td>17.0</td>\n",
       "      <td>78.0</td>\n",
       "      <td>1003.9</td>\n",
       "      <td>71.0</td>\n",
       "    </tr>\n",
       "    <tr>\n",
       "      <th>35041</th>\n",
       "      <td>DENW059</td>\n",
       "      <td>31.10.2021</td>\n",
       "      <td>23:00</td>\n",
       "      <td>6.0</td>\n",
       "      <td>45.0</td>\n",
       "      <td>NaN</td>\n",
       "      <td>sehr gut</td>\n",
       "      <td>13.0</td>\n",
       "      <td>9.0</td>\n",
       "      <td>17.9</td>\n",
       "      <td>11.6</td>\n",
       "      <td>0.0</td>\n",
       "      <td>172.1</td>\n",
       "      <td>17.0</td>\n",
       "      <td>78.0</td>\n",
       "      <td>1003.9</td>\n",
       "      <td>71.0</td>\n",
       "    </tr>\n",
       "    <tr>\n",
       "      <th>35042</th>\n",
       "      <td>DENW059</td>\n",
       "      <td>01.11.2021</td>\n",
       "      <td>24:00</td>\n",
       "      <td>6.0</td>\n",
       "      <td>39.0</td>\n",
       "      <td>9.0</td>\n",
       "      <td>sehr gut</td>\n",
       "      <td>NaN</td>\n",
       "      <td>NaN</td>\n",
       "      <td>NaN</td>\n",
       "      <td>NaN</td>\n",
       "      <td>NaN</td>\n",
       "      <td>NaN</td>\n",
       "      <td>NaN</td>\n",
       "      <td>NaN</td>\n",
       "      <td>NaN</td>\n",
       "      <td>NaN</td>\n",
       "    </tr>\n",
       "    <tr>\n",
       "      <th>35043</th>\n",
       "      <td>DENW059</td>\n",
       "      <td>01.11.2021</td>\n",
       "      <td>01:00</td>\n",
       "      <td>6.0</td>\n",
       "      <td>30.0</td>\n",
       "      <td>11.0</td>\n",
       "      <td>sehr gut</td>\n",
       "      <td>NaN</td>\n",
       "      <td>NaN</td>\n",
       "      <td>NaN</td>\n",
       "      <td>NaN</td>\n",
       "      <td>NaN</td>\n",
       "      <td>NaN</td>\n",
       "      <td>NaN</td>\n",
       "      <td>NaN</td>\n",
       "      <td>NaN</td>\n",
       "      <td>NaN</td>\n",
       "    </tr>\n",
       "  </tbody>\n",
       "</table>\n",
       "<p>35044 rows × 17 columns</p>\n",
       "</div>"
      ],
      "text/plain": [
       "      Stationscode       Datum Uhrzeit  Feinstaub  Ozon  Stickstoffdioxid  \\\n",
       "0          DENW053  01.11.2020   01:00       13.0  45.0               9.0   \n",
       "1          DENW053  01.11.2020   02:00       13.0  33.0              13.0   \n",
       "2          DENW053  01.11.2020   03:00       13.0  28.0              13.0   \n",
       "3          DENW053  01.11.2020   04:00       13.0  41.0               7.0   \n",
       "4          DENW053  01.11.2020   05:00       13.0  46.0               7.0   \n",
       "...            ...         ...     ...        ...   ...               ...   \n",
       "35039      DENW059  31.10.2021   21:00        6.0  51.0               9.0   \n",
       "35040      DENW059  31.10.2021   22:00        6.0  59.0               7.0   \n",
       "35041      DENW059  31.10.2021   23:00        6.0  45.0               NaN   \n",
       "35042      DENW059  01.11.2021   24:00        6.0  39.0               9.0   \n",
       "35043      DENW059  01.11.2021   01:00        6.0  30.0              11.0   \n",
       "\n",
       "      Luftqualitätsindex  Temperatur-mean  Temperatur-min  Temperatur-max  \\\n",
       "0               sehr gut             15.5            12.8            18.2   \n",
       "1               sehr gut             15.5            12.8            18.2   \n",
       "2               sehr gut             15.5            12.8            18.2   \n",
       "3               sehr gut             15.5            12.8            18.2   \n",
       "4               sehr gut             15.5            12.8            18.2   \n",
       "...                  ...              ...             ...             ...   \n",
       "35039           sehr gut             13.0             9.0            17.9   \n",
       "35040           sehr gut             13.0             9.0            17.9   \n",
       "35041           sehr gut             13.0             9.0            17.9   \n",
       "35042           sehr gut              NaN             NaN             NaN   \n",
       "35043           sehr gut              NaN             NaN             NaN   \n",
       "\n",
       "       Niederschlag  Schneefall  Windrichtung  Windgeschwindigkeit  \\\n",
       "0               2.3         0.0         214.4                 30.5   \n",
       "1               2.3         0.0         214.4                 30.5   \n",
       "2               2.3         0.0         214.4                 30.5   \n",
       "3               2.3         0.0         214.4                 30.5   \n",
       "4               2.3         0.0         214.4                 30.5   \n",
       "...             ...         ...           ...                  ...   \n",
       "35039          11.6         0.0         172.1                 17.0   \n",
       "35040          11.6         0.0         172.1                 17.0   \n",
       "35041          11.6         0.0         172.1                 17.0   \n",
       "35042           NaN         NaN           NaN                  NaN   \n",
       "35043           NaN         NaN           NaN                  NaN   \n",
       "\n",
       "       Spitzenwindboe  Luftdruck  Sonnenminuten  \n",
       "0                63.0     1012.0            0.0  \n",
       "1                63.0     1012.0            0.0  \n",
       "2                63.0     1012.0            0.0  \n",
       "3                63.0     1012.0            0.0  \n",
       "4                63.0     1012.0            0.0  \n",
       "...               ...        ...            ...  \n",
       "35039            78.0     1003.9           71.0  \n",
       "35040            78.0     1003.9           71.0  \n",
       "35041            78.0     1003.9           71.0  \n",
       "35042             NaN        NaN            NaN  \n",
       "35043             NaN        NaN            NaN  \n",
       "\n",
       "[35044 rows x 17 columns]"
      ]
     },
     "execution_count": 2,
     "metadata": {},
     "output_type": "execute_result"
    }
   ],
   "source": [
    "import numpy as np\n",
    "import pandas as pd\n",
    "\n",
    "from matplotlib import pyplot as plt\n",
    "\n",
    "daten = pd.read_csv(\"UmweltLuftDaten.CSV\", sep=';', header=0)\n",
    "\n",
    "daten"
   ]
  },
  {
   "cell_type": "markdown",
   "metadata": {
    "id": "YEsxdwxPlk4E",
    "jp-MarkdownHeadingCollapsed": true
   },
   "source": [
    "##  Formulierung der Nullhypothese und der Alternativhypothese"
   ]
  },
  {
   "cell_type": "markdown",
   "metadata": {
    "id": "Qu86sf0sUs3n"
   },
   "source": [
    "Als erstes möchten wir uns mit der Frage befassen, ob die Tageszeit für die Feinstaubbelastung einen Unterschied macht. Die folgende Nullhypothese haben wir formuliert (Zur Erinnennurg wie Hypothesen gebildet werden siehe [Modul 2](https://moodle.ki-campus.org/mod/h5pactivity/view.php?id=6593)):\n",
    "\n",
    "**Nullhypothese 1**: \"*Es gibt keinen Unterschied zwischen der Feinstaubbelastung\n",
    "der Luft am Tag und in der Nacht*\"\n",
    "\n",
    "Unsere Alternativhypothese lautet:\n",
    "\n",
    "**Alternativhypothese 1**: \"*Es gibt einen Unterschied zwischen der Feinstaubbelastung\n",
    "der Luft am Tag und in der Nacht (Vermutung: tagsüber höher).*\"\n",
    "\n",
    "\n"
   ]
  },
  {
   "cell_type": "markdown",
   "metadata": {
    "id": "xoqm8ijmBdph",
    "jp-MarkdownHeadingCollapsed": true
   },
   "source": [
    "## Teststatistik wählen"
   ]
  },
  {
   "cell_type": "markdown",
   "metadata": {
    "id": "ldAiO5SZyqhX"
   },
   "source": [
    "Eine Teststatistik ist eine Kennzahl, die aus den Stichprobendaten berechnet wird, um in einem statistischen Hypothesentest eine Entscheidung zu treffen. Sie fasst die Information der Daten in einer Zahl zusammen, mit der die Hypothese bewertet wird.\n",
    "\n",
    "Es gibt verschiedene **mögliche** Testverfahren um diese Teststatistik $S$ zu berechnen:\n",
    "\n",
    "* Vergleich der Stichprobenmittelwerte (gepaarter t-Test),\n",
    "* Zählen der Anzahl der Datenpunkte, bei denen die Feinstaubbelastung am Tag höher ist als in der Nacht (Vorzeichentest),\n",
    "* Berechnung ob es einen linearen Zusammenhang zwischen zwei Variablen gibt (Korrelationstest),\n",
    "* &hellip;\n",
    "\n",
    "Wir betrachten im Folgenden den Vorzeichentest und ermitteln die Anzahl&nbsp;𝑆 der Datenpaare, bei denen die Feinstaubbelastung am Tag höher ist als in der Nacht. Diesen Wert nennen wir 𝑆  (für Test**s**tatistik).\n",
    "\n",
    "Beispiel: Am 1.11.2020 beträgt der Feinstaubwert für 7 Uhr morgens: 13&#x202f;&mu;g/m&#xB3; und um 19 Uhr Abends: 11&#x202f;&mu;g/m&#xB3;. Die Differenz zwischen Tag und Nacht beträgt also: 13 μg/m³ − 11 μg/m³ = 2 μg/m³. Dieser Wert ist positiv. Wenn wir nur ein einziges Datenpaar auswerten würden, dann wäre unser $S = 1$.\n",
    "\n",
    "Bevor dieser Wert aber für uns eine Bedeutung haben kann, müssen wir zunächst noch einen Blick auf unsere Experimentdaten werfen. Wieviele Datenpunkte betrachten wir insgesamt?"
   ]
  },
  {
   "cell_type": "markdown",
   "metadata": {
    "id": "TLcD-Zel_JFT",
    "jp-MarkdownHeadingCollapsed": true
   },
   "source": [
    "## **Optional**: Vorbereitung der Datensätze"
   ]
  },
  {
   "cell_type": "markdown",
   "metadata": {
    "id": "a0Ou4FVO_NDG"
   },
   "source": [
    "Um die Hypothese zu untersuchen, betrachten wir zwei Gruppen von Feinstaubwerten, nämlich die der Feinstaubbelastung am Tag und der in der Nacht.\n",
    "\n",
    "Für den Vorzeichentest müssen wir allerdings berücksichtigen, dass paarweise zusammengehörige Daten benötigt werden. Da unsere Daten nicht natürlich paarweise vorliegen, müssen wir uns diese Paarungen entsprechend definieren. Eine naheliegende Möglichkeit ist es, Tag und Nacht entsprechend ihres Verlaufs zusammenzuführen, also 7&nbsp;Uhr morgens mit 19&nbsp;Uhr abends und so weiter. Wir führen dabei Werte des Tages mit der darauffolgenden Nacht derselben Station zusammen.\n",
    "\n",
    "Die zu bildenden Subsets müssen also paarweise zuordbar sein.\n",
    "Um diese Subsets bilden zu können, müssen wir für uns zunächst definieren, was Tag ist und was Nacht. Die Zeitintervalle müssen dabei dieselbe Länge haben, um die paarweise Zuordbarkeit zu gewährleisten.\n",
    "\n",
    "Da es zur Definition von Tag und Nacht wohl verschiedene Meinungen gibt, versuchen wir Kernbereiche zu definieren die eindeutig Tag oder Nacht zuzuordnen sind. Im Folgenden wählen wir für den Tag den Zeitraum zwischen 7&nbsp;Uhr und 17&nbsp;Uhr und für die Nacht den Zeitraum zwischen 19&nbsp;Uhr und 5&nbsp;Uhr morgens."
   ]
  },
  {
   "cell_type": "markdown",
   "metadata": {
    "id": "RUXlalcUvtgt"
   },
   "source": [
    "### Einen Datensatz je Stationscode erstellen"
   ]
  },
  {
   "cell_type": "code",
   "execution_count": null,
   "metadata": {
    "colab": {
     "base_uri": "https://localhost:8080/"
    },
    "id": "0AaCuJNmia1g",
    "outputId": "c363447d-577f-4e73-8e26-fa9baade8843"
   },
   "outputs": [],
   "source": [
    "# falls wir verschiedene Stationscodes in den Daten haben, dann erstellen wir die Paarweisen Daten je Stationscode separat\n",
    "daten['Stationscode'].unique()"
   ]
  },
  {
   "cell_type": "code",
   "execution_count": null,
   "metadata": {
    "id": "bp2t3jk3mg8e"
   },
   "outputs": [],
   "source": [
    "# Ein Set je Stationscode\n",
    "daten_DENW053 = daten[daten['Stationscode'] == 'DENW053']\n",
    "daten_DENW212 = daten[daten['Stationscode'] == 'DENW212']\n",
    "daten_DENW211 = daten[daten['Stationscode'] == 'DENW211']\n",
    "daten_DENW059 = daten[daten['Stationscode'] == 'DENW059']\n",
    "\n",
    "# Die Sets nach Tag und Nacht Splitten\n",
    "daten_tag_DENW053 = daten_DENW053.loc[(daten_DENW053['Uhrzeit'] >= '07:00') & (daten_DENW053['Uhrzeit'] <= '17:00')]\n",
    "daten_nacht_DENW053 = daten_DENW053.loc[(daten_DENW053['Uhrzeit'] >= '19:00') | (daten_DENW053['Uhrzeit'] <= '05:00')]\n",
    "\n",
    "daten_tag_DENW212 = daten_DENW212.loc[(daten_DENW212['Uhrzeit'] >= '07:00') & (daten_DENW212['Uhrzeit'] <= '17:00')]\n",
    "daten_nacht_DENW212 = daten_DENW212.loc[(daten_DENW212['Uhrzeit'] >= '19:00') | (daten_DENW212['Uhrzeit'] <= '05:00')]\n",
    "\n",
    "daten_tag_DENW211 = daten_DENW211.loc[(daten_DENW211['Uhrzeit'] >= '07:00') & (daten_DENW211['Uhrzeit'] <= '17:00')]\n",
    "daten_nacht_DENW211 = daten_DENW211.loc[(daten_DENW211['Uhrzeit'] >= '19:00') | (daten_DENW211['Uhrzeit'] <= '05:00')]\n",
    "\n",
    "daten_tag_DENW059 = daten_DENW059.loc[(daten_DENW059['Uhrzeit'] >= '07:00') & (daten_DENW059['Uhrzeit'] <= '17:00')]\n",
    "daten_nacht_DENW059 = daten_DENW059.loc[(daten_DENW059['Uhrzeit'] >= '19:00') | (daten_DENW059['Uhrzeit'] <= '05:00')]\n",
    "\n",
    "# Die Indizes resetten, damit python sich nicht die entstandenen Lücken merkt\n",
    "daten_tag_DENW053 = daten_tag_DENW053.reset_index(drop=True)\n",
    "daten_nacht_DENW053 = daten_nacht_DENW053.reset_index(drop=True)\n",
    "\n",
    "daten_tag_DENW212 = daten_tag_DENW212.reset_index(drop=True)\n",
    "daten_nacht_DENW212 = daten_nacht_DENW212.reset_index(drop=True)\n",
    "\n",
    "daten_tag_DENW211 = daten_tag_DENW211.reset_index(drop=True)\n",
    "daten_nacht_DENW211 = daten_nacht_DENW211.reset_index(drop=True)\n",
    "\n",
    "daten_tag_DENW059 = daten_tag_DENW059.reset_index(drop=True)\n",
    "daten_nacht_DENW059 = daten_nacht_DENW059.reset_index(drop=True)"
   ]
  },
  {
   "cell_type": "markdown",
   "metadata": {
    "id": "56LroEKgv1FJ"
   },
   "source": [
    "### Datenpaarungen für Stationscode DENW053 erstellen"
   ]
  },
  {
   "cell_type": "code",
   "execution_count": null,
   "metadata": {
    "colab": {
     "base_uri": "https://localhost:8080/"
    },
    "id": "ctRg_mA1r8Lw",
    "outputId": "2424c06a-9985-4d54-f50e-259a56167154"
   },
   "outputs": [],
   "source": [
    "print(pd.DataFrame({'Tag-Datum': daten_tag_DENW053['Datum'],\n",
    "              'Tag-Uhrzeit': daten_tag_DENW053['Uhrzeit'],\n",
    "              'Nacht-Datum': daten_nacht_DENW053['Datum'],\n",
    "              'Nacht-Uhrzeit': daten_nacht_DENW053['Uhrzeit']}).head(n=6))\n",
    "\n",
    "print(pd.DataFrame({'Tag-Datum': daten_tag_DENW053['Datum'],\n",
    "              'Tag-Uhrzeit': daten_tag_DENW053['Uhrzeit'],\n",
    "              'Nacht-Datum': daten_nacht_DENW053['Datum'],\n",
    "              'Nacht-Uhrzeit': daten_nacht_DENW053['Uhrzeit']}).tail(n=6))"
   ]
  },
  {
   "cell_type": "markdown",
   "metadata": {
    "id": "GEgx6tvu0XOp"
   },
   "source": [
    "Da wir für jede Station alle Werte des Tages gezogen haben, startet jeder unserer Datensätze am 1.11.2020 morgens um 1:00&nbsp;Uhr. Da diese Werte nach unserer Paarung zu den Tag Werten des vorangegangenen Tage gehören, können wir diese nicht verwenden und verwerfen die Einträge.\n",
    "Ähnliches liegt am Ende eines jeden Datensatzes vor. Der von uns definierte letzte Tag endet am 31.10.2021 um 17&nbsp;Uhr. Für die Nacht enden die Werte aber bereits um 1:00&nbsp;Uhr des Folgetages. Gemäß unserer Paarung haben wir also mehr Werte des letzen Tages als von der letzten Nacht. Wir schneiden auch hier passend ab."
   ]
  },
  {
   "cell_type": "code",
   "execution_count": null,
   "metadata": {
    "id": "PlFhBg6Rs2JH"
   },
   "outputs": [],
   "source": [
    "# Die ersten 5 Einträge der Nacht rauswerfen\n",
    "daten_nacht_DENW053 = daten_nacht_DENW053.drop([0,1,2,3,4], axis=0, inplace=False)\n",
    "\n",
    "# die letzten 4 Einträge des Tages rauswerfen\n",
    "daten_tag_DENW053 = daten_tag_DENW053.drop([4011,4012,4013,4014], axis=0, inplace=False)\n",
    "\n",
    "# Den Index zurücksetzen, damit python sich nicht die Lücken merkt\n",
    "daten_nacht_DENW053 = daten_nacht_DENW053.reset_index(drop=True)"
   ]
  },
  {
   "cell_type": "code",
   "execution_count": null,
   "metadata": {
    "colab": {
     "base_uri": "https://localhost:8080/",
     "height": 444
    },
    "id": "OASldir-ugWW",
    "outputId": "753dc4e7-4800-40a4-961f-361d77e925b3"
   },
   "outputs": [],
   "source": [
    "pd.DataFrame({'Tag-Datum': daten_tag_DENW053['Datum'],\n",
    "              'Tag-Uhrzeit': daten_tag_DENW053['Uhrzeit'],\n",
    "              'Nacht-Datum': daten_nacht_DENW053['Datum'],\n",
    "              'Nacht-Uhrzeit': daten_nacht_DENW053['Uhrzeit']})\n"
   ]
  },
  {
   "cell_type": "markdown",
   "metadata": {
    "id": "pA7LkQ8k1n1n"
   },
   "source": [
    "Die Werte passen nun paarweise zusammen. Da für die anderen Stationscodes der exakt selbe Zeitraum vorliegt, kann hier genau dasselbe vorgehen angewendet werden."
   ]
  },
  {
   "cell_type": "markdown",
   "metadata": {
    "id": "F7EHPnqRwAbP"
   },
   "source": [
    "### Datenpaarungen für Stationscode DENW212 erstellen"
   ]
  },
  {
   "cell_type": "code",
   "execution_count": null,
   "metadata": {
    "colab": {
     "base_uri": "https://localhost:8080/",
     "height": 461
    },
    "id": "r-zup40Zw4Nu",
    "outputId": "92ea8c8f-1c03-44ca-c9cc-336e0e50a42a"
   },
   "outputs": [],
   "source": [
    "# Die ersten 5 Einträge der Nacht rauswerfen\n",
    "daten_nacht_DENW212 = daten_nacht_DENW212.drop([0,1,2,3,4], axis=0, inplace=False)\n",
    "\n",
    "# die letzten 4 Einträge des Tages rauswerfen\n",
    "daten_tag_DENW212 = daten_tag_DENW212.drop([4011,4012,4013,4014], axis=0, inplace=False)\n",
    "\n",
    "# Den Index zurücksetzen, damit python sich nicht die Lücken merkt\n",
    "daten_nacht_DENW212 = daten_nacht_DENW212.reset_index(drop=True)\n",
    "\n",
    "pd.DataFrame({'Tag-Datum': daten_tag_DENW212['Datum'],\n",
    "              'Tag-Uhrzeit': daten_tag_DENW212['Uhrzeit'],\n",
    "              'Nacht-Datum': daten_nacht_DENW212['Datum'],\n",
    "              'Nacht-Uhrzeit': daten_nacht_DENW212['Uhrzeit']})"
   ]
  },
  {
   "cell_type": "markdown",
   "metadata": {
    "id": "TbC3VdDSwVTL"
   },
   "source": [
    "### Datenpaarungen für Stationscode DENW211 erstellen\n",
    "\n"
   ]
  },
  {
   "cell_type": "code",
   "execution_count": null,
   "metadata": {
    "colab": {
     "base_uri": "https://localhost:8080/",
     "height": 461
    },
    "id": "Pl9ItSkhy4EA",
    "outputId": "6ea3fd87-61cc-4214-820a-1bfc777565ef"
   },
   "outputs": [],
   "source": [
    "# Die ersten 5 Einträge der Nacht rauswerfen\n",
    "daten_nacht_DENW211 = daten_nacht_DENW211.drop([0,1,2,3,4], axis=0, inplace=False)\n",
    "\n",
    "# die letzten 4 Einträge des Tages rauswerfen\n",
    "daten_tag_DENW211 = daten_tag_DENW211.drop([4011,4012,4013,4014], axis=0, inplace=False)\n",
    "\n",
    "# Den Index zurücksetzen, damit python sich nicht die Lücken merkt\n",
    "daten_nacht_DENW211 = daten_nacht_DENW211.reset_index(drop=True)\n",
    "\n",
    "pd.DataFrame({'Tag-Datum': daten_tag_DENW211['Datum'],\n",
    "              'Tag-Uhrzeit': daten_tag_DENW211['Uhrzeit'],\n",
    "              'Nacht-Datum': daten_nacht_DENW211['Datum'],\n",
    "              'Nacht-Uhrzeit': daten_nacht_DENW211['Uhrzeit']})"
   ]
  },
  {
   "cell_type": "markdown",
   "metadata": {
    "id": "4_w9KRX3wVyz"
   },
   "source": [
    "### Datenpaarungen für Stationscode DENW059 erstellen"
   ]
  },
  {
   "cell_type": "code",
   "execution_count": null,
   "metadata": {
    "colab": {
     "base_uri": "https://localhost:8080/",
     "height": 461
    },
    "id": "rTt4pD-lzWvq",
    "outputId": "9c1de6e9-e4ba-4a26-93da-9717e652c196"
   },
   "outputs": [],
   "source": [
    "# Die ersten 5 Einträge der Nacht rauswerfen\n",
    "daten_nacht_DENW059 = daten_nacht_DENW059.drop([0,1,2,3,4], axis=0, inplace=False)\n",
    "\n",
    "# die letzten 4 Einträge des Tages rauswerfen\n",
    "daten_tag_DENW059 = daten_tag_DENW059.drop([4011,4012,4013,4014], axis=0, inplace=False)\n",
    "\n",
    "# Den Index zurücksetzen, damit python sich nicht die Lücken merkt\n",
    "daten_nacht_DENW059 = daten_nacht_DENW059.reset_index(drop=True)\n",
    "\n",
    "pd.DataFrame({'Tag-Datum': daten_tag_DENW059['Datum'],\n",
    "              'Tag-Uhrzeit': daten_tag_DENW059['Uhrzeit'],\n",
    "              'Nacht-Datum': daten_nacht_DENW059['Datum'],\n",
    "              'Nacht-Uhrzeit': daten_nacht_DENW059['Uhrzeit']})"
   ]
  },
  {
   "cell_type": "markdown",
   "metadata": {
    "id": "g5dHtyP4wItV"
   },
   "source": [
    "### Die Datensätze wieder zu einem Gesamt-Datensatz zusammensetzen:"
   ]
  },
  {
   "cell_type": "code",
   "execution_count": null,
   "metadata": {
    "colab": {
     "base_uri": "https://localhost:8080/",
     "height": 444
    },
    "id": "5cw0amADtP96",
    "outputId": "4143b6dc-dc0e-4d54-8b1d-01b3f39924a5"
   },
   "outputs": [],
   "source": [
    "# Je Stationscode ein DataFrame erstellen mit einer Spalte: Feinstaubwerte am Tag und einer Spalte: Feinstaubwerte in der Nacht\n",
    "daten_DENW053 = pd.DataFrame({'Feinstaub_Tag': daten_tag_DENW053['Feinstaub'],\n",
    "                              'Feinstaub_Nacht': daten_nacht_DENW053['Feinstaub']})\n",
    "\n",
    "daten_DENW212 = pd.DataFrame({'Feinstaub_Tag': daten_tag_DENW212['Feinstaub'],\n",
    "                              'Feinstaub_Nacht': daten_nacht_DENW212['Feinstaub']})\n",
    "\n",
    "daten_DENW211 = pd.DataFrame({'Feinstaub_Tag': daten_tag_DENW211['Feinstaub'],\n",
    "                              'Feinstaub_Nacht': daten_nacht_DENW211['Feinstaub']})\n",
    "\n",
    "daten_DENW059 = pd.DataFrame({'Feinstaub_Tag': daten_tag_DENW059['Feinstaub'],\n",
    "                              'Feinstaub_Nacht': daten_nacht_DENW059['Feinstaub']})\n",
    "\n",
    "# Die vier einzelnen Tabellen zu einer Gesamttabelle mit zwei Spalten zusammen fügen\n",
    "daten_gesamt = pd.concat([daten_DENW053, daten_DENW212, daten_DENW211, daten_DENW059], axis=0)\n",
    "\n",
    "# Wir fixen die Zeilennummerierung\n",
    "daten_gesamt.reset_index(drop=True, inplace=True)\n",
    "daten_gesamt"
   ]
  },
  {
   "cell_type": "markdown",
   "metadata": {
    "id": "M161EW9R36fM"
   },
   "source": [
    "Wir haben jetzt den benötigten Datensatz mit einer Spalte Feinstaubwerte am Tag und einer Spalte Feinstaubwerte in der Nacht so in der Tabelle abgelegt, dass die paarweise zusammengehörigen Werte jeweils in derselben Zeile liegen."
   ]
  },
  {
   "cell_type": "markdown",
   "metadata": {
    "id": "3sBz400VhRYd",
    "jp-MarkdownHeadingCollapsed": true
   },
   "source": [
    "## Unsere Experimentdaten"
   ]
  },
  {
   "cell_type": "markdown",
   "metadata": {
    "id": "23xksqowhZN1"
   },
   "source": [
    "Nach der Vorbereitung der Daten erhalten wir unsere Experimentdaten. Diese sind im DataFrame `daten_gesamt` abgelegt und umfassen 16044&nbsp;Datenpaare mit Feinstaubwerten für den Tag und die Nacht:"
   ]
  },
  {
   "cell_type": "code",
   "execution_count": null,
   "metadata": {
    "colab": {
     "base_uri": "https://localhost:8080/",
     "height": 424
    },
    "id": "lXQTnHQUu3qD",
    "outputId": "088007f3-3ba8-47eb-ce49-88dbc828ff09"
   },
   "outputs": [],
   "source": [
    "daten_gesamt"
   ]
  },
  {
   "cell_type": "markdown",
   "metadata": {
    "id": "AslHB0YgWbDw",
    "jp-MarkdownHeadingCollapsed": true
   },
   "source": [
    "## Signifikanzniveau festlegen"
   ]
  },
  {
   "cell_type": "markdown",
   "metadata": {
    "id": "MNZvmMH8ea-C"
   },
   "source": [
    "Mit einem Hypothesentest kann die Nullhypothese nie mit 100 %iger Sicherheit verworfen oder bestätigt werden. Es besteht immer eine Irrtumswahrscheinlichkeit. Das liegt daran, dass für die Analyse immer eine Stichprobe aus der Grundgesamtheit gezogen wird.\n",
    "\n",
    "Wir haben unsere Stichprobe so festgelegt, dass wir die stündlichen Werte von vier Kölner Messstationen über den Zeitraum eines Jahres betrachten. Eine andere Stichprobe (z. B. ein anderes Jahr oder eine andere Messstation) liefert vielleicht andere Ergebnisse. Daher ist jede Aussage über eine Hypothese immer mit einer Irrtumswahrscheinlichkeit behaftet.\n",
    "\n",
    "Diese Irrtumswahrscheinlichkeit wird als Signifikanzniveau ($α$) bezeichnet.\n",
    "Das **Signifikanzniveau** wird immer vor der Analyse festgelegt. Es liegt häufig zwischen 1&#8239;% und 5&#8239;%. Bei einem Signifikanzniveau von 5&#8239;% ($α=0,05$) besteht ein Risiko von 5&#8239;%, dass die Nullhypothese verworfen wird, obwohl sie eigentlich wahr ist.\n",
    "\n",
    "Für diese Untersuchung legen wir das Signifikanzniveau auf $α=0,05$."
   ]
  },
  {
   "cell_type": "markdown",
   "metadata": {
    "id": "y-iLN7wu4bo7",
    "jp-MarkdownHeadingCollapsed": true
   },
   "source": [
    "## Teststatistik berechnen"
   ]
  },
  {
   "cell_type": "markdown",
   "metadata": {
    "id": "8W4SvRaA_cX-"
   },
   "source": [
    "Unsere Teststatistik $S$ haben wir uns zuvor definiert als: die Anzahl der Datenpunkte, bei denen die Feinstaubbelastung am Tag höher ist als in der Nacht. Wir berechnen zunächst die Differenz zwischen den Tag- und Nachtwerten:"
   ]
  },
  {
   "cell_type": "code",
   "execution_count": null,
   "metadata": {
    "colab": {
     "base_uri": "https://localhost:8080/",
     "height": 363
    },
    "id": "qm5QYyQ__xEm",
    "outputId": "d12582d3-7b28-4e9d-e22e-d1b18bfbcbe8"
   },
   "outputs": [],
   "source": [
    "daten_gesamt['Feinstaub_Differenz'] = daten_gesamt['Feinstaub_Tag'] - daten_gesamt['Feinstaub_Nacht']\n",
    "\n",
    "daten_gesamt.head(n=10)"
   ]
  },
  {
   "cell_type": "markdown",
   "metadata": {
    "id": "1jbA5LlKrj0Z"
   },
   "source": [
    "Nun können wir die Anzahl $S$ der positiven differenzen zählen:"
   ]
  },
  {
   "cell_type": "code",
   "execution_count": null,
   "metadata": {
    "colab": {
     "base_uri": "https://localhost:8080/"
    },
    "id": "xioQOAXmAtbM",
    "outputId": "09f49b5e-61a6-4ba0-ead1-bb4fcfbb427f"
   },
   "outputs": [],
   "source": [
    "# Zähle, wie oft die Differenz positiv ist\n",
    "positiv = (daten_gesamt['Feinstaub_Differenz'] > 0).sum()\n",
    "negativ = (daten_gesamt['Feinstaub_Differenz'] < 0).sum()\n",
    "null = (daten_gesamt['Feinstaub_Differenz'] == 0).sum()\n",
    "\n",
    "# Ausgabe der Ergebnisse\n",
    "print(f\"Bei {positiv} Datenpaaren ist die Feinstaubbelastung am Tag größer als in der Nacht.\")\n",
    "print(f\"Bei {null} Datenpaaren ist die Feinstaubbelastung am Tag gleich der in der Nacht.\")\n",
    "print(f\"Bei {negativ} Datenpaaren ist die Feinstaubbelastung am Tag kleiner als in der Nacht.\")\n",
    "\n",
    "print(positiv + negativ)"
   ]
  },
  {
   "cell_type": "markdown",
   "metadata": {
    "id": "Nc9q_sPOj8W2"
   },
   "source": [
    "Unsere Betrachtung enthält drei Fälle: positive Differenz, negative Differenz, keine Differenz (die Feinstaubbelastung am Tag und in der Nacht sind gleich). Der Test, den wir verwenden, bzw. die dem Test zugrunde liegende Wahrscheinlichkeitsverteilung, berücksichtigt aber nur zwei Ergebnisse (Erfolg / Misserfolg).\n",
    "Um den Test durchführen zu können, muss also zunächst noch einmal überlegt werden, wie mit den Nulldifferenzen verfahren wird.\n",
    "\n",
    "Wir haben insgesamt $16 044$ Werte. Wenn wir sagen, unser $S$ sei $6 772$, &ndash; die Nullen also nicht berücksichtigt werden, &ndash; dann bedeutet dies, dass der Test von $16 044 -6 772 = 9 272$ negativen Differenzen ausgeht, obwohl $2 168$ davon eigentlich null sind.\n",
    "\n",
    "Umgekehrt können die Fälle, in denen die Differenz null war, auch noch den positiven Differenzen zugeschlagen werden &ndash; auch dies würde das Ergebnis verfälschen.\n",
    "\n",
    "Es bleiben die Möglichkeiten, die Nullen gleich auf beide Ergebnisse zu verteilen oder die Nullen für diesen Test außen vor zu lassen.\n",
    "\n",
    "Im Folgenden lassen wir die Differenzen die Null ergaben außen vor und betrachten somit $6772$&nbsp;positive und $6833$&nbsp;negative, &ndash; also insgesamt $13605$&nbsp;Fälle."
   ]
  },
  {
   "cell_type": "markdown",
   "metadata": {
    "id": "23R0_ckHBCnP"
   },
   "source": [
    "Nun liegt uns die Teststatistik $S$, die Anzahl der Datenpunkte, bei denen die Feinstaubbelastung am Tag höher ist als in der Nacht, vor:\n",
    "\n",
    "$S = 6772$"
   ]
  },
  {
   "cell_type": "markdown",
   "metadata": {
    "id": "Zx50kGfMeIqH",
    "jp-MarkdownHeadingCollapsed": true
   },
   "source": [
    "## Erste Betrachtung des Ergebnisses"
   ]
  },
  {
   "cell_type": "markdown",
   "metadata": {
    "id": "bv4r3yGe4fjZ"
   },
   "source": [
    "Unsere Experimentdaten umfassen $16 044$&nbsp;Datenpaare. Davon sind bei $6 772$&nbsp;Datenpaaren die Werte für den Tag größer als für die Nacht (positive Differenz) und bei $6 833$&nbsp;Datenpaaren sind die Werte in der Nacht größer (negative Differenz). Damit erhalten wir für unsere Teststatistik den Wert: $S=6 772$, die Anzahl der positiven Differenzen.\n",
    "\n",
    "Die positiven Differenzen könnten jetzt allerdings durch natürliche Schwankungen zu erklären sein (zufälliges Rauschen) oder dadurch, dass es vielleicht doch einen Unterschied zwischen der Feinstaubbelastung am Tag und in der Nacht gibt.\n",
    "\n",
    "Wir müssen nun herausfinden, ob der von uns ermittelte Wert $S$ auf ein zufälliges Rauschen zurückzuführen ist und wir die Nullhypothese nicht verwerfen können oder ob dieser Wert ausreicht, um zu belegen, dass es einen Unterschied zwischen der Feinstaubbelastug am Tag und in der Nacht gibt. Dafür schauen wir uns an, wie die $S$-Werte sich verteilen (Nullverteilung), wenn die Nullhypothese zutrifft."
   ]
  },
  {
   "cell_type": "markdown",
   "metadata": {
    "id": "5yFwL1IHS0hh",
    "jp-MarkdownHeadingCollapsed": true
   },
   "source": [
    "## Nullverteilung der Teststatistik bestimmen"
   ]
  },
  {
   "cell_type": "markdown",
   "metadata": {
    "id": "hV2xXeG8Wlow"
   },
   "source": [
    "Die Nullverteilung zeigt, wie wahrscheinlich das Auftreten eines bestimmten Wertes für $S$ ist, unter der Annahme, dass die Nullhypothese wahr ist, bzw. dass die Schwankungen im Vorzeichen auf Zufall beruhen. Die Nullverteilung ist also eine Wahrscheinlichkeitsverteilung.\n",
    "\n",
    "Die Nullverteilung des Vorzeichentests folgt einer **[Binomialverteilung](https://de.wikipedia.org/wiki/Bernoulli-Verteilung)**, da der Vorzeichentest im Wesentlichen auf dem Zählen von Erfolgen (positiven Differenzen) und Misserfolgen (negativen Differenzen) basiert, die zwei mögliche Ergebnisse darstellen – genau so wie bei einem binomialen Zufallsexperiment.\n",
    "\n",
    "Die Binomialverteilung ist eine der wichtigsten diskreten Wahrscheinlichkeitsverteilungen. Sie beschreibt die Wahrscheinlichkeiten für die Anzahl der Erfolge in einer Serie von gleichartigen Experimenten, die nur zwei mögliche Ergebnisse haben. Man nennt diese Art von Experimenten auch Binomisches Zufallsexperiment (oder Bernoulli Experiment)."
   ]
  },
  {
   "cell_type": "markdown",
   "metadata": {
    "id": "036DUGCKnZTi"
   },
   "source": [
    "#### **Optional**: Binomialverteilung (Hintergrund & Erklärung)"
   ]
  },
  {
   "cell_type": "markdown",
   "metadata": {
    "id": "TOt8l0r-ZiTh"
   },
   "source": [
    "Dies sind die Eigenschaften eines Binomischen Zufallsexperiments wie bspw. dem Münzwurf:\n",
    "\n",
    "*   **Anzahl der Versuche**: Man führt ein Experiment **n**-mal durch (z. B. man wirft  10-mal eine Münze).\n",
    "*   **Zwei mögliche Ergebnisse**: Bei jedem Experiment gibt es **nur zwei mögliche Ergebnisse**: Erfolg oder Misserfolg (z. B. Kopf oder Zahl bei einer Münze). Der Erfolg muss nicht unbedingt „gut“ sein; es geht nur darum, ein bestimmtes Ergebnis zu zählen.\n",
    "*   **Wahrscheinlichkeit eines Erfolgs**: Die Wahrscheinlichkeit eines Erfolgs bei jedem einzelnen Versuch ist immer dieselbe (z. B. bei einer fairen Münze liegt die Wahrscheinlichkeit Zahl zu werfen bei 50 % für Kopf).\n",
    "*   **Zählung der Erfolge**: Die Binomialverteilung sagt dir, wie wahrscheinlich es ist, dass du in diesen n Versuchen genau $k$&nbsp;Erfolge erzielst (z. B. wie wahrscheinlich es ist, bei zehn Münzwürfen genau 7-mal Kopf zu bekommen).\n",
    "\n",
    "Die Wahrscheinlichkeit, genau $k$&nbsp;Erfolge in $n$&nbsp; Versuchen zu bekommen, wird durch die Binomialformel berechnet.\n",
    "\n",
    "Wer sich weiter in die Binomialverteilung einlesen möchte kann dies hier tun:\n",
    "*   https://de.wikipedia.org/wiki/Binomialverteilung\n",
    "*   https://studyflix.de/statistik/binomialverteilung-1118\n",
    "\n",
    "\n",
    "Anschaulich lässt sich die Binomialverteilung anhand eines Galtonbetretts herleiten. Das Galtonbrett gleicht dabei einem Kugelspiel, bei dem man die Kugel oben in das Spiel wirft. Das Spiel hat **n**&nbsp;Ebenen mit **n**&nbsp;Hindernissen (wie bspw. einen Nagel), auf den die Kugel stößt und daraufhin mit einer Wahrscheinlichkeit von 50 % nach rechts bzw. nach links fällt.\n",
    "Betrachtet man alle möglichen Wege, die die Kugel dabei nehmen kann, dann kann man hieraus auch die Wahrscheinlichkeit ableiten, mit der ein bestimmtes 𝑆 (die Kugel fällt nach rechts) auftritt.\n",
    "\n",
    "Das Galtonbrett ist eine sehr anschauliche Methode, die Binomialverteilung zu erklären. Wer mehr zum Galtonbrett lesen möchte, kann diese hier tun:\n",
    "*   https://de.wikipedia.org/wiki/Galtonbrett\n",
    "\n"
   ]
  },
  {
   "cell_type": "markdown",
   "metadata": {
    "id": "rwcgBCN_u6Hi"
   },
   "source": [
    "#### **Optional**: Binomialverteilung am kleinen Beispiel"
   ]
  },
  {
   "cell_type": "markdown",
   "metadata": {
    "id": "2TMik2gCurgI"
   },
   "source": [
    "Um diese Verteilung besser verstehen zu können, schauen wir uns zunächst die Binomialverteilung für $p=0{,}5$ und $n=10$ an. Dies entspräche für unser Experiment der Fragestellung: Wir vergleichen zehn Datenpaare der Feinstaubbelastung unter der Annahme, dass es keinen Unterschied in der Feinstaubbelastung am Tag und in der Nacht gibt: wie wahrscheinlich ist es, dass die Differenz $k$-mal oder öfter positiv ist?\n",
    "\n",
    "Der folgende Code berechnet uns die zugehörige Binomialverteilung und erstellt einen Plot der berechneten Wahrscheinlichkeiten:"
   ]
  },
  {
   "cell_type": "code",
   "execution_count": null,
   "metadata": {
    "colab": {
     "base_uri": "https://localhost:8080/",
     "height": 90
    },
    "id": "sgwoUZpvhg4Y",
    "outputId": "a17da22e-d907-4636-f6b5-7da95937a4bb"
   },
   "outputs": [],
   "source": [
    "import numpy as np\n",
    "import matplotlib.pyplot as plt\n",
    "from scipy.stats import binom\n",
    "\n",
    "# Parameter der Binomialverteilung\n",
    "n = 10  # Anzahl der Versuche\n",
    "wkeit = 0.5    # Wahrscheinlichkeit für Erfolg\n",
    "\n",
    "# Welche möglichen Ergebnisse kann das Experiment haben?\n",
    "# Erstelle einen Vektor mit den Werten von 0 bis 10\n",
    "S = np.arange(0, n+1)\n",
    "\n",
    "# Berechnung der Binomialverteilung\n",
    "# Wie zuvor beschrieben ist die Binomialverteilung über eine Formel berechenbar.\n",
    "# Die Funktion pmf im scipy.stats Paket berechnet die Wahrscheinlichkeiten für\n",
    "# die verschiedenen Werte, die S annehmen könnte unter Angabe der\n",
    "# Anzahl Versuche (n) und der Wahrscheinlichkeit (wkeit) für einen Erfolg.\n",
    "binom_dist_klein = binom.pmf(S, n, wkeit)\n",
    "\n",
    "print(binom_dist_klein)\n",
    "\n",
    "# Die folgenden Zeilen erstellen den Plot, der die Wahrscheinlichkeiten für das\n",
    "# Auftreten eines bestimmten Wertes für S zeigt.\n",
    "plt.figure(figsize=(10, 6))\n",
    "plt.bar(S, binom_dist_klein, width=0.8, color='skyblue', edgecolor='black')\n",
    "plt.title(f'Binomialverteilung für p = {wkeit} und n = {n}')\n",
    "plt.xlabel('Anzahl der Paare mit positiven Differenzen')\n",
    "plt.ylabel('Wahrscheinlichkeit')\n",
    "plt.grid(True)\n",
    "plt.show()"
   ]
  },
  {
   "cell_type": "markdown",
   "metadata": {
    "id": "bL1Ivd85N4yN"
   },
   "source": [
    "Der Plot zeigt, mit welcher Wahrscheinlichkeit bei unserem Experiment ein bestimmter Wert für $S$ herauskommt &nbsp; unter der Annahme, dass die Nullhypothese gilt.\n",
    "\n",
    "Für unser Mini-Experiment, bei dem wir nur zehn Datenpaare betrachten, gibt es elf mögliche Werte, die unser $S$ annehmen kann: $0, 1, 2, \\ldots, 10$.\n",
    "Wenn die Nullhypthese zutrifft, dann sind Ergebnisse für $S$ von etwa $4$, $5$ oder $6$ am wahrscheinlichsten. Abweichungen zu den Randbereichen in beiden Richtungen sind unwahrscheinlicher."
   ]
  },
  {
   "cell_type": "code",
   "execution_count": null,
   "metadata": {
    "colab": {
     "base_uri": "https://localhost:8080/"
    },
    "id": "OkHzKo1WHxSC",
    "outputId": "ce855c73-88cc-44b4-9367-03b847332d27"
   },
   "outputs": [],
   "source": [
    "# Die zugehörigen Werte sind in dem array 'binom_dist_klein' hinterlegt.\n",
    "# Wir lassen uns die dargestellten Werte ausgeben:\n",
    "\n",
    "print(\"  S    Wahrscheinlichkeit\")\n",
    "print(\"------------\")\n",
    "for i, wkeit in enumerate(binom_dist_klein):\n",
    "    # Gib i zweistellig aus und die Wahrscheinlichkeitswerte mit 6 Stellen\n",
    "    # vor und 2 nach dem Komma\n",
    "    print(f\"{i:2} {wkeit*100:6.2f} %\")"
   ]
  },
  {
   "cell_type": "markdown",
   "metadata": {
    "id": "Hr9wKf4Qi_tb"
   },
   "source": [
    "Mithilfe der Binomialverteilung lässt sich sagen, mit welcher Wahrscheinlichkeit ein bestimmtes $S$ erwartet werden kann. In der vorangegangenen Ausgabe sind die Wahrscheinlichkeiten für alle möglichen Werte, die $S$ annehmen könnte, aufgelistet. Die Summe dieser Wahrscheinlichkeiten ist immer&nbsp;1 (sicheres Ereignis).\n",
    "\n",
    "Angenommen die Frage lautet: &#x202e;Wie wahrscheinlich ist es, dass die Differenz in 8 oder mehr Fällen positiv ist?&#x202c; Dann erhalten wir die Antwort durch die Aufsummierung der letzten drei Balken:\n",
    "\n",
    "Die Werte sind: $0{,}0439 + 0{,}0098 + 0{,}001 = 0{,}0547$; und das entspricht einer Wahrscheinlichkeit von 5,47 %, dass, &mdash; wenn die Nullhypothese zutrifft, &mdash; ein $S$ von 8 oder größer auftritt."
   ]
  },
  {
   "cell_type": "markdown",
   "metadata": {
    "id": "jfOvgpcF20Xc"
   },
   "source": [
    "#### Nullverteilung der Teststatistik bestimmen"
   ]
  },
  {
   "cell_type": "markdown",
   "metadata": {
    "id": "fr2fMrVQkWib"
   },
   "source": [
    "Im Falle unseres Experimentes betrachten wir einen Datensatz von 16 044&nbsp;Datenpaaren. Die Nullverteilung liegt der Annahme zugrunde, dass die Nullhypothese stimmt. Das bedeutet, dass positive und negative Vorzeichen bei der Differenzbildung nur dem Zufall zuzuschreiben sind, und wir also mit gleicher Wahrscheinlichkeit positive wie negative Vorzeichen erwarten (Wahrscheinlichkeit $p = 0{,}5$).\n",
    "\n",
    "Der folgende Code generiert die Binomialverteilung für unser Experiment:"
   ]
  },
  {
   "cell_type": "code",
   "execution_count": null,
   "metadata": {
    "colab": {
     "base_uri": "https://localhost:8080/",
     "height": 235
    },
    "id": "ENi885MGe-tV",
    "outputId": "a9eddcc3-7987-4506-8bd4-faff360acf16"
   },
   "outputs": [],
   "source": [
    "import numpy as np\n",
    "import matplotlib.pyplot as plt\n",
    "from scipy.stats import binom\n",
    "\n",
    "# Parameter der Binomialverteilung\n",
    "n = positiv + negativ  # Anzahl der Versuche\n",
    "wkeit = 0.5    # Wahrscheinlichkeit für Erfolg\n",
    "\n",
    "# Welche möglichen Ergebnisse kann das Experiment haben?\n",
    "# Erstelle einen Vektor mit den Werten von 0 bis 16044\n",
    "x = np.arange(0, n + 1)\n",
    "\n",
    "# Berechnung der Binomialverteilung\n",
    "# Wie zuvor beschrieben ist die Binomialverteilung über eine Formel berechenbar.\n",
    "# Die Funktion pmf im scipy.stats Paket berechnet die Wahrscheinlichkeiten für\n",
    "# die verschiedenen Werte, die S annehmen könnte unter Angabe der\n",
    "# Anzahl Versuche (n) und der Wahrscheinlichkeit (wkeit) für einen Erfolg.\n",
    "binom_dist = binom.pmf(x, n, wkeit)"
   ]
  },
  {
   "cell_type": "markdown",
   "metadata": {
    "id": "BiC8Gn2O9hF_"
   },
   "source": [
    "#### Nullverteilung plotten"
   ]
  },
  {
   "cell_type": "code",
   "execution_count": null,
   "metadata": {
    "colab": {
     "base_uri": "https://localhost:8080/",
     "height": 253
    },
    "id": "gxiED8NW9mLY",
    "outputId": "8a3f7ee7-4586-4405-d1fc-de2f462e691b"
   },
   "outputs": [],
   "source": [
    "# Plot des Balkendiagramms\n",
    "plt.figure(figsize=(10, 6))\n",
    "plt.bar(x, binom_dist, width=1.0, color='skyblue', edgecolor='black')\n",
    "\n",
    "# Den Balken bei Index 6770 rot markieren\n",
    "plt.bar(x[6770], binom_dist[6770], width=1.0, color='lightblue', edgecolor='lightblue')\n",
    "\n",
    "plt.title(f'Binomialverteilung für p = {wkeit} und n = {n}')\n",
    "plt.xlabel('S - Anzahl der Paare mit positiven Differenzen')\n",
    "plt.ylabel('Wahrscheinlichkeit')\n",
    "\n",
    "# Wir Zoomen auf den Mittleren Bereichs des Plots, da die Wahrscheinlichkeiten\n",
    "# weiter ausserhalb aufgrund der sehr großen Datenmengen sehr schnell sehr klein\n",
    "# werden.\n",
    "# Die folgende Zeile auskommentieren um den gesamten Plot zu sehen:\n",
    "plt.xlim(n//2 - 200, n//2 + 200)\n",
    "\n",
    "# Mit der folgenden Zeile kann man den angezeigten Bereich der Y-Achse festlegen\n",
    "#plt.ylim(0, 0.00000025)\n",
    "\n",
    "plt.grid(True)\n",
    "plt.show()"
   ]
  },
  {
   "cell_type": "markdown",
   "metadata": {
    "id": "fTQ-Rjoz3yvI"
   },
   "source": [
    "Der Plot zeigt die Nullverteilung der Teststatistik. Die Wahrscheinlichkeit für ein $S$ von 6770 ist im Plot hellblau markiert."
   ]
  },
  {
   "cell_type": "markdown",
   "metadata": {
    "id": "8rpLVWqWClE6",
    "jp-MarkdownHeadingCollapsed": true
   },
   "source": [
    "## Annahme und Ablehungsbereich für die Nullhypothese bestimmen"
   ]
  },
  {
   "cell_type": "markdown",
   "metadata": {
    "id": "NPNFYHUXGKke"
   },
   "source": [
    "Mit der Festlegung des Signifikanzniveaus auf $α=0{,}05$ sagen wir, dass wir einen Unterschied in der Feinstaubbelastung zwischen Tag und Nacht annehmen (also die Nullhypothese verwerfen), wenn die Wahrscheinlichkeit für einen reinen Zufallsbefund kleiner als das Signifikanzniveau, also z. B. 5 % ist.\n",
    "\n",
    "Für welche Werte von 𝑆 trifft das zu?\n"
   ]
  },
  {
   "cell_type": "markdown",
   "metadata": {
    "id": "cejECx6DJRA6"
   },
   "source": [
    "#### **Optional**: Annahme und Ablehnungsbereich am kleinen Beispiel"
   ]
  },
  {
   "cell_type": "markdown",
   "metadata": {
    "id": "7JarMRyfJYNb"
   },
   "source": [
    "Wir schauen uns zunächst noch einmal unser stark reduziertes Problem an, in dem wir nur 10 Datenpunkte betrachten. Im Abschnitt &201e;Binomialverteilung am kleinen Beispiel&201c; haben wir die Wahrscheinlichkeiten für die verschiedenen Werte die $S$ in diesem Fall annehmen kann, bereits bestimmt. Sie sind in der Variable `binom_dist_klein` hinterlegt.\n",
    "\n",
    "Unser Signifikanzniveau haben wir auf $\\alpha = 0{,}05$ (5 Prozent) festgelegt."
   ]
  },
  {
   "cell_type": "markdown",
   "metadata": {
    "id": "jUSBTctXNFPC"
   },
   "source": [
    "Mit diesem Wissen können wir nun unsere zuletzt formulierte Frage beantworten.\n",
    "Die Nullhypothese wird abgelehnt, wenn unser Experiment einen Wert für $S$ erzielt, bei dem gilt, dass die Wahrscheinlichkeit einen solchen oder extremeren Wert zu erzielen, kleiner als 5 % ist.\n",
    "\n",
    "Wir summieren die Werte vom Rand her auf, um zu schauen wie weit wir gehen können, bevor wir die 5 % überschreiten. Achtung: Wir müssen beide Randbereiche berücksichtigen."
   ]
  },
  {
   "cell_type": "code",
   "execution_count": null,
   "metadata": {
    "colab": {
     "base_uri": "https://localhost:8080/"
    },
    "id": "3Wrdjc3F-jW4",
    "outputId": "011533c8-43d0-42cd-ecb7-977998d05e0d"
   },
   "outputs": [],
   "source": [
    "# Wir betrachten die beiden Falle, dass S=0 oder dass S=10 ist.\n",
    "# Die Summe der Wahrscheinlichkeiten für diese beiden Fälle\n",
    "# können wir wie folgt berechnen:\n",
    "wkeit_0_10 = binom_dist_klein[0] + binom_dist_klein[10]\n",
    "print(f\"Die Wahrscheinlichkeit, das S=0 oder S=10 ist beträgt: {wkeit_0_10}\")\n",
    "\n",
    "# Bei 0 und 10 sind wir eindeutig noch im Ablehnungsbreich. Wir nehmen noch\n",
    "# die Wahrscheinlichkeiten für 1 und 9 mit auf:\n",
    "wkeit_0_1_9_10 = binom_dist_klein[0] + binom_dist_klein[1] + binom_dist_klein[9] + binom_dist_klein[10]\n",
    "print(f\"Die Wahrscheinlichkeit, das S <= 1 oder S>=9 ist beträgt: {wkeit_0_1_9_10}\")\n",
    "\n",
    "# Auch damit sind wir noch im Ablehnungsbereich. Wir nehmen noch die 2 und\n",
    "# die 8 hinzu:\n",
    "wkeit_0_1_2_8_9_10 = binom_dist_klein[0] + binom_dist_klein[1] + binom_dist_klein[2] + binom_dist_klein[8] + binom_dist_klein[9] + binom_dist_klein[10]\n",
    "print(f\"Die Wahrscheinlichkeit, das S<=2 oder S>=8 ist beträgt: {wkeit_0_1_2_8_9_10}\")\n",
    "\n",
    "print(\"\\nHier haben wir die 5 % eindeutig überschritten. Wir wissen jetzt, \\ndass wir unsere Nullhypothese in diesem Fall ablehnen, wenn wir \\nein S aus {0,1,9,10} erhalten.\")"
   ]
  },
  {
   "cell_type": "markdown",
   "metadata": {
    "id": "0lOlvyyJDF4e"
   },
   "source": [
    "So sieht es aus, wenn wir die Summen von Hand berechnen. Bei großen Experimenten verwenden wir stattdessen eine Funktion, die uns die kumulierten Summen berechnet:"
   ]
  },
  {
   "cell_type": "code",
   "execution_count": null,
   "metadata": {
    "colab": {
     "base_uri": "https://localhost:8080/"
    },
    "id": "2Ck9aRCXCtOB",
    "outputId": "0062b3a4-977e-47ef-cab8-f999508c4b9b"
   },
   "outputs": [],
   "source": [
    "# Das Paket numpy hat die Funktion cumsum, die die Beträge kumuliert:\n",
    "binom_dist_cumsum = np.cumsum(binom_dist_klein)\n",
    "\n",
    "# Wir lassen uns die berechneten Werte ausgeben:\n",
    "\n",
    "print(\"  S    Kumulierte Wahrscheinlichkeit\")\n",
    "print(\"------------\")\n",
    "for i, summe in enumerate(binom_dist_cumsum):\n",
    "    # Gib i zweistellig aus und die Wahrscheinlichkeitswerte mit 6 Stellen\n",
    "    # vor und 2 nach dem Komma\n",
    "    print(f\"{i:2} {summe*100:6.2f} %\")"
   ]
  },
  {
   "cell_type": "markdown",
   "metadata": {
    "id": "pHV23aoSDgxn"
   },
   "source": [
    "Hier können wir jetzt direkt ablesen, dass bei $S = 2$ die kumulierte Wahrscheinlichkeit die 2,5 % bereits überschritten hat. Da die Funktion symmetrisch ist, haben wir, zusammen mit dem oberen Randbereich, bei $S = 2$ oder $S = 8$, unsere also 5 % bereits überschritten.\n",
    "\n",
    "Unser Ablehungsbereich ist also $S = {0, 1, 9, 10}$.\n",
    "Der folgende Plot zeigt den Ablehnungsbereich für unser kleines Beispiel mit rot markierten Balken."
   ]
  },
  {
   "cell_type": "code",
   "execution_count": null,
   "metadata": {
    "colab": {
     "base_uri": "https://localhost:8080/",
     "height": 54
    },
    "id": "zvePR0ZCuOQb",
    "outputId": "77a64ee8-3313-4a03-9a5d-1b914c02a68e"
   },
   "outputs": [],
   "source": [
    "# Die folgenden Zeilen erstellen den Plot, der die Wahrscheinlichkeiten für das\n",
    "# Auftreten eines bestimmten Wertes für S zeigt.\n",
    "plt.figure(figsize=(10, 6))\n",
    "plt.bar(S, binom_dist_klein, width=0.8, color='skyblue', edgecolor='black')\n",
    "\n",
    "# Den Ablehnungsbereich rot markieren\n",
    "plt.bar(x[0], binom_dist_klein[0], width=0.8, color='red', edgecolor='black')\n",
    "plt.bar(x[1], binom_dist_klein[1], width=0.8, color='red', edgecolor='black')\n",
    "plt.bar(x[9], binom_dist_klein[9], width=0.8, color='red', edgecolor='black')\n",
    "plt.bar(x[10], binom_dist_klein[10], width=0.8, color='red', edgecolor='black')\n",
    "\n",
    "plt.title(f'Binomialverteilung für p = {wkeit} und n = {n}')\n",
    "plt.xlabel('S - Anzahl der Paare mit positiven Differenzen')\n",
    "plt.ylabel('Wahrscheinlichkeit')\n",
    "plt.grid(True)\n",
    "plt.show()"
   ]
  },
  {
   "cell_type": "markdown",
   "metadata": {
    "id": "THS1bBZtJgPW"
   },
   "source": [
    "#### Annahme und Ablehnungsbereich bestimmen\n"
   ]
  },
  {
   "cell_type": "markdown",
   "metadata": {
    "id": "n3Tv4pA9Jl7y"
   },
   "source": [
    "Wie auch im kleinen Beispiel müssen wir auch hier die Werte vom Rand her aufsummieren, um zu schauen, wie weit wir gehen können, bevor wir die 5 % überschreiten. Da wir hier sehr viele Werte betrachten müssen, machen wir dies nicht von Hand. Stattdessen berechen wir die kumulierten Summen direkt für alle Werte und schauen dann, ann welcher Stelle wir die 2,5 % am unteren und die 97,5 % am oberen Rand der Kurve überschreiten."
   ]
  },
  {
   "cell_type": "code",
   "execution_count": null,
   "metadata": {
    "colab": {
     "base_uri": "https://localhost:8080/"
    },
    "id": "alS8wNUUECuh",
    "outputId": "83be5df8-17c7-4013-a539-bf4b098d66e6"
   },
   "outputs": [],
   "source": [
    "# Das Paket numpy hat die Funktion cumsum, die die Beträge kumuliert:\n",
    "binom_dist_cumsum = np.cumsum(binom_dist)\n",
    "\n",
    "# Nun müssen wir schauen, wann die kumulierten Wahrscheinlichkeiten die 2,5 %\n",
    "# überschreiten:\n",
    "# Bestimmen des ersten Index, an dem der Wert größer als 0,025 ist\n",
    "first_index_greater_than_0_025 = np.argmax(binom_dist_cumsum > 0.025)\n",
    "\n",
    "print(first_index_greater_than_0_025)\n",
    "\n",
    "last_index_smaller_than_0_975 = np.argmin(binom_dist_cumsum < 0.975)\n",
    "\n",
    "print(last_index_smaller_than_0_975)\n"
   ]
  },
  {
   "cell_type": "markdown",
   "metadata": {
    "id": "rKnIMQzSEzn7"
   },
   "source": [
    "Bei 6688 sind die 2,5% überschritten. Da die Binomialverteilung symmetrisch ist, haben wir am oberen Rand der Kurve die 2,5 % an derselben Stelle ($1 3605 - 6 688 = 6 917$) auch überschritten.\n",
    "\n",
    "Der Ablehnungsbereich ist also der Bereich für $S=[0; 6688]~ \\cup ~[6917; 13606]$.\n",
    "Der folgende Plot zeigt diesen Bereich in rot markiert.\n",
    "\n",
    "S betrachten."
   ]
  },
  {
   "cell_type": "code",
   "execution_count": null,
   "metadata": {
    "colab": {
     "base_uri": "https://localhost:8080/",
     "height": 72
    },
    "id": "ROg5qGw2Q5RL",
    "outputId": "0e153308-51ce-42f5-cbe8-0b68f6e09ee3"
   },
   "outputs": [],
   "source": [
    "# Plot des Balkendiagramms\n",
    "plt.figure(figsize=(10, 6))\n",
    "plt.bar(x, binom_dist, width=1.0, color='skyblue', edgecolor='black')\n",
    "\n",
    "print(len(binom_dist))\n",
    "\n",
    "# Den Ablehnungsbereich rot markieren\n",
    "plt.bar(x[0:6689], binom_dist[0:6689], width=0.8, color='red', edgecolor='red')\n",
    "plt.bar(x[6917:13606], binom_dist[6917:13606], width=0.8, color='red', edgecolor='red')\n",
    "\n",
    "# Den Balken bei Index 6770 blau markieren\n",
    "plt.bar(x[6770], binom_dist[6770], width=1.0, color='lightblue', edgecolor='lightblue')\n",
    "\n",
    "\n",
    "plt.title(f'Binomialverteilung für p = {wkeit} und n = {n}')\n",
    "plt.xlabel('S - Anzahl der Paare mit positiven Differenzen')\n",
    "plt.ylabel('Wahrscheinlichkeit')\n",
    "\n",
    "# Wir Zoomen auf den Mittleren Bereichs des Plots, da die Wahrscheinlichkeiten\n",
    "# weiter ausserhalb aufgrund der sehr großen Datenmengen sehr schnell sehr klein\n",
    "# werden.\n",
    "# Die folgende Zeile auskommentieren um den gesamten Plot zu sehen:\n",
    "plt.xlim(n//2 - 200, n//2 + 200)\n",
    "\n",
    "# Mit der folgenden Zeile kann man den angezeigten Bereich der Y-Achse festlegen\n",
    "#plt.ylim(0, 0.00000025)\n",
    "\n",
    "plt.grid(True)\n",
    "plt.show()"
   ]
  },
  {
   "cell_type": "markdown",
   "metadata": {
    "id": "NJ0bK5L4SRWh"
   },
   "source": [
    "Unser Ablehnungsbereich ist im obigen Plot nun rot markiert. Wenn wir beim Auszählen der positiven Differenzen ein $S$ erhalten hätten, das in in diesen Bereich fällt, dann hätten wir die Nullhypothese verwerfen können und unsere Alternativhypothese annehmen können.\n",
    "Unser $S=6 770$ ist im Plot hellblau markiert und liegt nicht im Ablehnungsbereich, d. h. wir können die Nullhypothese nicht ablehnen.\n",
    "\n",
    "Wir können die Nullhypothese auch nicht als richtig annehmen. Der Grund liegt in der Irrtumswahrscheinlichkeit: Wenn wir die Nullhypothese ablehnen können, wissen wir ganz genau, mit welcher Wahrscheinlichkeit wir einen Fehler machen (Fehler 1. Art, s. u.) &mdash; ja, mehr noch, wir können diese Wahrscheinlichkeit sogar steuern, (denn wir legen sie über das Signifikanzniveau selbst fest). In diesem Fall aber, in dem wir die Nullhypothese nicht ablehnen können, kann uns der Test natürlich auch nicht garantieren, dass die Beobachtungen wirklich nur auf Zufall beruhen. Es könnte auch ein ganz kleiner Effekt vorhanden sein, der aber im Zufallsrauschen untergeht. Leider kennen wir in diesem Fall die Wahrscheinlichkeit für einen Irrtum nicht. Daher können wir nicht bewerten, ob das Risiko für einen Irrtun (Fehler 2. Art, s. u.) akzeptabel ist oder nicht.  Wir können an dieser Stelle nur sagen, dass das Experiment oder die Datenlage nicht aussagekräftig genug ist, um den Effekt erkennbar zu machen. Dies wird im Folgenden noch erklärt.\n",
    "\n",
    "Das bedeutet, dass wir aus diesem Experiment keine neuen Erkenntnisse gewinnen konnten. Das wäre nur gelungen, wenn wir die Nullhypothese hätten ablehnen können."
   ]
  }
 ],
 "metadata": {
  "colab": {
   "collapsed_sections": [
    "F7EHPnqRwAbP",
    "TbC3VdDSwVTL",
    "4_w9KRX3wVyz",
    "3sBz400VhRYd",
    "AslHB0YgWbDw",
    "y-iLN7wu4bo7"
   ],
   "include_colab_link": true,
   "provenance": []
  },
  "kernelspec": {
   "display_name": "Python 3 (ipykernel)",
   "language": "python",
   "name": "python3"
  },
  "language_info": {
   "codemirror_mode": {
    "name": "ipython",
    "version": 3
   },
   "file_extension": ".py",
   "mimetype": "text/x-python",
   "name": "python",
   "nbconvert_exporter": "python",
   "pygments_lexer": "ipython3",
   "version": "3.11.5"
  }
 },
 "nbformat": 4,
 "nbformat_minor": 4
}
