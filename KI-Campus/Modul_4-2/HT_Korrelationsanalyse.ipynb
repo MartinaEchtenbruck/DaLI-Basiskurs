{
  "cells": [
    {
      "cell_type": "markdown",
      "metadata": {
        "id": "view-in-github",
        "colab_type": "text"
      },
      "source": [
        "<a href=\"https://colab.research.google.com/github/MartinaEchtenbruck/DaLI-Basiskurs/blob/main/KI-Campus/Modul_4-2/HT_Korrelationsanalyse.ipynb\" target=\"_parent\"><img src=\"https://colab.research.google.com/assets/colab-badge.svg\" alt=\"Open In Colab\"/></a>"
      ]
    },
    {
      "cell_type": "markdown",
      "metadata": {
        "id": "pxBpJrBndiTJ"
      },
      "source": [
        "# Hypothesentest: Korrelationsanalyse\n",
        "\n",
        "In diesem Jupyter Notebook werden wir die Hypothese 2, die wir in Modul 2 formuliert haben, untersuchen.\n",
        "\n",
        "Dafür werden wir alle Schritte, die Sie bereits für den Vorzeichentest kennengelernt haben durcharbeiten:\n",
        "\n",
        "\n",
        "1.   Formulierung der Nullhypothese und der Alternativhypothese\n",
        "2.   Teststatistik wählen\n",
        "3.   Signifikanzniveau festlegen\n",
        "4.   Nullverteilung der Teststatistik bestimmen\n",
        "5.   Annahme und Ablehnungsbereich für die Nullhypothese bestimmen\n",
        "6.   Teststatistik berechnen\n",
        "7.   Das Ergebnis der Studie gemäß den Vorgaben aus 3. + 5. ermitteln.\n",
        "\n",
        "Im Folgenden möchten wir unsere aufgestellten Hypothesen nun untersuchen und werden dazu die aufgeführten Schritte durchführen.\n",
        "Versuchen Sie die Schritte nachzuvollziehen und soweit möglich auf Ihre eigenen Hypothesen anzuwenden.\n",
        "\n",
        "---\n",
        "\n",
        "**Bitte beachten** Sie, dass die enthaltenen Codezeilen ausgeführt werden müssen. Wir empfehlen Ihnen, alle Codezeilen vor der Ausführung auszuführen. Wählen Sie dazu im Menü \"Cell\" den Punkt \"Run all\"."
      ]
    },
    {
      "cell_type": "markdown",
      "source": [
        "### Einlesen der Daten"
      ],
      "metadata": {
        "id": "C9x9TSWcJ7k8"
      }
    },
    {
      "cell_type": "markdown",
      "source": [
        "Um unsere Hypothesen im Folgenden zu überprüfen, starten wir zunächst mit dem Einlesen unserer Daten."
      ],
      "metadata": {
        "id": "rWNl2mqKz49a"
      }
    },
    {
      "cell_type": "code",
      "execution_count": null,
      "metadata": {
        "id": "oF6WYN9zQgiT",
        "colab": {
          "base_uri": "https://localhost:8080/"
        },
        "outputId": "db3b669a-ba3d-466d-faa2-ad8395cbdc28"
      },
      "outputs": [
        {
          "output_type": "execute_result",
          "data": {
            "text/plain": [
              "      Stationscode       Datum Uhrzeit  Feinstaub  Ozon  Stickstoffdioxid  \\\n",
              "0          DENW053  01.11.2020   01:00       13.0  45.0               9.0   \n",
              "1          DENW053  01.11.2020   02:00       13.0  33.0              13.0   \n",
              "2          DENW053  01.11.2020   03:00       13.0  28.0              13.0   \n",
              "3          DENW053  01.11.2020   04:00       13.0  41.0               7.0   \n",
              "4          DENW053  01.11.2020   05:00       13.0  46.0               7.0   \n",
              "...            ...         ...     ...        ...   ...               ...   \n",
              "35039      DENW059  31.10.2021   21:00        6.0  51.0               9.0   \n",
              "35040      DENW059  31.10.2021   22:00        6.0  59.0               7.0   \n",
              "35041      DENW059  31.10.2021   23:00        6.0  45.0               NaN   \n",
              "35042      DENW059  01.11.2021   24:00        6.0  39.0               9.0   \n",
              "35043      DENW059  01.11.2021   01:00        6.0  30.0              11.0   \n",
              "\n",
              "      Luftqualitätsindex  Temperatur-mean  Temperatur-min  Temperatur-max  \\\n",
              "0               sehr gut             15.5            12.8            18.2   \n",
              "1               sehr gut             15.5            12.8            18.2   \n",
              "2               sehr gut             15.5            12.8            18.2   \n",
              "3               sehr gut             15.5            12.8            18.2   \n",
              "4               sehr gut             15.5            12.8            18.2   \n",
              "...                  ...              ...             ...             ...   \n",
              "35039           sehr gut             13.0             9.0            17.9   \n",
              "35040           sehr gut             13.0             9.0            17.9   \n",
              "35041           sehr gut             13.0             9.0            17.9   \n",
              "35042           sehr gut              NaN             NaN             NaN   \n",
              "35043           sehr gut              NaN             NaN             NaN   \n",
              "\n",
              "       Niederschlag  Schneefall  Windrichtung  Windgeschwindigkeit  \\\n",
              "0               2.3         0.0         214.4                 30.5   \n",
              "1               2.3         0.0         214.4                 30.5   \n",
              "2               2.3         0.0         214.4                 30.5   \n",
              "3               2.3         0.0         214.4                 30.5   \n",
              "4               2.3         0.0         214.4                 30.5   \n",
              "...             ...         ...           ...                  ...   \n",
              "35039          11.6         0.0         172.1                 17.0   \n",
              "35040          11.6         0.0         172.1                 17.0   \n",
              "35041          11.6         0.0         172.1                 17.0   \n",
              "35042           NaN         NaN           NaN                  NaN   \n",
              "35043           NaN         NaN           NaN                  NaN   \n",
              "\n",
              "       Spitzenwindboe  Luftdruck  Sonnenminuten  \n",
              "0                63.0     1012.0            0.0  \n",
              "1                63.0     1012.0            0.0  \n",
              "2                63.0     1012.0            0.0  \n",
              "3                63.0     1012.0            0.0  \n",
              "4                63.0     1012.0            0.0  \n",
              "...               ...        ...            ...  \n",
              "35039            78.0     1003.9           71.0  \n",
              "35040            78.0     1003.9           71.0  \n",
              "35041            78.0     1003.9           71.0  \n",
              "35042             NaN        NaN            NaN  \n",
              "35043             NaN        NaN            NaN  \n",
              "\n",
              "[35044 rows x 17 columns]"
            ],
            "text/html": [
              "\n",
              "  <div id=\"df-5b1b2b5e-7af4-46fa-a72a-a640ab15d9fa\" class=\"colab-df-container\">\n",
              "    <div>\n",
              "<style scoped>\n",
              "    .dataframe tbody tr th:only-of-type {\n",
              "        vertical-align: middle;\n",
              "    }\n",
              "\n",
              "    .dataframe tbody tr th {\n",
              "        vertical-align: top;\n",
              "    }\n",
              "\n",
              "    .dataframe thead th {\n",
              "        text-align: right;\n",
              "    }\n",
              "</style>\n",
              "<table border=\"1\" class=\"dataframe\">\n",
              "  <thead>\n",
              "    <tr style=\"text-align: right;\">\n",
              "      <th></th>\n",
              "      <th>Stationscode</th>\n",
              "      <th>Datum</th>\n",
              "      <th>Uhrzeit</th>\n",
              "      <th>Feinstaub</th>\n",
              "      <th>Ozon</th>\n",
              "      <th>Stickstoffdioxid</th>\n",
              "      <th>Luftqualitätsindex</th>\n",
              "      <th>Temperatur-mean</th>\n",
              "      <th>Temperatur-min</th>\n",
              "      <th>Temperatur-max</th>\n",
              "      <th>Niederschlag</th>\n",
              "      <th>Schneefall</th>\n",
              "      <th>Windrichtung</th>\n",
              "      <th>Windgeschwindigkeit</th>\n",
              "      <th>Spitzenwindboe</th>\n",
              "      <th>Luftdruck</th>\n",
              "      <th>Sonnenminuten</th>\n",
              "    </tr>\n",
              "  </thead>\n",
              "  <tbody>\n",
              "    <tr>\n",
              "      <th>0</th>\n",
              "      <td>DENW053</td>\n",
              "      <td>01.11.2020</td>\n",
              "      <td>01:00</td>\n",
              "      <td>13.0</td>\n",
              "      <td>45.0</td>\n",
              "      <td>9.0</td>\n",
              "      <td>sehr gut</td>\n",
              "      <td>15.5</td>\n",
              "      <td>12.8</td>\n",
              "      <td>18.2</td>\n",
              "      <td>2.3</td>\n",
              "      <td>0.0</td>\n",
              "      <td>214.4</td>\n",
              "      <td>30.5</td>\n",
              "      <td>63.0</td>\n",
              "      <td>1012.0</td>\n",
              "      <td>0.0</td>\n",
              "    </tr>\n",
              "    <tr>\n",
              "      <th>1</th>\n",
              "      <td>DENW053</td>\n",
              "      <td>01.11.2020</td>\n",
              "      <td>02:00</td>\n",
              "      <td>13.0</td>\n",
              "      <td>33.0</td>\n",
              "      <td>13.0</td>\n",
              "      <td>sehr gut</td>\n",
              "      <td>15.5</td>\n",
              "      <td>12.8</td>\n",
              "      <td>18.2</td>\n",
              "      <td>2.3</td>\n",
              "      <td>0.0</td>\n",
              "      <td>214.4</td>\n",
              "      <td>30.5</td>\n",
              "      <td>63.0</td>\n",
              "      <td>1012.0</td>\n",
              "      <td>0.0</td>\n",
              "    </tr>\n",
              "    <tr>\n",
              "      <th>2</th>\n",
              "      <td>DENW053</td>\n",
              "      <td>01.11.2020</td>\n",
              "      <td>03:00</td>\n",
              "      <td>13.0</td>\n",
              "      <td>28.0</td>\n",
              "      <td>13.0</td>\n",
              "      <td>sehr gut</td>\n",
              "      <td>15.5</td>\n",
              "      <td>12.8</td>\n",
              "      <td>18.2</td>\n",
              "      <td>2.3</td>\n",
              "      <td>0.0</td>\n",
              "      <td>214.4</td>\n",
              "      <td>30.5</td>\n",
              "      <td>63.0</td>\n",
              "      <td>1012.0</td>\n",
              "      <td>0.0</td>\n",
              "    </tr>\n",
              "    <tr>\n",
              "      <th>3</th>\n",
              "      <td>DENW053</td>\n",
              "      <td>01.11.2020</td>\n",
              "      <td>04:00</td>\n",
              "      <td>13.0</td>\n",
              "      <td>41.0</td>\n",
              "      <td>7.0</td>\n",
              "      <td>sehr gut</td>\n",
              "      <td>15.5</td>\n",
              "      <td>12.8</td>\n",
              "      <td>18.2</td>\n",
              "      <td>2.3</td>\n",
              "      <td>0.0</td>\n",
              "      <td>214.4</td>\n",
              "      <td>30.5</td>\n",
              "      <td>63.0</td>\n",
              "      <td>1012.0</td>\n",
              "      <td>0.0</td>\n",
              "    </tr>\n",
              "    <tr>\n",
              "      <th>4</th>\n",
              "      <td>DENW053</td>\n",
              "      <td>01.11.2020</td>\n",
              "      <td>05:00</td>\n",
              "      <td>13.0</td>\n",
              "      <td>46.0</td>\n",
              "      <td>7.0</td>\n",
              "      <td>sehr gut</td>\n",
              "      <td>15.5</td>\n",
              "      <td>12.8</td>\n",
              "      <td>18.2</td>\n",
              "      <td>2.3</td>\n",
              "      <td>0.0</td>\n",
              "      <td>214.4</td>\n",
              "      <td>30.5</td>\n",
              "      <td>63.0</td>\n",
              "      <td>1012.0</td>\n",
              "      <td>0.0</td>\n",
              "    </tr>\n",
              "    <tr>\n",
              "      <th>...</th>\n",
              "      <td>...</td>\n",
              "      <td>...</td>\n",
              "      <td>...</td>\n",
              "      <td>...</td>\n",
              "      <td>...</td>\n",
              "      <td>...</td>\n",
              "      <td>...</td>\n",
              "      <td>...</td>\n",
              "      <td>...</td>\n",
              "      <td>...</td>\n",
              "      <td>...</td>\n",
              "      <td>...</td>\n",
              "      <td>...</td>\n",
              "      <td>...</td>\n",
              "      <td>...</td>\n",
              "      <td>...</td>\n",
              "      <td>...</td>\n",
              "    </tr>\n",
              "    <tr>\n",
              "      <th>35039</th>\n",
              "      <td>DENW059</td>\n",
              "      <td>31.10.2021</td>\n",
              "      <td>21:00</td>\n",
              "      <td>6.0</td>\n",
              "      <td>51.0</td>\n",
              "      <td>9.0</td>\n",
              "      <td>sehr gut</td>\n",
              "      <td>13.0</td>\n",
              "      <td>9.0</td>\n",
              "      <td>17.9</td>\n",
              "      <td>11.6</td>\n",
              "      <td>0.0</td>\n",
              "      <td>172.1</td>\n",
              "      <td>17.0</td>\n",
              "      <td>78.0</td>\n",
              "      <td>1003.9</td>\n",
              "      <td>71.0</td>\n",
              "    </tr>\n",
              "    <tr>\n",
              "      <th>35040</th>\n",
              "      <td>DENW059</td>\n",
              "      <td>31.10.2021</td>\n",
              "      <td>22:00</td>\n",
              "      <td>6.0</td>\n",
              "      <td>59.0</td>\n",
              "      <td>7.0</td>\n",
              "      <td>sehr gut</td>\n",
              "      <td>13.0</td>\n",
              "      <td>9.0</td>\n",
              "      <td>17.9</td>\n",
              "      <td>11.6</td>\n",
              "      <td>0.0</td>\n",
              "      <td>172.1</td>\n",
              "      <td>17.0</td>\n",
              "      <td>78.0</td>\n",
              "      <td>1003.9</td>\n",
              "      <td>71.0</td>\n",
              "    </tr>\n",
              "    <tr>\n",
              "      <th>35041</th>\n",
              "      <td>DENW059</td>\n",
              "      <td>31.10.2021</td>\n",
              "      <td>23:00</td>\n",
              "      <td>6.0</td>\n",
              "      <td>45.0</td>\n",
              "      <td>NaN</td>\n",
              "      <td>sehr gut</td>\n",
              "      <td>13.0</td>\n",
              "      <td>9.0</td>\n",
              "      <td>17.9</td>\n",
              "      <td>11.6</td>\n",
              "      <td>0.0</td>\n",
              "      <td>172.1</td>\n",
              "      <td>17.0</td>\n",
              "      <td>78.0</td>\n",
              "      <td>1003.9</td>\n",
              "      <td>71.0</td>\n",
              "    </tr>\n",
              "    <tr>\n",
              "      <th>35042</th>\n",
              "      <td>DENW059</td>\n",
              "      <td>01.11.2021</td>\n",
              "      <td>24:00</td>\n",
              "      <td>6.0</td>\n",
              "      <td>39.0</td>\n",
              "      <td>9.0</td>\n",
              "      <td>sehr gut</td>\n",
              "      <td>NaN</td>\n",
              "      <td>NaN</td>\n",
              "      <td>NaN</td>\n",
              "      <td>NaN</td>\n",
              "      <td>NaN</td>\n",
              "      <td>NaN</td>\n",
              "      <td>NaN</td>\n",
              "      <td>NaN</td>\n",
              "      <td>NaN</td>\n",
              "      <td>NaN</td>\n",
              "    </tr>\n",
              "    <tr>\n",
              "      <th>35043</th>\n",
              "      <td>DENW059</td>\n",
              "      <td>01.11.2021</td>\n",
              "      <td>01:00</td>\n",
              "      <td>6.0</td>\n",
              "      <td>30.0</td>\n",
              "      <td>11.0</td>\n",
              "      <td>sehr gut</td>\n",
              "      <td>NaN</td>\n",
              "      <td>NaN</td>\n",
              "      <td>NaN</td>\n",
              "      <td>NaN</td>\n",
              "      <td>NaN</td>\n",
              "      <td>NaN</td>\n",
              "      <td>NaN</td>\n",
              "      <td>NaN</td>\n",
              "      <td>NaN</td>\n",
              "      <td>NaN</td>\n",
              "    </tr>\n",
              "  </tbody>\n",
              "</table>\n",
              "<p>35044 rows × 17 columns</p>\n",
              "</div>\n",
              "    <div class=\"colab-df-buttons\">\n",
              "\n",
              "  <div class=\"colab-df-container\">\n",
              "    <button class=\"colab-df-convert\" onclick=\"convertToInteractive('df-5b1b2b5e-7af4-46fa-a72a-a640ab15d9fa')\"\n",
              "            title=\"Convert this dataframe to an interactive table.\"\n",
              "            style=\"display:none;\">\n",
              "\n",
              "  <svg xmlns=\"http://www.w3.org/2000/svg\" height=\"24px\" viewBox=\"0 -960 960 960\">\n",
              "    <path d=\"M120-120v-720h720v720H120Zm60-500h600v-160H180v160Zm220 220h160v-160H400v160Zm0 220h160v-160H400v160ZM180-400h160v-160H180v160Zm440 0h160v-160H620v160ZM180-180h160v-160H180v160Zm440 0h160v-160H620v160Z\"/>\n",
              "  </svg>\n",
              "    </button>\n",
              "\n",
              "  <style>\n",
              "    .colab-df-container {\n",
              "      display:flex;\n",
              "      gap: 12px;\n",
              "    }\n",
              "\n",
              "    .colab-df-convert {\n",
              "      background-color: #E8F0FE;\n",
              "      border: none;\n",
              "      border-radius: 50%;\n",
              "      cursor: pointer;\n",
              "      display: none;\n",
              "      fill: #1967D2;\n",
              "      height: 32px;\n",
              "      padding: 0 0 0 0;\n",
              "      width: 32px;\n",
              "    }\n",
              "\n",
              "    .colab-df-convert:hover {\n",
              "      background-color: #E2EBFA;\n",
              "      box-shadow: 0px 1px 2px rgba(60, 64, 67, 0.3), 0px 1px 3px 1px rgba(60, 64, 67, 0.15);\n",
              "      fill: #174EA6;\n",
              "    }\n",
              "\n",
              "    .colab-df-buttons div {\n",
              "      margin-bottom: 4px;\n",
              "    }\n",
              "\n",
              "    [theme=dark] .colab-df-convert {\n",
              "      background-color: #3B4455;\n",
              "      fill: #D2E3FC;\n",
              "    }\n",
              "\n",
              "    [theme=dark] .colab-df-convert:hover {\n",
              "      background-color: #434B5C;\n",
              "      box-shadow: 0px 1px 3px 1px rgba(0, 0, 0, 0.15);\n",
              "      filter: drop-shadow(0px 1px 2px rgba(0, 0, 0, 0.3));\n",
              "      fill: #FFFFFF;\n",
              "    }\n",
              "  </style>\n",
              "\n",
              "    <script>\n",
              "      const buttonEl =\n",
              "        document.querySelector('#df-5b1b2b5e-7af4-46fa-a72a-a640ab15d9fa button.colab-df-convert');\n",
              "      buttonEl.style.display =\n",
              "        google.colab.kernel.accessAllowed ? 'block' : 'none';\n",
              "\n",
              "      async function convertToInteractive(key) {\n",
              "        const element = document.querySelector('#df-5b1b2b5e-7af4-46fa-a72a-a640ab15d9fa');\n",
              "        const dataTable =\n",
              "          await google.colab.kernel.invokeFunction('convertToInteractive',\n",
              "                                                    [key], {});\n",
              "        if (!dataTable) return;\n",
              "\n",
              "        const docLinkHtml = 'Like what you see? Visit the ' +\n",
              "          '<a target=\"_blank\" href=https://colab.research.google.com/notebooks/data_table.ipynb>data table notebook</a>'\n",
              "          + ' to learn more about interactive tables.';\n",
              "        element.innerHTML = '';\n",
              "        dataTable['output_type'] = 'display_data';\n",
              "        await google.colab.output.renderOutput(dataTable, element);\n",
              "        const docLink = document.createElement('div');\n",
              "        docLink.innerHTML = docLinkHtml;\n",
              "        element.appendChild(docLink);\n",
              "      }\n",
              "    </script>\n",
              "  </div>\n",
              "\n",
              "\n",
              "<div id=\"df-649837e1-6ebf-490b-afb3-e48903cdf56d\">\n",
              "  <button class=\"colab-df-quickchart\" onclick=\"quickchart('df-649837e1-6ebf-490b-afb3-e48903cdf56d')\"\n",
              "            title=\"Suggest charts\"\n",
              "            style=\"display:none;\">\n",
              "\n",
              "<svg xmlns=\"http://www.w3.org/2000/svg\" height=\"24px\"viewBox=\"0 0 24 24\"\n",
              "     width=\"24px\">\n",
              "    <g>\n",
              "        <path d=\"M19 3H5c-1.1 0-2 .9-2 2v14c0 1.1.9 2 2 2h14c1.1 0 2-.9 2-2V5c0-1.1-.9-2-2-2zM9 17H7v-7h2v7zm4 0h-2V7h2v10zm4 0h-2v-4h2v4z\"/>\n",
              "    </g>\n",
              "</svg>\n",
              "  </button>\n",
              "\n",
              "<style>\n",
              "  .colab-df-quickchart {\n",
              "      --bg-color: #E8F0FE;\n",
              "      --fill-color: #1967D2;\n",
              "      --hover-bg-color: #E2EBFA;\n",
              "      --hover-fill-color: #174EA6;\n",
              "      --disabled-fill-color: #AAA;\n",
              "      --disabled-bg-color: #DDD;\n",
              "  }\n",
              "\n",
              "  [theme=dark] .colab-df-quickchart {\n",
              "      --bg-color: #3B4455;\n",
              "      --fill-color: #D2E3FC;\n",
              "      --hover-bg-color: #434B5C;\n",
              "      --hover-fill-color: #FFFFFF;\n",
              "      --disabled-bg-color: #3B4455;\n",
              "      --disabled-fill-color: #666;\n",
              "  }\n",
              "\n",
              "  .colab-df-quickchart {\n",
              "    background-color: var(--bg-color);\n",
              "    border: none;\n",
              "    border-radius: 50%;\n",
              "    cursor: pointer;\n",
              "    display: none;\n",
              "    fill: var(--fill-color);\n",
              "    height: 32px;\n",
              "    padding: 0;\n",
              "    width: 32px;\n",
              "  }\n",
              "\n",
              "  .colab-df-quickchart:hover {\n",
              "    background-color: var(--hover-bg-color);\n",
              "    box-shadow: 0 1px 2px rgba(60, 64, 67, 0.3), 0 1px 3px 1px rgba(60, 64, 67, 0.15);\n",
              "    fill: var(--button-hover-fill-color);\n",
              "  }\n",
              "\n",
              "  .colab-df-quickchart-complete:disabled,\n",
              "  .colab-df-quickchart-complete:disabled:hover {\n",
              "    background-color: var(--disabled-bg-color);\n",
              "    fill: var(--disabled-fill-color);\n",
              "    box-shadow: none;\n",
              "  }\n",
              "\n",
              "  .colab-df-spinner {\n",
              "    border: 2px solid var(--fill-color);\n",
              "    border-color: transparent;\n",
              "    border-bottom-color: var(--fill-color);\n",
              "    animation:\n",
              "      spin 1s steps(1) infinite;\n",
              "  }\n",
              "\n",
              "  @keyframes spin {\n",
              "    0% {\n",
              "      border-color: transparent;\n",
              "      border-bottom-color: var(--fill-color);\n",
              "      border-left-color: var(--fill-color);\n",
              "    }\n",
              "    20% {\n",
              "      border-color: transparent;\n",
              "      border-left-color: var(--fill-color);\n",
              "      border-top-color: var(--fill-color);\n",
              "    }\n",
              "    30% {\n",
              "      border-color: transparent;\n",
              "      border-left-color: var(--fill-color);\n",
              "      border-top-color: var(--fill-color);\n",
              "      border-right-color: var(--fill-color);\n",
              "    }\n",
              "    40% {\n",
              "      border-color: transparent;\n",
              "      border-right-color: var(--fill-color);\n",
              "      border-top-color: var(--fill-color);\n",
              "    }\n",
              "    60% {\n",
              "      border-color: transparent;\n",
              "      border-right-color: var(--fill-color);\n",
              "    }\n",
              "    80% {\n",
              "      border-color: transparent;\n",
              "      border-right-color: var(--fill-color);\n",
              "      border-bottom-color: var(--fill-color);\n",
              "    }\n",
              "    90% {\n",
              "      border-color: transparent;\n",
              "      border-bottom-color: var(--fill-color);\n",
              "    }\n",
              "  }\n",
              "</style>\n",
              "\n",
              "  <script>\n",
              "    async function quickchart(key) {\n",
              "      const quickchartButtonEl =\n",
              "        document.querySelector('#' + key + ' button');\n",
              "      quickchartButtonEl.disabled = true;  // To prevent multiple clicks.\n",
              "      quickchartButtonEl.classList.add('colab-df-spinner');\n",
              "      try {\n",
              "        const charts = await google.colab.kernel.invokeFunction(\n",
              "            'suggestCharts', [key], {});\n",
              "      } catch (error) {\n",
              "        console.error('Error during call to suggestCharts:', error);\n",
              "      }\n",
              "      quickchartButtonEl.classList.remove('colab-df-spinner');\n",
              "      quickchartButtonEl.classList.add('colab-df-quickchart-complete');\n",
              "    }\n",
              "    (() => {\n",
              "      let quickchartButtonEl =\n",
              "        document.querySelector('#df-649837e1-6ebf-490b-afb3-e48903cdf56d button');\n",
              "      quickchartButtonEl.style.display =\n",
              "        google.colab.kernel.accessAllowed ? 'block' : 'none';\n",
              "    })();\n",
              "  </script>\n",
              "</div>\n",
              "\n",
              "  <div id=\"id_0e644d74-3e91-46bf-b2b9-cf9a29e2de26\">\n",
              "    <style>\n",
              "      .colab-df-generate {\n",
              "        background-color: #E8F0FE;\n",
              "        border: none;\n",
              "        border-radius: 50%;\n",
              "        cursor: pointer;\n",
              "        display: none;\n",
              "        fill: #1967D2;\n",
              "        height: 32px;\n",
              "        padding: 0 0 0 0;\n",
              "        width: 32px;\n",
              "      }\n",
              "\n",
              "      .colab-df-generate:hover {\n",
              "        background-color: #E2EBFA;\n",
              "        box-shadow: 0px 1px 2px rgba(60, 64, 67, 0.3), 0px 1px 3px 1px rgba(60, 64, 67, 0.15);\n",
              "        fill: #174EA6;\n",
              "      }\n",
              "\n",
              "      [theme=dark] .colab-df-generate {\n",
              "        background-color: #3B4455;\n",
              "        fill: #D2E3FC;\n",
              "      }\n",
              "\n",
              "      [theme=dark] .colab-df-generate:hover {\n",
              "        background-color: #434B5C;\n",
              "        box-shadow: 0px 1px 3px 1px rgba(0, 0, 0, 0.15);\n",
              "        filter: drop-shadow(0px 1px 2px rgba(0, 0, 0, 0.3));\n",
              "        fill: #FFFFFF;\n",
              "      }\n",
              "    </style>\n",
              "    <button class=\"colab-df-generate\" onclick=\"generateWithVariable('daten')\"\n",
              "            title=\"Generate code using this dataframe.\"\n",
              "            style=\"display:none;\">\n",
              "\n",
              "  <svg xmlns=\"http://www.w3.org/2000/svg\" height=\"24px\"viewBox=\"0 0 24 24\"\n",
              "       width=\"24px\">\n",
              "    <path d=\"M7,19H8.4L18.45,9,17,7.55,7,17.6ZM5,21V16.75L18.45,3.32a2,2,0,0,1,2.83,0l1.4,1.43a1.91,1.91,0,0,1,.58,1.4,1.91,1.91,0,0,1-.58,1.4L9.25,21ZM18.45,9,17,7.55Zm-12,3A5.31,5.31,0,0,0,4.9,8.1,5.31,5.31,0,0,0,1,6.5,5.31,5.31,0,0,0,4.9,4.9,5.31,5.31,0,0,0,6.5,1,5.31,5.31,0,0,0,8.1,4.9,5.31,5.31,0,0,0,12,6.5,5.46,5.46,0,0,0,6.5,12Z\"/>\n",
              "  </svg>\n",
              "    </button>\n",
              "    <script>\n",
              "      (() => {\n",
              "      const buttonEl =\n",
              "        document.querySelector('#id_0e644d74-3e91-46bf-b2b9-cf9a29e2de26 button.colab-df-generate');\n",
              "      buttonEl.style.display =\n",
              "        google.colab.kernel.accessAllowed ? 'block' : 'none';\n",
              "\n",
              "      buttonEl.onclick = () => {\n",
              "        google.colab.notebook.generateWithVariable('daten');\n",
              "      }\n",
              "      })();\n",
              "    </script>\n",
              "  </div>\n",
              "\n",
              "    </div>\n",
              "  </div>\n"
            ],
            "application/vnd.google.colaboratory.intrinsic+json": {
              "type": "dataframe",
              "variable_name": "daten",
              "summary": "{\n  \"name\": \"daten\",\n  \"rows\": 35044,\n  \"fields\": [\n    {\n      \"column\": \"Stationscode\",\n      \"properties\": {\n        \"dtype\": \"category\",\n        \"num_unique_values\": 4,\n        \"samples\": [\n          \"DENW212\",\n          \"DENW059\",\n          \"DENW053\"\n        ],\n        \"semantic_type\": \"\",\n        \"description\": \"\"\n      }\n    },\n    {\n      \"column\": \"Datum\",\n      \"properties\": {\n        \"dtype\": \"category\",\n        \"num_unique_values\": 366,\n        \"samples\": [\n          \"13.05.2021\",\n          \"04.12.2020\",\n          \"16.11.2020\"\n        ],\n        \"semantic_type\": \"\",\n        \"description\": \"\"\n      }\n    },\n    {\n      \"column\": \"Uhrzeit\",\n      \"properties\": {\n        \"dtype\": \"category\",\n        \"num_unique_values\": 24,\n        \"samples\": [\n          \"09:00\",\n          \"17:00\",\n          \"01:00\"\n        ],\n        \"semantic_type\": \"\",\n        \"description\": \"\"\n      }\n    },\n    {\n      \"column\": \"Feinstaub\",\n      \"properties\": {\n        \"dtype\": \"number\",\n        \"std\": 8.238111501263772,\n        \"min\": 0.0,\n        \"max\": 86.0,\n        \"num_unique_values\": 96,\n        \"samples\": [\n          0.2,\n          79.0,\n          75.0\n        ],\n        \"semantic_type\": \"\",\n        \"description\": \"\"\n      }\n    },\n    {\n      \"column\": \"Ozon\",\n      \"properties\": {\n        \"dtype\": \"number\",\n        \"std\": 28.376037129449948,\n        \"min\": 0.0,\n        \"max\": 177.0,\n        \"num_unique_values\": 168,\n        \"samples\": [\n          132.0,\n          13.0,\n          113.0\n        ],\n        \"semantic_type\": \"\",\n        \"description\": \"\"\n      }\n    },\n    {\n      \"column\": \"Stickstoffdioxid\",\n      \"properties\": {\n        \"dtype\": \"number\",\n        \"std\": 15.36896027749514,\n        \"min\": 0.6,\n        \"max\": 172.0,\n        \"num_unique_values\": 127,\n        \"samples\": [\n          23.0,\n          91.0,\n          108.0\n        ],\n        \"semantic_type\": \"\",\n        \"description\": \"\"\n      }\n    },\n    {\n      \"column\": \"Luftqualit\\u00e4tsindex\",\n      \"properties\": {\n        \"dtype\": \"category\",\n        \"num_unique_values\": 5,\n        \"samples\": [\n          \"gut\",\n          \"-\",\n          \"m\\u00e4\\u00dfig\"\n        ],\n        \"semantic_type\": \"\",\n        \"description\": \"\"\n      }\n    },\n    {\n      \"column\": \"Temperatur-mean\",\n      \"properties\": {\n        \"dtype\": \"number\",\n        \"std\": 6.500613230336629,\n        \"min\": -6.5,\n        \"max\": 28.0,\n        \"num_unique_values\": 185,\n        \"samples\": [\n          5.2,\n          8.5,\n          17.4\n        ],\n        \"semantic_type\": \"\",\n        \"description\": \"\"\n      }\n    },\n    {\n      \"column\": \"Temperatur-min\",\n      \"properties\": {\n        \"dtype\": \"number\",\n        \"std\": 5.903059775050886,\n        \"min\": -10.1,\n        \"max\": 21.6,\n        \"num_unique_values\": 182,\n        \"samples\": [\n          2.1,\n          9.4,\n          16.7\n        ],\n        \"semantic_type\": \"\",\n        \"description\": \"\"\n      }\n    },\n    {\n      \"column\": \"Temperatur-max\",\n      \"properties\": {\n        \"dtype\": \"number\",\n        \"std\": 7.5503635125919715,\n        \"min\": -3.6,\n        \"max\": 34.6,\n        \"num_unique_values\": 204,\n        \"samples\": [\n          12.9,\n          15.8,\n          20.9\n        ],\n        \"semantic_type\": \"\",\n        \"description\": \"\"\n      }\n    },\n    {\n      \"column\": \"Niederschlag\",\n      \"properties\": {\n        \"dtype\": \"number\",\n        \"std\": 9.100203731668705,\n        \"min\": 0.0,\n        \"max\": 153.5,\n        \"num_unique_values\": 83,\n        \"samples\": [\n          4.2,\n          2.3,\n          2.0\n        ],\n        \"semantic_type\": \"\",\n        \"description\": \"\"\n      }\n    },\n    {\n      \"column\": \"Schneefall\",\n      \"properties\": {\n        \"dtype\": \"number\",\n        \"std\": 9.128898339111496,\n        \"min\": 0.0,\n        \"max\": 120.0,\n        \"num_unique_values\": 8,\n        \"samples\": [\n          40.0,\n          60.0,\n          0.0\n        ],\n        \"semantic_type\": \"\",\n        \"description\": \"\"\n      }\n    },\n    {\n      \"column\": \"Windrichtung\",\n      \"properties\": {\n        \"dtype\": \"number\",\n        \"std\": 89.31207733926072,\n        \"min\": 0.0,\n        \"max\": 358.0,\n        \"num_unique_values\": 346,\n        \"samples\": [\n          174.3,\n          4.8,\n          142.5\n        ],\n        \"semantic_type\": \"\",\n        \"description\": \"\"\n      }\n    },\n    {\n      \"column\": \"Windgeschwindigkeit\",\n      \"properties\": {\n        \"dtype\": \"number\",\n        \"std\": 6.139798221209241,\n        \"min\": 3.4,\n        \"max\": 45.5,\n        \"num_unique_values\": 170,\n        \"samples\": [\n          11.5,\n          26.5,\n          10.2\n        ],\n        \"semantic_type\": \"\",\n        \"description\": \"\"\n      }\n    },\n    {\n      \"column\": \"Spitzenwindboe\",\n      \"properties\": {\n        \"dtype\": \"number\",\n        \"std\": 15.883297165182382,\n        \"min\": 13.0,\n        \"max\": 100.0,\n        \"num_unique_values\": 85,\n        \"samples\": [\n          29.0,\n          63.0,\n          100.0\n        ],\n        \"semantic_type\": \"\",\n        \"description\": \"\"\n      }\n    },\n    {\n      \"column\": \"Luftdruck\",\n      \"properties\": {\n        \"dtype\": \"number\",\n        \"std\": 9.24720090220899,\n        \"min\": 977.8,\n        \"max\": 1039.7,\n        \"num_unique_values\": 226,\n        \"samples\": [\n          1024.2,\n          1011.7,\n          1022.5\n        ],\n        \"semantic_type\": \"\",\n        \"description\": \"\"\n      }\n    },\n    {\n      \"column\": \"Sonnenminuten\",\n      \"properties\": {\n        \"dtype\": \"number\",\n        \"std\": 253.65108213300724,\n        \"min\": 0.0,\n        \"max\": 930.0,\n        \"num_unique_values\": 245,\n        \"samples\": [\n          412.0,\n          453.0,\n          780.0\n        ],\n        \"semantic_type\": \"\",\n        \"description\": \"\"\n      }\n    }\n  ]\n}"
            }
          },
          "metadata": {},
          "execution_count": 1
        }
      ],
      "source": [
        "import numpy as np\n",
        "import pandas as pd\n",
        "\n",
        "from matplotlib import pyplot as plt\n",
        "\n",
        "# einlesen der Daten -- so wird es später abrufbar sein\n",
        "#daten = pd.read_csv(\"UmweltLuftDaten.CSV\", sep=';', header=0)\n",
        "\n",
        "# für hier ziehen wir es aus dem GitHub\n",
        "url = 'https://raw.githubusercontent.com/MartinaEchtenbruck/DaLI-Basiskurs/main/UmweltLuftDaten.CSV'\n",
        "daten = pd.read_csv(url, sep=';', header=0)\n",
        "daten"
      ]
    },
    {
      "cell_type": "markdown",
      "metadata": {
        "id": "XNQTQ70mA40D"
      },
      "source": [
        "##1. Formulierung der Nullhypothese und der Alternativhypothese"
      ]
    },
    {
      "cell_type": "markdown",
      "metadata": {
        "id": "7n70amWWeKOp"
      },
      "source": [
        "**Hypothese 2**: \"Es gibt einen Zusammenhang zwischen dem Luftdruck und der Feinstaubbelastung der Luft.\"\n",
        "\n",
        "**Nullhypothese 2:** \"Es gibt keinen Zusammenhang zwischen dem Luftdruck und der Feinstaubbelastung der Luft.\"\n",
        "\n",
        "\n"
      ]
    },
    {
      "cell_type": "markdown",
      "source": [
        "## 2. Teststatistik wählen"
      ],
      "metadata": {
        "id": "MsfaZYe2kKcs"
      }
    },
    {
      "cell_type": "markdown",
      "source": [
        "Wie bereits beim Vorzeichentest beschreiben, ist die Teststatistik eine Kennzahl, die aus den Stichprobendaten berechnet wird, um in einem statistischen Hypothesentest eine Entscheidung zu treffen.\n",
        "\n",
        "Unsere **Hypothese 2** ist eine ungerichtete Zusammenhangshypothese (siehe Link Modul). Zur Berechnung der Teststatistik wird eine Korrelationsanalyse durchgeführt. Die Korrelationsanalyse ist ein statistisches Verfahren, das die Stärke und Richtung eines linearen Zusammenhangs zwischen zwei oder mehr Variablen ermittelt (siehe auch: https://datatab.de/tutorial/korrelation).\n",
        "\n",
        "Bei der Korrelationsanalyse wird der Korrelationskoeffizient $r$ berechnet, der angibt, wie stark der Zusammenhang zwischen zwei Werten ist. In unserer Hypothese sind das die Werte für Feinstaub und Luftdruck. Der Korrelationskoeffizient $r$  kann Werte zwischen $-1$ und $+1$ annehmen. Somit ist unsere **Teststatistik** der Korrelationskoeffizient $r$.\n",
        "\n",
        "Mit Hilfe einer Korrelationsanalyse kann  festgestellt werden, wie stark und in welche Richtung zwei Werte zusammenhängen:\n",
        "\n",
        "+ **Positive Korrelationen** liegen vor, wenn die Zunahme der Variablen&nbsp;A auch zu einer Zunahme der Variablen&nbsp;B führt. Beispielsweise korreliert die Körpergröße positiv mit dem Gewicht. Positve Korrelationen werden am positiven Korrelationskoeffizienten&nbsp;$r$ erkannt.\n",
        "\n",
        "+ Bei **negativen Korrelationen** führt die Zunahme der Variablen&nbsp;A zu einer Abnahme der Variablen&nbsp;B. Ein Beispiel hierfür ist die Korrelation zwischen der Kraftstoffmenge im Auto und der Länge der zurückgelegten Strecke. Negative Korrelationen werden am negativen Korrelationskoeffizienten&nbsp;$r$ erkannt.\n",
        "\n",
        "+ Wenn der Korrelationskoeffizient nahe bei 0 liegt, besteht keine erkennbare lineare Beziehung zwischen den Variablen.\n",
        "\n",
        "**Wert \"r\" und Stärke des Zusammenhangs**\n",
        "+ 0,0 < 0,1\tkein Zusammenhang\n",
        "+ 0,1 < 0,3\tgeringer Zusammenhang\n",
        "+ 0,3 < 0,5\tmittlerer Zusammenhang\n",
        "+ 0,5 < 0,7\thoher Zusammenhang\n",
        "+ 0,7 < 1\tsehr hoher Zusammenhang\n",
        "\n",
        "Kuckartz, U., Rädiker, S., Ebert, T., & Schehl, J. (2013). Statistik: eine verständliche Einführung. Wiesbaden, S. 213, eBook Download: https://link.springer.com/book/10.1007/978-3-531-19890-3\n",
        "\n",
        "**Vorsicht**: Die Korrelation misst die Stärke des Zusammenhangs zwischen zwei Variablen. Sie sagt jedoch nichts darüber aus, ob eine Variable die andere verursacht (Kausalität). Korrelationsanalysen sind in erster Linie ein nützliches Instrument, um erste Hinweise auf Zusammenhänge zwischen Variablen zu erhalten, bevor tiefergehende Kausalanalysen durchgeführt werden.\n"
      ],
      "metadata": {
        "id": "eEiHC7JhOMSy"
      }
    },
    {
      "cell_type": "markdown",
      "source": [
        "##3. Signifikanzniveau festlegen"
      ],
      "metadata": {
        "id": "BfDq1QzTkeZP"
      }
    },
    {
      "cell_type": "markdown",
      "source": [
        "Mit einem Hypothesentest kann die Nullhypothese nie mit 100 %iger Sicherheit verworfen oder bestätigt werden. Es besteht immer eine Irrtumswahrscheinlichkeit. Das liegt daran, dass für die Analyse immer eine Stichprobe aus der Grundgesamtheit gezogen wird. Wenn z. B. eine WählerInnenbefragung durchgeführt wird, werden nicht alle möglichen WählerInnen befragt, sondern es wird eine Stichprobe aus der Grundgesamtheit der WählerInnen gezogen, welche die Eigenschaften der WählerInnengruppe am besten repräsentiert. Eine andere Stichprobe aus der selben Grundgesamtheit könnte jedoch zu etwas anderen Ergebnissen bei der Analyse führen, insbesondere wenn die Stichprobe aus irgendeinem Grund von vornherein zu sehr von der Grundgesamtheit abweicht. Wenn die Daten auf Messergebnissen beruhen, kommen noch Messfehler dazu. Diese können einen Effekt verschleiern (Fehler 1. Art, s. u.) oder manchmal auch vortäuschen (Fehler 2. Art). Daher ist jede Aussage über eine Hypothese immer mit einer Irrtumswahrscheinlichkeit behaftet.\n",
        "\n",
        "Die Irrtumswahrscheinlichkeit für das fehlerhafte Ablehnen der Nullhypothese wird als **Signifikanzniveau** (α) bezeichnet.\n",
        "Das Signifikanzniveau wird immer vor der Analyse festgelegt. Es liegt häufig zwischen 1&#8239;% und 5&#8239;%. Bei einem Signifikanzniveau von 5&#8239;% ($α=0,05$) besteht ein Risiko von 5&#8239;%, dass die Nullhypothese verworfen wird, obwohl sie eigentlich wahr ist.\n",
        "\n",
        "Auch für unseren Korrelationstest legen wir das Signifikanznevieau auf $α=0,05$.\n"
      ],
      "metadata": {
        "id": "UdtkJEUjkb6Y"
      }
    },
    {
      "cell_type": "markdown",
      "source": [
        "Im Diagramm ist ein leichter linearer Zusammenhang zwischen Feinstaubbelastung und Luftdruck ersichtlich. Das Diagramm zeigt in Ansätzen, dass die Werte für den Feinstaub bei einem erhöten Luftdruck auch steigen. Der Zusammenhang scheint aber nicht auschließlich linear zu sein. Dafür sind zu viele sogenannte Ausreißer sichtbar. Ausreißer sind Meßwerte, die stark von der gesamten Messreihe abweichen."
      ],
      "metadata": {
        "id": "WKPvmgnoPBcP"
      }
    },
    {
      "cell_type": "markdown",
      "source": [
        "##4. Nullverteilung der Teststatistik bestimmen\n"
      ],
      "metadata": {
        "id": "ICTqCIqlPPXr"
      }
    },
    {
      "cell_type": "markdown",
      "source": [
        "Da alle statistischen Test auf Wahrscheinlichkeiten und Stichproben beruhen, verwenden alle diese Tests auch eine **Nullverteilung**, die die Wahrscheinlichkeit beschreibt, mit der eine bestimmte Teststatistik auftritt, falls die Nullhypothese zutrifft, (deswegen heißt sie Nullverteilung).\n",
        "In der Korrelationsanalyse beschreibt die Nullverteilung die Verteilung des Korrelationskoeffizienten $r$ unter der Annahme, dass kein Zusammenhang zwischen den beiden untersuchten Variablen besteht.\n",
        "Wenn die Nullhypothese stimmt, also keine Korrelation zwischen Variablen vorliegt, dann erwarten wir für $r$ einen Wert nahe Null. Werte die sich der $-1$ oder der $1$ annähern sind eher unwahrscheinlich.\n",
        "\n",
        "Allerdings werden uns in dem Test, den wir im Folgenden durchführen, viele Arbeitsschritte bereits abgenommen, sodass wir nicht mehr anhand der Nullverteilung entscheiden müssen, ob unser $r$ Wert in den Annahme- oder Ablehungsbereich fällt."
      ],
      "metadata": {
        "id": "yHBfiX2M7vY0"
      }
    },
    {
      "cell_type": "markdown",
      "source": [
        "##5. Annahme und Ablehnungsbereich für die Nullhypothese bestimmen"
      ],
      "metadata": {
        "id": "WYPwnRwGNT6O"
      }
    },
    {
      "cell_type": "markdown",
      "source": [
        "Für die Entscheidung, ob die Nullhypothese abgelehnt werden kann oder nicht, wird statt der Annahme- und Ablehnungsbereiche auch der sogenannte $p$-Wert verwendet. Er wird auch beim Test weiter unten neben den Korrelationskoeffizienten $r$ mit ausgegeben."
      ],
      "metadata": {
        "id": "CGSyqj_xlTHu"
      }
    },
    {
      "cell_type": "markdown",
      "source": [
        "### Was sagt der $p$-Wert aus?"
      ],
      "metadata": {
        "id": "bIdJpb8FlnCL"
      }
    },
    {
      "cell_type": "markdown",
      "source": [
        "\n",
        "Der $p$-Wert schätzt, wie wahrscheinlich es ist, dass der Ausgang eines Versuchs durch die Wahl der Stichprobe zustande gekommen ist, wenn eigentlich kein Effekt existiert bzw. die Nullhypothese stimmt.\n",
        "Er gibt an wie wahrscheinlich es ist eine Stichprobe zu ziehen die im Mittel so viel oder mehr von der Grundgesamtheit abweicht. Er hilft uns also zu bewerten, ob ein beobachtetes Ergebnis einer Analyse zufällig sein könnte oder ob es tatsächlich eine statistisch signifikante Abweichung darstellt, so dass wir die Nullhypothese verwerfen können.\n",
        "\n",
        "Im Folgenden Video wir der $p$-Wert anschaulich erklärt: https://www.youtube.com/watch?v=NW-_u3vXJhk\n"
      ],
      "metadata": {
        "id": "RyX5yhs9nfoA"
      }
    },
    {
      "cell_type": "markdown",
      "source": [
        "**Interpretation des $p$-Werts:**\n",
        "\n",
        "Wir nutzen nun den $p$-Wert, um zu entscheiden, ob das Ergebnis in den Annahme- oder Ablehnungsbereich fällt, wie folgt:\n",
        "\n",
        "+ **Kleiner $p$-Wert** (z.&#8239;B. unter dem Signifikanzniveau $α = 0,05$): deutet darauf hin, dass das Ergebnis statistisch signifikant ist und die Nullhypothese möglicherweise abgelehnt werden kann. Das heißt, es ist unwahrscheinlich, dass das Ergebnis rein zufällig zustande kam. Aber Vorsicht vor dem **Fehler erster Ordnung** (siehe weiter unten)!\n",
        "\n",
        "+ **Großer $p$-Wert** (z. B. über dem Signifikanzniveau $\\alpha = 0,05)$:\n",
        "deutet darauf hin, dass das Ergebnis  vermutlich zufällig entstanden ist und wir  die Nullhypothse vorerst nicht verwerfen können. Aber Vorsicht vor dem Fehler **zweiter Ordnung** (siehe weiter unten)!\n",
        "\n",
        "Aufgrund des p-Werts wird der Effekt wie folgt interpretiert:\n",
        "+ p < 0,01 : hoch signifikant\n",
        "\n",
        "+ p < 0,05 : signifikant\n",
        "\n",
        "+ p  ≥ 0,05 : nicht signifikant"
      ],
      "metadata": {
        "id": "viURgJDsmDCV"
      }
    },
    {
      "cell_type": "markdown",
      "source": [
        "### Was sagt der p-Wert **nicht** aus?\n",
        "\n",
        "Der p-Wert entspricht **nicht** der Wahrscheinlichkeit dafür, dass der Ausgang eines Experimentes auf Zufall beruht oder dass die Teststatistik nur durch Zufall in den Ablehnungsbereich geraten ist, und nicht wegen eines tatsächlich vorhandenen Effekts.\n",
        "\n",
        "Den p-Wert mit dieser Wahrscheinlichkeit gleichzusetzen, wäre so, als ob man zuerst den Wert der Teststatistik durch ein Experiment bestimmen würde, dann die Grenze zwischen Annahme- und Ablehnungsbereich in der Nullverteilung genau an der Stelle ziehen würde, an der die Teststatistik liegt, und schließlich das Signifikanzniveau aus der Breite des Ablehnungsbereiches ablesen würde. Das darf man aber nicht, denn der p-Wert ist auch nur eine Zufallsgröße, die von der Zusammenetzung der Stichprobe und den Messfehlern abhängt.\n",
        "\n",
        "Das Signifikanzniveau muss vor der Ermittlung der Teststatistik festgelegt werden. Sonst macht man den gleichen Fehler wie der texanische Scharfschütze, der zuerst auf sein Scheunentor schießt und dann eine Zielscheibe um das Einschussloch malt."
      ],
      "metadata": {
        "id": "TNLxdPhEdYDW"
      }
    },
    {
      "cell_type": "markdown",
      "source": [
        "##6. Teststatistik berechnen"
      ],
      "metadata": {
        "id": "ZopGeqEazynr"
      }
    },
    {
      "cell_type": "markdown",
      "source": [
        "Für unsere Auswertung verwenden wir die Korrelationsanalyse nach Pearson. Die Korrelationsanalyse nach Pearson untersucht den linearen Zusammenhang zwischen zwei metrischen Variablen, z. B. um festzustellen, ob eine Variable steigt oder sinkt, wenn die andere steigt.\n",
        "\n",
        "Um die Pearson-Analyse durchführen zu können, müssen folgende Voraussetzungen erfüllt sein:\n",
        "\n",
        "+ Die Variablen sollten metrisch sein (siehe auch Modul)\n",
        "+ Der Zusammenhang (die Korrelation) zwischen den Variablen sollte linear sein, was durch Streudiagramme überprüft werden kann.\n",
        "+ Insbesondere bei kleinen Stichproben sollten die Daten der Variablen annähernd normalverteilt sein.\n",
        "\n",
        "Die Voraussetzungen werden wir in den nächsten Schritten überprüfen."
      ],
      "metadata": {
        "id": "d2pGhubnH-2Y"
      }
    },
    {
      "cell_type": "markdown",
      "source": [
        "#### Voraussetzung 1: Art der Variablen"
      ],
      "metadata": {
        "id": "dNW_4xZxBFzC"
      }
    },
    {
      "cell_type": "markdown",
      "source": [
        "Unsere Variablen \"Feinstaub\" und \"Luftdruck\" liegen als metrische Daten vor. Die beiden anderen Voraussetzungen werden wir in den nächsten Schritten überprüfen."
      ],
      "metadata": {
        "id": "smMi1gNwAuEQ"
      }
    },
    {
      "cell_type": "markdown",
      "source": [
        "#### Voraussetzung 2: Überprüfung einer möglichen Korrelation"
      ],
      "metadata": {
        "id": "Run_L1qZ8wtE"
      }
    },
    {
      "cell_type": "markdown",
      "source": [
        "\n",
        "Ein Streudiagramm kann auch zur ersten visuellen Abschätzung eines liniearen Zusammenhangs zwischen Feinstaub und Luftdruck verwendet werden.  \n",
        "\n",
        "Ein Streudiagramm (auch Scatterplot genannt) ist eine grafische Darstellung, die verwendet wird, um die Beziehung zwischen zwei numerischen Variablen darzustellen. Jeder Punkt im Diagramm repräsentiert ein Datenpaar, wobei die Position entlang der x-Achse den Wert der einen Variable und die Position entlang der y-Achse den Wert der anderen Variable zeigt. Streudiagramme eignen sich besonders gut, um Zusammenhänge, Muster oder Ausreißer in den Daten zu erkennen, wie etwa positive oder negative Korrelationen zwischen den Variablen (siehe auch Link zum Modul).\n",
        "\n"
      ],
      "metadata": {
        "id": "yOgAT5XeOVTF"
      }
    },
    {
      "cell_type": "code",
      "execution_count": null,
      "metadata": {
        "id": "y1TMppcGQzt9",
        "colab": {
          "base_uri": "https://localhost:8080/",
          "height": 467
        },
        "outputId": "7ab2d910-f462-4e44-8848-e0e526aaa74a"
      },
      "outputs": [
        {
          "output_type": "execute_result",
          "data": {
            "text/plain": [
              "<Axes: xlabel='Luftdruck', ylabel='Feinstaub'>"
            ]
          },
          "metadata": {},
          "execution_count": 2
        },
        {
          "output_type": "display_data",
          "data": {
            "text/plain": [
              "<Figure size 640x480 with 1 Axes>"
            ],
            "image/png": "[encoded data removed]"
          },
          "metadata": {}
        }
      ],
      "source": [
        "daten.plot(kind='scatter', x='Luftdruck', y='Feinstaub', marker='.')"
      ]
    },
    {
      "cell_type": "markdown",
      "source": [
        "Eine umfangreichere Darstellung eines möglichen Zusammenhangs sehen sie im Folgenden Plot."
      ],
      "metadata": {
        "id": "pH48ovf0I746"
      }
    },
    {
      "cell_type": "code",
      "source": [
        "# Define the number of bins\n",
        "n_bins = 20\n",
        "\n",
        "# Filtering out NaN values from 'Luftdruck' and 'Feinstaub'\n",
        "filtered_data = daten.dropna(subset=['Luftdruck', 'Feinstaub']).copy()\n",
        "\n",
        "# Create Luftdruck bins\n",
        "min_luftdruck = filtered_data['Luftdruck'].min()\n",
        "max_luftdruck = filtered_data['Luftdruck'].max()\n",
        "bins = np.linspace(min_luftdruck, max_luftdruck, n_bins + 1)\n",
        "\n",
        "# Round the bins to the nearest integer\n",
        "bins = np.round(bins).astype(int)\n",
        "\n",
        "# Assign each Luftdruck value to a bin using .loc\n",
        "filtered_data.loc[:, 'Luftdruck_bin'] = pd.cut(filtered_data['Luftdruck'], bins, include_lowest=True)\n",
        "\n",
        "# Group the data by Luftdruck_bin and specify observed=False to retain current behavior\n",
        "grouped = filtered_data.groupby('Luftdruck_bin', observed=False)['Feinstaub']\n",
        "\n",
        "# Prepare the data for boxplot\n",
        "boxplot_data = [group.tolist() for name, group in grouped]\n",
        "\n",
        "# Create midpoints for the bins to center the boxplots\n",
        "bin_edges = bins\n",
        "bin_midpoints = (bin_edges[:-1] + bin_edges[1:]) / 2\n",
        "\n",
        "# Plotting\n",
        "plt.figure(figsize=(15, 8))\n",
        "bplot = plt.boxplot(boxplot_data, positions=bin_midpoints, whis=(0, 100), widths=np.diff(bin_edges) * 0.8, patch_artist=True)\n",
        "for patch in bplot['boxes']:\n",
        "    patch.set_facecolor(\"lightblue\") #THK_ORANGE\n",
        "for median in bplot['medians']:\n",
        "    median.set(color=\"black\")\n",
        "\n",
        "# Adding plot details\n",
        "plt.xlabel('Luftdruck/hPa')\n",
        "plt.ylabel('Feinstaub/(μg/m³)')\n",
        "plt.title('Abhängigkeit der Feinstaubbelastung vom Luftdruck')\n",
        "plt.xticks(ticks=bin_edges, labels=[f\"{int(edge)}\" for edge in bin_edges], rotation=90)  # Ticks at bin edges\n",
        "plt.grid(True)\n",
        "\n",
        "# Show the plot\n",
        "plt.tight_layout()\n",
        "plt.show()"
      ],
      "metadata": {
        "colab": {
          "base_uri": "https://localhost:8080/",
          "height": 807
        },
        "id": "SLreo0lIyby1",
        "outputId": "2cd0b018-08c2-4206-9f51-1bec7c5137f1"
      },
      "execution_count": null,
      "outputs": [
        {
          "output_type": "display_data",
          "data": {
            "text/plain": [
              "<Figure size 1500x800 with 1 Axes>"
            ],
            "image/png": "[encoded data removed]"
          },
          "metadata": {}
        }
      ]
    },
    {
      "cell_type": "markdown",
      "source": [
        "An beiden Graphiken kann trotz der vielen Ausreißer ein leichter positiver linearer Zusammenhang zwischen Feinstaub und Luftdruck erkannt werden."
      ],
      "metadata": {
        "id": "eSepqDBiJJfv"
      }
    },
    {
      "cell_type": "markdown",
      "source": [
        "#### Voraussetzung 3: Überprüfung der Normalverteilung"
      ],
      "metadata": {
        "id": "aOvuEsC3AKLb"
      }
    },
    {
      "cell_type": "markdown",
      "source": [
        "Viele statistische Tests setzen eine Normalverteilung der Daten voraus, da viele natürliche Phänomene (z. B. Körpergröße, Blutdruck) annähernd normalverteilt sind. Die Normalverteilung ist daher eine Wahrscheinlichkeitsverteilung, die eine Glockenkurve oder Gauß-*Kurve* beschreibt. Ihr Kurvenverlauf ist symmetrisch, wobei Modalwert, Median und arithmetischer Mittelwert identisch sind (siehe auch Modul XX Verteilung von Daten). Auch die Binomialverteilung, die Sie bereits beim Vorzeichentest kennengelernt haben, ist eine Normalverteilung. Siehe auch https://datatab.de/tutorial/test-auf-normalverteilung.\n",
        "\n",
        "Für die Korrelationsanalyse wird insbesondere bei kleinen Stichproben eine annähernde Normalverteilung vorausgesetzt. Für unseren Test werden wir die Normalverteilung grafisch überprüfen, indem wir die Werte für Feinstaub und Luftdruck in einem Histogramm darstellen."
      ],
      "metadata": {
        "id": "r-vadj8pk1ig"
      }
    },
    {
      "cell_type": "markdown",
      "source": [
        "#### Visuelle Prüfung auf Normalverteilung\n"
      ],
      "metadata": {
        "id": "Q12td4zKePlM"
      }
    },
    {
      "cell_type": "markdown",
      "source": [
        "Ob die Werte eines Datensatzes normalverteilt sind lässt sich auch mit statistischen Tests überprüfen. Wer sich dazu einlesen möchte findet z.B. hier eine einfache Einführung: [datatab.de](https://datatab.de/tutorial/test-auf-normalverteilung).\n",
        "\n",
        "\n",
        "Da die Überprüfung anhand eines statistischen Tests den Rahmen der Veranstaltung sprengen würde, konzentrieren wir uns hier auf die visuelle Überprüfung.\n",
        "\n",
        "Mit Hilfe eines Histogramms können wir uns einen Eindruck über die Verteilung der Daten verschaffen. In \"Modul 4.1: Daten auswerten\" Abschnitt \"Schiefe, Wölbung, Exzess\" haben wir Verteilungen untersucht und gesagt, dass die Schiefe einer Verteilung durch die Position von arithmetischem Mittel, Modalwert und Medianwert beschrieben werden kann. Man sagt die Verteilung ist symmetrisch, wenn gilt, dass Modus, Median und Mean der Verteilung in etwa übereinstimmen.\n",
        "\n",
        "Wir schauen uns also zunächst die Histogramme unserer Daten an."
      ],
      "metadata": {
        "id": "5iv4TxZXLEHF"
      }
    },
    {
      "cell_type": "markdown",
      "source": [
        "**Histogramm Luftdruck**"
      ],
      "metadata": {
        "id": "jkSH8u34LHad"
      }
    },
    {
      "cell_type": "code",
      "source": [
        "print(\"Histogramm Luftdruck\")\n",
        "daten['Luftdruck'].plot.hist(bins=200)"
      ],
      "metadata": {
        "id": "vgcYtN6LSz0p",
        "colab": {
          "base_uri": "https://localhost:8080/"
        },
        "outputId": "22a7cb14-0fbf-482c-9c69-ceb50c01550c"
      },
      "execution_count": null,
      "outputs": [
        {
          "output_type": "stream",
          "name": "stdout",
          "text": [
            "Histogramm Luftdruck\n"
          ]
        },
        {
          "output_type": "execute_result",
          "data": {
            "text/plain": [
              "<Axes: ylabel='Frequency'>"
            ]
          },
          "metadata": {},
          "execution_count": 4
        },
        {
          "output_type": "display_data",
          "data": {
            "text/plain": [
              "<Figure size 640x480 with 1 Axes>"
            ],
            "image/png": "[encoded data removed]"
          },
          "metadata": {}
        }
      ]
    },
    {
      "cell_type": "code",
      "source": [
        "from statistics import mode\n",
        "\n",
        "print(\"Mean: \" + str(daten['Luftdruck'].mean()))\n",
        "print(\"Median: \" + str(daten['Luftdruck'].median()))\n",
        "print(\"Modus: \" + str(daten['Luftdruck'].mode()[0]))\n"
      ],
      "metadata": {
        "id": "E4jY7qqfLuFb",
        "colab": {
          "base_uri": "https://localhost:8080/"
        },
        "outputId": "4197cae5-0339-4923-ce4b-753581b6fd78"
      },
      "execution_count": null,
      "outputs": [
        {
          "output_type": "stream",
          "name": "stdout",
          "text": [
            "Mean: 1016.5115652471744\n",
            "Median: 1017.2\n",
            "Modus: 1017.4\n"
          ]
        }
      ]
    },
    {
      "cell_type": "markdown",
      "source": [
        "Die Verteilung der Luftdruckdaten scheint symmetrisch zu sein und auch die Werte für Median, Mittelwert und Modus der Daten liegen nahe beieinander. Für die Untersuchung kann hier von einer Normalverteilung der Daten ausgegangen werden."
      ],
      "metadata": {
        "id": "kkltCWsZPgyW"
      }
    },
    {
      "cell_type": "markdown",
      "source": [
        "**Histogramm Feinstaub**"
      ],
      "metadata": {
        "id": "Fdg7a3ajeSXl"
      }
    },
    {
      "cell_type": "code",
      "source": [
        "daten['Feinstaub'].plot.hist(bins=200)"
      ],
      "metadata": {
        "id": "peWR_sMQb2_L",
        "colab": {
          "base_uri": "https://localhost:8080/"
        },
        "outputId": "0262e60a-7267-4a3a-8510-16f954ceecb3"
      },
      "execution_count": null,
      "outputs": [
        {
          "output_type": "execute_result",
          "data": {
            "text/plain": [
              "<Axes: ylabel='Frequency'>"
            ]
          },
          "metadata": {},
          "execution_count": 6
        },
        {
          "output_type": "display_data",
          "data": {
            "text/plain": [
              "<Figure size 640x480 with 1 Axes>"
            ],
            "image/png": "[encoded data removed]"
          },
          "metadata": {}
        }
      ]
    },
    {
      "cell_type": "code",
      "source": [
        "print(\"Mean: \" + str(daten['Feinstaub'].mean()))\n",
        "print(\"Median: \" + str(daten['Feinstaub'].median()))\n",
        "print(\"Modus: \" + str(daten['Feinstaub'].mode()[0]))"
      ],
      "metadata": {
        "id": "Xn2o_Z6hFRlv",
        "colab": {
          "base_uri": "https://localhost:8080/"
        },
        "outputId": "407c543d-a1f8-4d11-cdc9-3a6843667458"
      },
      "execution_count": null,
      "outputs": [
        {
          "output_type": "stream",
          "name": "stdout",
          "text": [
            "Mean: 15.521634268218712\n",
            "Median: 14.0\n",
            "Modus: 11.0\n"
          ]
        }
      ]
    },
    {
      "cell_type": "markdown",
      "source": [
        "Die Daten für den Feinstaub sind leicht rechtsschief.\n",
        "\n",
        "Wenn die Daten leicht rechtsschief sind, kann dies die Ergebnisse der Pearson-Korrelation beeinflussen, aber im Allgemeinen ist die Pearson-Korrelation relativ robust gegenüber kleinen Abweichungen von der Normalverteilung. [^1].\n",
        "\n",
        "\n",
        "---\n",
        "\n",
        "\n",
        "[^1] Hauke, J., & Kossowski, T. (2011). Comparison of values of Pearson’s and Spearman’s correlation coefficients on the same sets of data. Quaestiones Geographicae, 30(2), 87-93.\n",
        "\n",
        "---\n",
        "\n",
        "(**TODO: Referenz prüfen**)"
      ],
      "metadata": {
        "id": "O3s5eygXQGb8"
      }
    },
    {
      "cell_type": "markdown",
      "source": [
        "###Test durchführen"
      ],
      "metadata": {
        "id": "oWlmNfk9IQ2I"
      }
    },
    {
      "cell_type": "markdown",
      "source": [
        "Die Korrelationsanalyse nach Pearson ist im Paket scipy, die wir am Anfang dieser Datei importieren, bereits implementiert und kann einfach verwendet werden.\n",
        "\n",
        "Die Funktion zur Korrelationsanalyse kann keine fehlenden Werte verarbeiten, deshalb entfernen wir diese mit dropna() aus der Verteilung, bevor wir die Verteilung an die Funktion  𝑠𝑡𝑎𝑡𝑠.𝑝𝑒𝑎𝑟𝑠𝑜𝑛𝑟()  übergeben."
      ],
      "metadata": {
        "id": "Ne-ZrB9IICfc"
      }
    },
    {
      "cell_type": "code",
      "source": [
        "from scipy import stats\n",
        "\n",
        "#calculation correlation coefficient and p-value between x and y\n",
        "r, p_value =stats.pearsonr(daten.dropna()['Feinstaub'], daten.dropna()['Luftdruck'])\n",
        "print(\"Das Ergebnis des Korrelationstest liefert einen Korrelationskoefizient r = \" + str(r) + \" mit einem p-Wert von p = \" + str(\"{:.20f}\".format(p_value)) )\n",
        "\n",
        "# Interpret the results:\n",
        "alpha = 0.05\n",
        "if p_value < alpha:\n",
        "    print(\"Die Nullhypothese wird verworfen; es gibt vermutlich einen signifikanten linearen Zusammenhang zwischen Luftdruck und Feinstaubbelastung.\")\n",
        "else:\n",
        "    print(\"Die Nullhypothese kann nicht verworfen werden; Es gibt vermutlich keinen signifikant linearen Zusammenhang zwischen der Luftdruck und der Feinstaubbelastung.\")\n"
      ],
      "metadata": {
        "id": "NXX8Dof7NH6t",
        "colab": {
          "base_uri": "https://localhost:8080/"
        },
        "outputId": "2c73e20c-78af-4e05-a725-16fc6e7448ad"
      },
      "execution_count": null,
      "outputs": [
        {
          "output_type": "stream",
          "name": "stdout",
          "text": [
            "Das Ergebnis des Korrelationstest liefert einen Korrelationskoefizient r = 0.381932748935403 der auf einen mittleren Zusammenhang zwischen Luftdruck und Feinstaub hinweist mit einem p-Wert von p = 0.00000000000000000000\n",
            "Die Nullhypothese wird verworfen; es gibt einen signifikanten linearen Zusammenhang zwischen Luftdruck und Feinstaubbelastung.\n"
          ]
        }
      ]
    },
    {
      "cell_type": "markdown",
      "source": [
        "##7. Das Ergebnis der Studie gemäß den Vorgaben aus 3. + 5. ermitteln."
      ],
      "metadata": {
        "id": "57gvB-PZjuBb"
      }
    },
    {
      "cell_type": "markdown",
      "source": [
        "Als Ergebnis der Korrelationsanalyse erhalten wir die Werte $r=0,38$ und $p=0,0$\n",
        "\n",
        "Der $p$-Wert kann von der Größe der Stichporbe beinflusst werden. Je größer die Stichprobe, desto kleiner der $p$-Wert. So ist er in unserer Korrelationsanalyse annährend Null, siehe auch: https://datatab.de/tutorial/test-auf-normalverteilung#Graphische).\n",
        "Der liegt somit unter dem festgelegten Signifikanzniveau von $α =0,05$, was auf einen signifikanten positive linearen Zusammenhang hinweist. Die Nullhypothese kann somit vorerst verworfen werden."
      ],
      "metadata": {
        "id": "ITNId783VyjC"
      }
    },
    {
      "cell_type": "markdown",
      "source": [
        "##Diskussion der Ergebnisse"
      ],
      "metadata": {
        "id": "37LuqfXeEMvm"
      }
    },
    {
      "cell_type": "markdown",
      "source": [
        "Trotz dieser Werte ($r=0,38$ und $p =0,0$) sollten die Ergebnisse immer kritisch betrachtet werden. Der $p$-Wert gibt nur die Wahrscheinlichkeit an, unter der die Nullhypothese verworfen werden kann. Es kann immer zu Fehlinterpretationen kommen, die in der Statistik als Fehlern erster und zweiter Ordnung bezeichnet werden.\n",
        "\n",
        "Ein **Fehler erster Ordnung** liegt vor, wenn die Nullhypothese verworfen wird, obwohl sie in Wirklichkeit wahr ist.\n",
        "\n",
        "Ein **Fehler zweiter Ordnung** liegt vor, wenn die Nullhypothese nicht verworfen wird, obwohl sie falsch ist. Dies bedeutet, dass ein tatsächlicher Effekt übersehen wird.\n",
        "\n",
        "Es ist also wichtig, bei jeder Analyse abzuwägen und die Ergebnisse kritisch zu hinterfragen. Wenn wir eine größere Sicherheit erzielen wollen, sollten wir das Experiment beispielsweise mit einer anderen oder größeren Stichprobe wiederholen (dadurch nimmt die Standardabweichung ab und die Trennfähigkeit des Tests,*power* wird höher). Zudem können wir auch das Signifikanzniveau auf 1% ($a = 0,01$) senken. Damit wird es aber auch schwieriger, die Alternativhypothese zu bestätigen."
      ],
      "metadata": {
        "id": "DLlaFxcPEQcn"
      }
    }
  ],
  "metadata": {
    "colab": {
      "provenance": [],
      "collapsed_sections": [
        "C9x9TSWcJ7k8",
        "Q12td4zKePlM",
        "57gvB-PZjuBb"
      ],
      "include_colab_link": true
    },
    "kernelspec": {
      "display_name": "Python 3",
      "name": "python3"
    },
    "language_info": {
      "name": "python"
    }
  },
  "nbformat": 4,
  "nbformat_minor": 0
}