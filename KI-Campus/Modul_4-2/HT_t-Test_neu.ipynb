{
 "cells": [
  {
   "cell_type": "markdown",
   "metadata": {
    "id": "pxBpJrBndiTJ"
   },
   "source": [
    "# Hypothesentest: $t$-Test\n",
    "\n",
    "In diesem Jupyter Notebook wenden wir uns noch einmal der ersten Hypothese zu und prüfen diese nun einmal mit einem klassischen $t$-Test.\n",
    "\n",
    "Auch bei diesem Test halten wir uns an den üblichen Ablauf:\n",
    "\n",
    "1.   Formulierung der Nullhypothese und der Alternativhypothese\n",
    "2.   Teststatistik wählen\n",
    "3.   Signifikanzniveau festlegen\n",
    "4.   Nullverteilung der Teststatistik bestimmen\n",
    "5.   Annahme und Ablehnungsbereich für die Nullhypothese bestimmen\n",
    "6.   Teststatistik berechnen\n",
    "7.   Das Ergebnis der Studie gemäß den Vorgaben aus 3. + 5. ermitteln.\n",
    "\n",
    "---\n",
    "\n",
    "**Bitte beachten** Sie, dass die enthaltenen Codezeilen ausgeführt werden müssen. Wir empfehlen Ihnen, alle Codezeilen vor der Ausführung auszuführen. Wählen Sie dazu im Menü \"Cell\" den Punkt \"Run all\"."
   ]
  },
  {
   "cell_type": "markdown",
   "metadata": {
    "id": "C9x9TSWcJ7k8"
   },
   "source": [
    "## Einlesen der Daten"
   ]
  },
  {
   "cell_type": "markdown",
   "metadata": {
    "id": "kW6SMvpX4GN6"
   },
   "source": [
    "Um unsere Hypothesen im Folgenden zu überprüfen starten wir zunächst, wie gehabt, mit dem Einlesen unserer Daten."
   ]
  },
  {
   "cell_type": "code",
   "execution_count": 1,
   "metadata": {
    "colab": {
     "base_uri": "https://localhost:8080/"
    },
    "id": "oF6WYN9zQgiT",
    "outputId": "e6efa19e-0e4b-440c-ce82-492a7e6590e4"
   },
   "outputs": [
    {
     "data": {
      "text/html": [
       "<div>\n",
       "<style scoped>\n",
       "    .dataframe tbody tr th:only-of-type {\n",
       "        vertical-align: middle;\n",
       "    }\n",
       "\n",
       "    .dataframe tbody tr th {\n",
       "        vertical-align: top;\n",
       "    }\n",
       "\n",
       "    .dataframe thead th {\n",
       "        text-align: right;\n",
       "    }\n",
       "</style>\n",
       "<table border=\"1\" class=\"dataframe\">\n",
       "  <thead>\n",
       "    <tr style=\"text-align: right;\">\n",
       "      <th></th>\n",
       "      <th>Stationscode</th>\n",
       "      <th>Datum</th>\n",
       "      <th>Uhrzeit</th>\n",
       "      <th>Feinstaub</th>\n",
       "      <th>Ozon</th>\n",
       "      <th>Stickstoffdioxid</th>\n",
       "      <th>Luftqualitätsindex</th>\n",
       "      <th>Temperatur-mean</th>\n",
       "      <th>Temperatur-min</th>\n",
       "      <th>Temperatur-max</th>\n",
       "      <th>Niederschlag</th>\n",
       "      <th>Schneefall</th>\n",
       "      <th>Windrichtung</th>\n",
       "      <th>Windgeschwindigkeit</th>\n",
       "      <th>Spitzenwindboe</th>\n",
       "      <th>Luftdruck</th>\n",
       "      <th>Sonnenminuten</th>\n",
       "    </tr>\n",
       "  </thead>\n",
       "  <tbody>\n",
       "    <tr>\n",
       "      <th>0</th>\n",
       "      <td>DENW053</td>\n",
       "      <td>01.11.2020</td>\n",
       "      <td>01:00</td>\n",
       "      <td>13.0</td>\n",
       "      <td>45.0</td>\n",
       "      <td>9.0</td>\n",
       "      <td>sehr gut</td>\n",
       "      <td>15.5</td>\n",
       "      <td>12.8</td>\n",
       "      <td>18.2</td>\n",
       "      <td>2.3</td>\n",
       "      <td>0.0</td>\n",
       "      <td>214.4</td>\n",
       "      <td>30.5</td>\n",
       "      <td>63.0</td>\n",
       "      <td>1012.0</td>\n",
       "      <td>0.0</td>\n",
       "    </tr>\n",
       "    <tr>\n",
       "      <th>1</th>\n",
       "      <td>DENW053</td>\n",
       "      <td>01.11.2020</td>\n",
       "      <td>02:00</td>\n",
       "      <td>13.0</td>\n",
       "      <td>33.0</td>\n",
       "      <td>13.0</td>\n",
       "      <td>sehr gut</td>\n",
       "      <td>15.5</td>\n",
       "      <td>12.8</td>\n",
       "      <td>18.2</td>\n",
       "      <td>2.3</td>\n",
       "      <td>0.0</td>\n",
       "      <td>214.4</td>\n",
       "      <td>30.5</td>\n",
       "      <td>63.0</td>\n",
       "      <td>1012.0</td>\n",
       "      <td>0.0</td>\n",
       "    </tr>\n",
       "    <tr>\n",
       "      <th>2</th>\n",
       "      <td>DENW053</td>\n",
       "      <td>01.11.2020</td>\n",
       "      <td>03:00</td>\n",
       "      <td>13.0</td>\n",
       "      <td>28.0</td>\n",
       "      <td>13.0</td>\n",
       "      <td>sehr gut</td>\n",
       "      <td>15.5</td>\n",
       "      <td>12.8</td>\n",
       "      <td>18.2</td>\n",
       "      <td>2.3</td>\n",
       "      <td>0.0</td>\n",
       "      <td>214.4</td>\n",
       "      <td>30.5</td>\n",
       "      <td>63.0</td>\n",
       "      <td>1012.0</td>\n",
       "      <td>0.0</td>\n",
       "    </tr>\n",
       "    <tr>\n",
       "      <th>3</th>\n",
       "      <td>DENW053</td>\n",
       "      <td>01.11.2020</td>\n",
       "      <td>04:00</td>\n",
       "      <td>13.0</td>\n",
       "      <td>41.0</td>\n",
       "      <td>7.0</td>\n",
       "      <td>sehr gut</td>\n",
       "      <td>15.5</td>\n",
       "      <td>12.8</td>\n",
       "      <td>18.2</td>\n",
       "      <td>2.3</td>\n",
       "      <td>0.0</td>\n",
       "      <td>214.4</td>\n",
       "      <td>30.5</td>\n",
       "      <td>63.0</td>\n",
       "      <td>1012.0</td>\n",
       "      <td>0.0</td>\n",
       "    </tr>\n",
       "    <tr>\n",
       "      <th>4</th>\n",
       "      <td>DENW053</td>\n",
       "      <td>01.11.2020</td>\n",
       "      <td>05:00</td>\n",
       "      <td>13.0</td>\n",
       "      <td>46.0</td>\n",
       "      <td>7.0</td>\n",
       "      <td>sehr gut</td>\n",
       "      <td>15.5</td>\n",
       "      <td>12.8</td>\n",
       "      <td>18.2</td>\n",
       "      <td>2.3</td>\n",
       "      <td>0.0</td>\n",
       "      <td>214.4</td>\n",
       "      <td>30.5</td>\n",
       "      <td>63.0</td>\n",
       "      <td>1012.0</td>\n",
       "      <td>0.0</td>\n",
       "    </tr>\n",
       "    <tr>\n",
       "      <th>...</th>\n",
       "      <td>...</td>\n",
       "      <td>...</td>\n",
       "      <td>...</td>\n",
       "      <td>...</td>\n",
       "      <td>...</td>\n",
       "      <td>...</td>\n",
       "      <td>...</td>\n",
       "      <td>...</td>\n",
       "      <td>...</td>\n",
       "      <td>...</td>\n",
       "      <td>...</td>\n",
       "      <td>...</td>\n",
       "      <td>...</td>\n",
       "      <td>...</td>\n",
       "      <td>...</td>\n",
       "      <td>...</td>\n",
       "      <td>...</td>\n",
       "    </tr>\n",
       "    <tr>\n",
       "      <th>35039</th>\n",
       "      <td>DENW059</td>\n",
       "      <td>31.10.2021</td>\n",
       "      <td>21:00</td>\n",
       "      <td>6.0</td>\n",
       "      <td>51.0</td>\n",
       "      <td>9.0</td>\n",
       "      <td>sehr gut</td>\n",
       "      <td>13.0</td>\n",
       "      <td>9.0</td>\n",
       "      <td>17.9</td>\n",
       "      <td>11.6</td>\n",
       "      <td>0.0</td>\n",
       "      <td>172.1</td>\n",
       "      <td>17.0</td>\n",
       "      <td>78.0</td>\n",
       "      <td>1003.9</td>\n",
       "      <td>71.0</td>\n",
       "    </tr>\n",
       "    <tr>\n",
       "      <th>35040</th>\n",
       "      <td>DENW059</td>\n",
       "      <td>31.10.2021</td>\n",
       "      <td>22:00</td>\n",
       "      <td>6.0</td>\n",
       "      <td>59.0</td>\n",
       "      <td>7.0</td>\n",
       "      <td>sehr gut</td>\n",
       "      <td>13.0</td>\n",
       "      <td>9.0</td>\n",
       "      <td>17.9</td>\n",
       "      <td>11.6</td>\n",
       "      <td>0.0</td>\n",
       "      <td>172.1</td>\n",
       "      <td>17.0</td>\n",
       "      <td>78.0</td>\n",
       "      <td>1003.9</td>\n",
       "      <td>71.0</td>\n",
       "    </tr>\n",
       "    <tr>\n",
       "      <th>35041</th>\n",
       "      <td>DENW059</td>\n",
       "      <td>31.10.2021</td>\n",
       "      <td>23:00</td>\n",
       "      <td>6.0</td>\n",
       "      <td>45.0</td>\n",
       "      <td>NaN</td>\n",
       "      <td>sehr gut</td>\n",
       "      <td>13.0</td>\n",
       "      <td>9.0</td>\n",
       "      <td>17.9</td>\n",
       "      <td>11.6</td>\n",
       "      <td>0.0</td>\n",
       "      <td>172.1</td>\n",
       "      <td>17.0</td>\n",
       "      <td>78.0</td>\n",
       "      <td>1003.9</td>\n",
       "      <td>71.0</td>\n",
       "    </tr>\n",
       "    <tr>\n",
       "      <th>35042</th>\n",
       "      <td>DENW059</td>\n",
       "      <td>01.11.2021</td>\n",
       "      <td>24:00</td>\n",
       "      <td>6.0</td>\n",
       "      <td>39.0</td>\n",
       "      <td>9.0</td>\n",
       "      <td>sehr gut</td>\n",
       "      <td>NaN</td>\n",
       "      <td>NaN</td>\n",
       "      <td>NaN</td>\n",
       "      <td>NaN</td>\n",
       "      <td>NaN</td>\n",
       "      <td>NaN</td>\n",
       "      <td>NaN</td>\n",
       "      <td>NaN</td>\n",
       "      <td>NaN</td>\n",
       "      <td>NaN</td>\n",
       "    </tr>\n",
       "    <tr>\n",
       "      <th>35043</th>\n",
       "      <td>DENW059</td>\n",
       "      <td>01.11.2021</td>\n",
       "      <td>01:00</td>\n",
       "      <td>6.0</td>\n",
       "      <td>30.0</td>\n",
       "      <td>11.0</td>\n",
       "      <td>sehr gut</td>\n",
       "      <td>NaN</td>\n",
       "      <td>NaN</td>\n",
       "      <td>NaN</td>\n",
       "      <td>NaN</td>\n",
       "      <td>NaN</td>\n",
       "      <td>NaN</td>\n",
       "      <td>NaN</td>\n",
       "      <td>NaN</td>\n",
       "      <td>NaN</td>\n",
       "      <td>NaN</td>\n",
       "    </tr>\n",
       "  </tbody>\n",
       "</table>\n",
       "<p>35044 rows × 17 columns</p>\n",
       "</div>"
      ],
      "text/plain": [
       "      Stationscode       Datum Uhrzeit  Feinstaub  Ozon  Stickstoffdioxid  \\\n",
       "0          DENW053  01.11.2020   01:00       13.0  45.0               9.0   \n",
       "1          DENW053  01.11.2020   02:00       13.0  33.0              13.0   \n",
       "2          DENW053  01.11.2020   03:00       13.0  28.0              13.0   \n",
       "3          DENW053  01.11.2020   04:00       13.0  41.0               7.0   \n",
       "4          DENW053  01.11.2020   05:00       13.0  46.0               7.0   \n",
       "...            ...         ...     ...        ...   ...               ...   \n",
       "35039      DENW059  31.10.2021   21:00        6.0  51.0               9.0   \n",
       "35040      DENW059  31.10.2021   22:00        6.0  59.0               7.0   \n",
       "35041      DENW059  31.10.2021   23:00        6.0  45.0               NaN   \n",
       "35042      DENW059  01.11.2021   24:00        6.0  39.0               9.0   \n",
       "35043      DENW059  01.11.2021   01:00        6.0  30.0              11.0   \n",
       "\n",
       "      Luftqualitätsindex  Temperatur-mean  Temperatur-min  Temperatur-max  \\\n",
       "0               sehr gut             15.5            12.8            18.2   \n",
       "1               sehr gut             15.5            12.8            18.2   \n",
       "2               sehr gut             15.5            12.8            18.2   \n",
       "3               sehr gut             15.5            12.8            18.2   \n",
       "4               sehr gut             15.5            12.8            18.2   \n",
       "...                  ...              ...             ...             ...   \n",
       "35039           sehr gut             13.0             9.0            17.9   \n",
       "35040           sehr gut             13.0             9.0            17.9   \n",
       "35041           sehr gut             13.0             9.0            17.9   \n",
       "35042           sehr gut              NaN             NaN             NaN   \n",
       "35043           sehr gut              NaN             NaN             NaN   \n",
       "\n",
       "       Niederschlag  Schneefall  Windrichtung  Windgeschwindigkeit  \\\n",
       "0               2.3         0.0         214.4                 30.5   \n",
       "1               2.3         0.0         214.4                 30.5   \n",
       "2               2.3         0.0         214.4                 30.5   \n",
       "3               2.3         0.0         214.4                 30.5   \n",
       "4               2.3         0.0         214.4                 30.5   \n",
       "...             ...         ...           ...                  ...   \n",
       "35039          11.6         0.0         172.1                 17.0   \n",
       "35040          11.6         0.0         172.1                 17.0   \n",
       "35041          11.6         0.0         172.1                 17.0   \n",
       "35042           NaN         NaN           NaN                  NaN   \n",
       "35043           NaN         NaN           NaN                  NaN   \n",
       "\n",
       "       Spitzenwindboe  Luftdruck  Sonnenminuten  \n",
       "0                63.0     1012.0            0.0  \n",
       "1                63.0     1012.0            0.0  \n",
       "2                63.0     1012.0            0.0  \n",
       "3                63.0     1012.0            0.0  \n",
       "4                63.0     1012.0            0.0  \n",
       "...               ...        ...            ...  \n",
       "35039            78.0     1003.9           71.0  \n",
       "35040            78.0     1003.9           71.0  \n",
       "35041            78.0     1003.9           71.0  \n",
       "35042             NaN        NaN            NaN  \n",
       "35043             NaN        NaN            NaN  \n",
       "\n",
       "[35044 rows x 17 columns]"
      ]
     },
     "execution_count": 1,
     "metadata": {},
     "output_type": "execute_result"
    }
   ],
   "source": [
    "import numpy as np\n",
    "import pandas as pd\n",
    "\n",
    "from matplotlib import pyplot as plt\n",
    "\n",
    "daten = pd.read_csv(\"UmweltLuftDaten.CSV\", sep=';', header=0)\n",
    "\n",
    "daten"
   ]
  },
  {
   "cell_type": "markdown",
   "metadata": {
    "id": "vHX96v5GPs2S"
   },
   "source": [
    "## Formulierung der Nullhypothese und der Alternativhypothese"
   ]
  },
  {
   "cell_type": "markdown",
   "metadata": {
    "id": "B8GlLBZmeT4l"
   },
   "source": [
    "**Hypothese 2**: \"*Es gibt einen Unterschied zwischen der Feinstaubbelastung\n",
    "der Luft am Tag und in der Nacht (Vermutung: tagsüber höher).*\"\n",
    "\n",
    "**Nullhypothese 2**: \"*Es gibt keinen Unterschied zwischen der Feinstaubbelastung\n",
    "der Luft am Tag und in der Nacht*\"\n",
    "\n",
    "Für diese Hypothese muss geprüft werden ob zwei unabhängige Verteilungen, die der Werte am Tag und die der Werte in der Nacht, sich signifikant voneinander unterscheiden. Dies kann man beispielsweise mit einem t-Test überprüfen.\n",
    "\n"
   ]
  },
  {
   "cell_type": "markdown",
   "metadata": {
    "id": "Yfc4jBuyC_v7"
   },
   "source": [
    "## Teststatistik wählen"
   ]
  },
  {
   "cell_type": "markdown",
   "metadata": {
    "id": "GF01NZB6DD0s"
   },
   "source": [
    "Eine Teststatistik ist eine Kennzahl, die aus den Stichprobendaten berechnet wird, um in einem statistischen Hypothesentest eine Entscheidung zu treffen. Sie fasst die Information der Daten in einer Zahl zusammen, anhand derer die Hypothese bewertet wird.\n",
    "\n",
    "Zuvor haben wir die hier untersuchte Hypothese bereits anhand eines Vorzeichentests überprüft. Hier werden wir die Hypothese nun mithilfe eines t-Tests überprüfen.\n",
    "\n",
    "Ein $t$-Test untersucht, ob sich die Mittelwerte zweier Gruppen signifikant voneinander unterscheiden. Dabei prüft er, ob ein gefundener Unterschied im Mittelwert auf Zufall basiert oder ob er wahrscheinlich \"echt\" ist.\n",
    "\n",
    "Im Allgemeinen wird die $t$-Teststatistik als Verhältnis zwischen Mittelwertsdifferenz und Standardfehler berechnet. Die Teststatistik ist dann der so berechnete $t$-Wert.\n",
    "\n",
    "Im Detail wird der t-Test hier anschaulich erklärt: https://datatab.de/tutorial/t-test"
   ]
  },
  {
   "cell_type": "markdown",
   "metadata": {
    "id": "VpuijFbe7XLC"
   },
   "source": [
    "## Signifikanzniveau (Irrtumswahrscheinlichkeit) festlegen"
   ]
  },
  {
   "cell_type": "markdown",
   "metadata": {
    "id": "7r_zd5g-7eeM"
   },
   "source": [
    "Mit einem Hypothesentest kann die Nullhypothese nie mit 100%iger Sicherheit verworfen oder bestätigt werden. Es besteht immer eine Irrtumswahrscheinlichkeit. Das liegt daran, dass für die Analyse immer eine Stichprobe aus der Grundgesamtheit gezogen wird.\n",
    "\n",
    "Wie auch bei unseren vorangegangenen Untersuchungen legen wir auch hier das Signifikanzniveau auf $α=0,05$.\n",
    "\n",
    "\n"
   ]
  },
  {
   "cell_type": "markdown",
   "metadata": {
    "id": "4EffG33FEwo9"
   },
   "source": [
    "## Nullverteilung der Teststatistik bestimmen"
   ]
  },
  {
   "cell_type": "markdown",
   "metadata": {
    "id": "vJvqIE_sE1RG"
   },
   "source": [
    "Da alle statistischen Tests auf Wahrscheinlichkeiten und Stichproben beruhen verwenden alle diese Tests auch eine Nullverteilung, um die Wahrscheinlichkeit des Auftretens einer bestimmten Teststatistik ermitteln zu können.\n",
    "Beim $t$-Test beschreibt die Nullverteilung die Verteilung des $t$-Wertes unter der Annahme, dass es keinen Unterschied in den beiden betrachteten Verteilungen gibt.\n",
    "\n",
    "Allerdings werden uns in dem Test, den wir im Folgenden durchführen, viele Arbeitsschritte bereits abgenommen, sodass wir nicht mehr anhand der Nullverteilung entscheiden müssen, ob unser $t$ Wert in den Annahme- oder Ablehungsbereich fällt."
   ]
  },
  {
   "cell_type": "markdown",
   "metadata": {
    "id": "9tk63HZ7G-XA"
   },
   "source": [
    "## Annahme- und Ablehnungsbereich bestimmen"
   ]
  },
  {
   "cell_type": "markdown",
   "metadata": {
    "id": "jXO_E_KvyC1m"
   },
   "source": [
    "Die Annahme- und Ablehnungsbereich eines statistischen Tests basieren auf einem festgelegten Signifikanzniveau $α$ (z. B. $α=0,05$). Der Ablehnungsbereich ist der Bereich der Teststatistik, der zur Ablehnung der Nullhypothese führt, wenn die Wahrscheinlichkeit, dass ein Wert dort landet, kleiner oder gleich $α$ ist. Der Annahmebereich umfasst alle anderen Werte. Eine Anschaulicher Erklärung dazu haben wir im Notebook zum Vorzeichentest betracht.\n",
    "\n",
    "Beim t-Test verwenden wir den $p$-Wert um zu entscheiden in welchen Bereich unsere berechnete Teststatistik fällt. Der p-Wert ist die Wahrscheinlichkeit, unter der Annahme, dass die Nullhypothese wahr ist, einen Testwert zu finden, der genauso extrem oder extremer ist als der beobachtete Wert.\n",
    "\n",
    "Wenn der $p$-Wert kleiner oder gleich dem Signifikanzniveau $α$ ist, liegt der beobachtete Wert im Ablehnungsbereich und wir lehnen die Nullhypothese ab. Wenn der $p$-Wert größer ist, liegt der Wert im Annahmebereich, und wir behalten die Nullhypothese bei."
   ]
  },
  {
   "cell_type": "markdown",
   "metadata": {
    "id": "s56BCbibHHj7"
   },
   "source": [
    "## Teststatistik berechnen"
   ]
  },
  {
   "cell_type": "markdown",
   "metadata": {
    "id": "9swAz1svHrz5"
   },
   "source": [
    "Bevor wir den Test jetzt tatsächlich durchführen können müssen wir zunächst unsere Daten entsprechend vorbereiten.\n"
   ]
  },
  {
   "cell_type": "markdown",
   "metadata": {
    "id": "_83G7u17tG3U"
   },
   "source": [
    "### Vorbereitung der Datensätze\n"
   ]
  },
  {
   "cell_type": "markdown",
   "metadata": {
    "id": "M-I3Edhku3z9"
   },
   "source": [
    "Um diese Hypothese zu untersuchen vergleichen wir zwei Verteilungen, nämlich die der Feinstaubbelastung am Tag und der in der Nacht. Wir müssen uns also zwei Subsets der Daten erstellen, die jeweils die Werte der Feinstaubbelastung am Tag und der in der Nacht enthalten.\n",
    "Um diese Subsets bilden zu können müssen wir für uns zunächst definieren was Tag ist und was Nacht. Da es hierzu wohl verschiedene Meinungen gibt versuchen wir Kernbereiche zu definieren die eindeutig Tag oder Nacht zuzuordnen sind.\n",
    "Im Folgenden wählen wir für den Tag den Zeitraum zwischen 7 Uhr und 18 Uhr und für die Nacht den Zeitraum zwischen 20 Uhr und 5 Uhr morgens. Unter dieser Annahme markieren wir unsere Zellen entsprechend als Tag oder Nacht."
   ]
  },
  {
   "cell_type": "code",
   "execution_count": 2,
   "metadata": {
    "colab": {
     "base_uri": "https://localhost:8080/"
    },
    "id": "qwqCfMHot7P1",
    "outputId": "29f5dd7e-75d4-4bf4-d54d-46e8fa3ec7f0"
   },
   "outputs": [
    {
     "name": "stdout",
     "output_type": "stream",
     "text": [
      "['07:00' '08:00' '09:00' '10:00' '11:00' '12:00' '13:00' '14:00' '15:00'\n",
      " '16:00' '17:00' '18:00']\n",
      "['01:00' '02:00' '03:00' '04:00' '05:00' '20:00' '21:00' '22:00' '23:00'\n",
      " '24:00']\n"
     ]
    }
   ],
   "source": [
    "# Wir filtern die Datensätze so, dass wir ein Subset für den Tag und eines für die Nacht erhalten\n",
    "daten_tag = daten.loc[(daten[\"Uhrzeit\"] >= \"07:00\") & (daten[\"Uhrzeit\"] <= \"18:00\") ]\n",
    "daten_nacht = daten.loc[(daten[\"Uhrzeit\"] >= \"20:00\") | (daten[\"Uhrzeit\"] <= \"05:00\") ]\n",
    "\n",
    "# Einmal die gefilterten Uhrzeiten ausgeben lassen um zu schauen ob die Zordnung korrekt funktioniert hat\n",
    "print(daten_tag['Uhrzeit'].unique())\n",
    "print(daten_nacht['Uhrzeit'].unique())"
   ]
  },
  {
   "cell_type": "markdown",
   "metadata": {
    "id": "-fsT6Fk4ldXW"
   },
   "source": [
    "### Überblick über die Daten verschaffen"
   ]
  },
  {
   "cell_type": "markdown",
   "metadata": {
    "id": "uYubx_gVu7Un"
   },
   "source": [
    "Wir können uns an dieser Stelle schon mal einen schnellen Überblick über die Daten verschaffen, indem wir einen Boxplot erstellen."
   ]
  },
  {
   "cell_type": "code",
   "execution_count": 3,
   "metadata": {
    "colab": {
     "base_uri": "https://localhost:8080/"
    },
    "id": "9nFTHBCElmsN",
    "outputId": "7ad81a24-3033-47c5-df4d-12aabcf58ad7"
   },
   "outputs": [
    {
     "data": {
      "image/png": "[encoded data removed]",
      "text/plain": [
       "<Figure size 432x288 with 1 Axes>"
      ]
     },
     "metadata": {
      "needs_background": "light"
     },
     "output_type": "display_data"
    }
   ],
   "source": [
    "plotdata = [daten_tag['Feinstaub'], daten_nacht['Feinstaub']]\n",
    "data = pd.DataFrame(plotdata).T\n",
    "data.columns = ['day', 'night']\n",
    "\n",
    "import matplotlib.pyplot as plt\n",
    "\n",
    "boxplot = data.boxplot(column=['day', 'night'])\n",
    "boxplot.plot()\n",
    "plt.show()"
   ]
  },
  {
   "cell_type": "markdown",
   "metadata": {
    "id": "VdVnMOLVkZ_4"
   },
   "source": [
    "Am Boxplot können wir bereits ablesen, dass die Verteilungen sehr ähnlich sind. Hier ist kein signifikanter Unterschied zwischen den beiden Verteilungen zu erwarten. Aber um ganz genau zu sein führen wir als nächstes den t-Test durch."
   ]
  },
  {
   "cell_type": "markdown",
   "metadata": {
    "id": "2VT0b1mcvNqj"
   },
   "source": [
    "### Vorbedingungen für den t-Test prüfen\n"
   ]
  },
  {
   "cell_type": "markdown",
   "metadata": {
    "id": "U_flTPFTkIWz"
   },
   "source": [
    "Für die Untersuchung verwenden wir einen t-Test. Dieser ermöglicht es uns zu untersuchen ob zwei Verteilungen sich voneinander unterscheiden. Ein t-Test macht allerdings einige Annahmen über die Daten, die zutreffen müssen, damit der Test korrekte Ergebnisse liefert:\n",
    "\n",
    "1.   **Die Beobachtungen / Werte müssen unabhängig voneinander sein.** Das bedeutet, dass es keinen (bekannten) Zusammenhang zwischen den einzelnen Beobachtungen geben darf. Also der Wert einer Beobachtung keinen Einfluss auf den Wert einer anderen Beobachtung haben soll. Ein Zusammenhang wäre bspw. gegeben, wenn Körpergröße und Gewicht betrachtet wird, oder Alter und Gesundheitszustand.\n",
    "2.   **Die Werte / Beobachtung müssen normalverteilt sein.** Eine Verteilung gilt als normalverteilt, wenn die Verteilung Symmetrisch ist, ihr Erwartungswert bzw. die Mitte der Verteilung bei null liegt und die Standardabweichung bzw. Varianz eins ist. Die Normalität kann visuell anhand von z.B. Histogrammen beurteilt werden (vgl. Modul 4.1 Schiefe, Wölbung und Exzess). Der t-Test ist in Bezug auf die Normalverteilung relativ robust wenn eine ausreichend große Menge an Daten vorliegt.\n",
    "3.   **Die Varianzen beider Verteilungen müssen (ungefähr) gleich sein.**\n",
    "Die Varianzen der Verteilungen können zum (wie in Modul 4.1 Streuungswerte) berechnet werden oder z.B. mithilfe von Boxplots visuell verglichen werden.\n",
    "\n",
    "Wenn diese Annahmen von den zu testenden Daten nicht erfüllt werden, dann würde der t-Test keine validen Ergebnisse liefern. In diesem Fall sollte ein anderer Test gewählt werden. Um also den t-Test durchführen zu können und dabei sicher zu sein, dass wir sinnvolle Ergebnisse erhalten müssen wir zunächst kurz prüfen ob diese Prämissen erfüllt sind."
   ]
  },
  {
   "cell_type": "markdown",
   "metadata": {
    "id": "v4z5aJLyJlfT"
   },
   "source": [
    "#### Unabhängigkeit der Werte"
   ]
  },
  {
   "cell_type": "markdown",
   "metadata": {
    "id": "nQ0b--vfJ2ZK"
   },
   "source": [
    "An dieser Stelle stehen wir vor der Frage ob die Feinstaubwerte des Tages Einfluss nehmen auf die der Nacht bzw. ob die Werte der Nacht Einfluss nehmen auf die Werte des Tages.\n",
    "\n",
    "Das Umweltbundesamt schreibt dazu auf seiner [Seite](https://www.umweltbundesamt.de/daten/luft/feinstaub-belastung#witterungsabhangigkeit):\n",
    "\n",
    "Wie sehr sich die Feinstaubbelastung ändert \"hängt entscheidend davon ab, wie schnell ein Austausch mit der Umgebungsluft erfolgen kann. Winterliche Hochdruckwetterlagen mit geringen Windgeschwindigkeiten führen dazu, dass die Schadstoffe nicht abtransportiert werden können. Sie sammeln sich in den unteren Luftschichten (bis etwa 1.000 Meter) wie unter einer Glocke. Der Wechsel zu einer Wettersituation mit stärkerem Wind führt zu einer raschen Abnahme der PM10-Belastung.\"\n",
    "\n",
    "Dies bedeutet, dass die Daten nicht sicher unabhängig voneinander sind, sondern dies auch von der Wetterlage abhängt.\n",
    "Für die weitere Untersuchung nehmen wir eine günstige Wetterlage an, behalten diese Schwachstelle bei der Voruntersuchung aber im Hinterkopf."
   ]
  },
  {
   "cell_type": "markdown",
   "metadata": {
    "id": "PZKcVJKQJoiV"
   },
   "source": [
    "#### Normalverteilung der Daten"
   ]
  },
  {
   "cell_type": "markdown",
   "metadata": {
    "id": "o5lzfjjWUsKb"
   },
   "source": [
    "Ob die Werte eines Datensatzes normalverteilt sind lässt sich auch mit statistischen Tests überprüfen. Wer sich dazu einlesen möchtet findet z.B. hier eine einfache Einführung: [Linktext](https://datatab.de/tutorial/test-auf-normalverteilung).\n",
    "\n",
    "\n",
    "Aber wir konzentrieren uns der einfachheit halber auf die visuelle Überprüfung. Mit Hilfe eines Histgramms können wir uns einen Eindruck über die Verteilung der Daten verschaffen. In \"Modul 4.1: Daten auswerten\" Abschnitt \"Schiefe, Wölbung, Exzess\" haben wir Verteilungen untersucht und gesagt, dass die Schiefe einer Verteilung durch die Position von arithmetischem Mittel, Modalwert und Medianwert beschrieben werden kann. Man sagt die Verteilung ist symmetrisch (bzw. Normalverteilt), wenn gilt Modus, Median und Mean der Verteilung in etwa übereinstimmen."
   ]
  },
  {
   "cell_type": "code",
   "execution_count": 4,
   "metadata": {
    "colab": {
     "base_uri": "https://localhost:8080/"
    },
    "id": "lhOGHbdIkRli",
    "outputId": "1c23a26a-dfcb-4774-e649-54479222c990"
   },
   "outputs": [
    {
     "data": {
      "image/png": "[encoded data removed]",
      "text/plain": [
       "<Figure size 432x288 with 1 Axes>"
      ]
     },
     "metadata": {
      "needs_background": "light"
     },
     "output_type": "display_data"
    },
    {
     "data": {
      "image/png": "[encoded data removed]",
      "text/plain": [
       "<Figure size 432x288 with 1 Axes>"
      ]
     },
     "metadata": {
      "needs_background": "light"
     },
     "output_type": "display_data"
    }
   ],
   "source": [
    "plt.hist(daten_tag['Feinstaub'], bins=200)\n",
    "plt.show()\n",
    "\n",
    "plt.hist(daten_nacht['Feinstaub'], bins=200)\n",
    "plt.show()"
   ]
  },
  {
   "cell_type": "code",
   "execution_count": 5,
   "metadata": {
    "colab": {
     "base_uri": "https://localhost:8080/"
    },
    "id": "D6dVeLAcssKB",
    "outputId": "24bbdbc8-7cf0-4e68-e6b8-6964080b4b20"
   },
   "outputs": [
    {
     "name": "stdout",
     "output_type": "stream",
     "text": [
      "Mean: 15.527758212574334\n",
      "Median: 14.0\n",
      "Modus: 11.0\n",
      "Mean: 15.515781076581575\n",
      "Median: 14.0\n",
      "Modus: 11.0\n"
     ]
    }
   ],
   "source": [
    "print(\"Mean: \" + str(daten_tag['Feinstaub'].mean()))\n",
    "print(\"Median: \" + str(daten_tag['Feinstaub'].median()))\n",
    "print(\"Modus: \" + str(daten_tag['Feinstaub'].mode()[0]))\n",
    "\n",
    "print(\"Mean: \" + str(daten_nacht['Feinstaub'].mean()))\n",
    "print(\"Median: \" + str(daten_nacht['Feinstaub'].median()))\n",
    "print(\"Modus: \" + str(daten_nacht['Feinstaub'].mode()[0]))"
   ]
  },
  {
   "cell_type": "markdown",
   "metadata": {
    "id": "au3KuzfmV8yK"
   },
   "source": [
    "Die Histogramme unserer Datensätze zeigen, dass die Verteilungen der Werte leicht rechtsschief sind. Da die Schiefe aber nur leicht ausgeprägt ist und wir eine wirklich große Stichprobe zur Verfügung haben können wir die leicht Schiefe aber vernachlässigen, da der t-Test bei größeren Stichproben robuster gegenüber Schiefe ist. Der zentrale Grenzwertsatz sorgt dafür, dass der Mittelwert der Stichprobe eher normalverteilt ist, selbst wenn die zugrunde liegende Verteilung leicht schief ist. [1,2]\n",
    "\n",
    "(Falls die Daten stark schief sind, könnten alternative Tests, wie z.B. der Wilcoxon-Rangsummen-Test (für unverbundene Stichproben) oder der Wilcoxon-Vorzeichen-Rang-Test (für verbundene Stichproben), sinnvoller sein, da diese Tests keine Normalverteilungsannahme machen. [3,4])\n",
    "\n",
    "\n",
    "---\n",
    "\n",
    "\n",
    "[1] Lumley, T., Diehr, P., Emerson, S., & Chen, L. (2002). The Importance of the Normality Assumption in Large Public Health Data Sets. Annual Review of Public Health, 23(1), 151-169.\n",
    "\n",
    "[2] Moore, D. S., McCabe, G. P., & Craig, B. A. (2012). Introduction to the Practice of Statistics (7th ed.). New York: W.H. Freeman and Company.\n",
    "\n",
    "[3] Conover, W. J. (1999). Practical Nonparametric Statistics (3rd ed.). New York: John Wiley & Sons.\n",
    "\n",
    "[4] Hollander, M., Wolfe, D. A., & Chicken, E. (2013). Nonparametric Statistical Methods (3rd ed.). New York: John Wiley & Sons.\n",
    "\n",
    "\n",
    "---\n",
    "\n",
    "\n",
    "TODO: Referenzen prüfen"
   ]
  },
  {
   "cell_type": "markdown",
   "metadata": {
    "id": "hnMy-ruvJrtI"
   },
   "source": [
    "#### Gleicheit der Varianzen"
   ]
  },
  {
   "cell_type": "markdown",
   "metadata": {
    "id": "AZHrYs6bdH76"
   },
   "source": [
    "Die Varianz ist ein Streuungswert einer Verteilung.  In \"Modul 4.1: Daten auswerten\" Abschnitt \"Streuungswerte\" haben wir die Varianz bereits betrachtet und auch gelernt, wie man die Varianz einer Verteilung berechnen kann. Python berechnet die Varianz einer Verteilung mit dem Befehl var()."
   ]
  },
  {
   "cell_type": "code",
   "execution_count": 6,
   "metadata": {
    "colab": {
     "base_uri": "https://localhost:8080/"
    },
    "id": "WuS7pBARmv2u",
    "outputId": "1775c2af-d865-4ba2-c3b5-61723066f4f6"
   },
   "outputs": [
    {
     "name": "stdout",
     "output_type": "stream",
     "text": [
      "Varianz der Verteilung am Tag: 67.62234722005817\n",
      "Varianz der Verteilung in der Nacht: 68.14833158550711\n",
      "\n"
     ]
    }
   ],
   "source": [
    "print(\"Varianz der Verteilung am Tag: \" + str(daten_tag['Feinstaub'].var()))\n",
    "print(\"Varianz der Verteilung in der Nacht: \" + str(daten_nacht['Feinstaub'].var()) + \"\\n\")"
   ]
  },
  {
   "cell_type": "markdown",
   "metadata": {
    "id": "M9m2rHzyd3Fi"
   },
   "source": [
    "Die Varianzen der Verteilungen am Tag und in der Nacht sind etwa gleich."
   ]
  },
  {
   "cell_type": "markdown",
   "metadata": {
    "id": "CmzB11uBeC_m"
   },
   "source": [
    "### t-Test durchführen"
   ]
  },
  {
   "cell_type": "markdown",
   "metadata": {
    "id": "jUB4JNMlJIYv"
   },
   "source": [
    "Während wir beim Vorzeichentest die ganze Berechnung des Tests von Hand vorgenommen haben, sind wir beim t-Test in der bequemen Situation, dass dieser im scipy Paket bereits vollständig implementiert vorliegt und wir den Test nur noch ausführen müssen:"
   ]
  },
  {
   "cell_type": "code",
   "execution_count": 7,
   "metadata": {
    "colab": {
     "base_uri": "https://localhost:8080/"
    },
    "id": "Ith1vP4Zm2x3",
    "outputId": "6af69e45-f012-422d-98e7-c8deeb9c8ecb"
   },
   "outputs": [
    {
     "name": "stdout",
     "output_type": "stream",
     "text": [
      "Das Ergebnis des t-Tests liefert: test=0.1289638340382383  p=0.8973870833136426\n",
      "Die Nullhypothese kann nicht abgelehnt werden; es gibt keinen signifikanten Unterschied zwischen der Feinstaubbelastung am Tag und in der Nacht.\n"
     ]
    }
   ],
   "source": [
    "import numpy as np\n",
    "from scipy import stats\n",
    "t_stat, p_value = stats.ttest_ind(daten_tag['Feinstaub'], daten_nacht['Feinstaub'], nan_policy='omit')\n",
    "\n",
    "print(\"Das Ergebnis des t-Tests liefert: test=\" + str(t_stat) + \"  p=\" + str(p_value) )\n",
    "\n",
    "# Interpret the results:\n",
    "alpha = 0.05\n",
    "if p_value < alpha:\n",
    "    print(\"Die Nullhypothese wird abgelehnt; es gibt einen signifikanten Unterschied zwischen der Feinstaubbelastung am Tag und in der Nacht.\")\n",
    "else:\n",
    "    print(\"Die Nullhypothese kann nicht abgelehnt werden; es gibt keinen signifikanten Unterschied zwischen der Feinstaubbelastung am Tag und in der Nacht.\")"
   ]
  },
  {
   "cell_type": "markdown",
   "metadata": {
    "id": "9MnwxB-xA4c6"
   },
   "source": [
    "## Das Ergebnis der Studie gemäß den Vorgaben aus 3. + 5. ermitteln"
   ]
  },
  {
   "cell_type": "markdown",
   "metadata": {
    "id": "zbYt8Z5FMloB"
   },
   "source": [
    "Die Funktion, die für uns den t-Test berechnet liefert uns zwei Werte zurück: $t$ und $p$.\n",
    "\n",
    "\n",
    "---\n",
    "\n",
    "\n",
    "Der **t-Wert** ist hier eine Kennzahl, die das Verhältnis der Differenz zwischen den Mittelwerten zur Standardabweichung der beiden Gruppen angibt.\n",
    "\n",
    "Ein **hoher t-Wert** bedeutet, dass der Unterschied der Mittelwerte im Verhältnis zur Streuung der Daten groß ist. Dies deutet möglicherweise auf einen signifikanten Unterschied hin.\n",
    "\n",
    "Ein **kleiner t-Wert** weist darauf hin, dass der Unterschied der Mittelwerte im Vergleich zur Streuung der Daten gering ist.\n",
    "\n",
    "Der t-Wert hängt auch von der Stichprobengröße ab. Mit einer größeren Stichprobe wird ein kleiner Unterschied in den Mittelwerten leichter als signifikant erkannt.\n",
    "\n",
    "**Unser t-Wert beträgt $t=0,129$.** Dies ist nahe null und somit ein kleiner Wert. Es liegt kein signifikanter Unterschied in den Verteilungen der Stichproben vor.\n",
    "\n",
    "\n",
    "---\n",
    "\n",
    "\n",
    "Der **p-Wert** beschreibt die Wahrscheinlichkeit, dass der beobachtete Unterschied (oder ein extremerer Unterschied) unter der Annahme der Nullhypothese zufällig ist (die Differenz der Mittelwerte also zufällig ist).\n",
    "\n",
    "Ein **kleiner p-Wert** (typischerweise unter 0,05) bedeutet, dass es sehr unwahrscheinlich ist, dass der beobachtete Unterschied zufällig entstanden ist.\n",
    "Bei einem kleinen p-Wert und einem großen t-Wert könnten wir also die Nullhypothese ablehnen und di Alternativhypothese annehmen.\n",
    "\n",
    "Ein **großer p-Wert** (größer als 0,05) bedeutet, dass der Unterschied wahrscheinlich durch Zufall erklärbar ist, und man würde die Nullhypothese nicht ablehnen.\n",
    "\n",
    "**Unser p-Wert beträgt $p=0,897$.** Dieser Wert ist eindeutig größer als 0,05 und legt die Vermutung nahe, dass der Unterschied zwischen den Verteilungen auf Zufall beruht.\n",
    "\n",
    "\n",
    "---\n",
    "\n",
    "Insgesamt kommen wir mit den Ergebnissen des t-Test: $t=0,129$ und $p=0,897$ also zu dem Schluss, dass wir unsere Alternativhypothese nicht annehmen können."
   ]
  },
  {
   "cell_type": "markdown",
   "metadata": {
    "id": "RjTs08byIvkS"
   },
   "source": [
    "## Diskussion des Ergebnisses"
   ]
  },
  {
   "cell_type": "markdown",
   "metadata": {
    "id": "47I9yL1ZJiZA"
   },
   "source": [
    "Da wir dieses Ergebnis auch beim Vorzeichentest bereits erhalten haben, sind wir an dieser Stelle nicht mehr überrascht, dass wir unsere Alternativhypothese nicht annehmen können. Dank der zusätzlichen Überlegungen unter Punkt 6.3, die wir hier aber im Vorhinein angestellt haben, können wir nun die Vermutung äussern, dass es diesen Unterschied in dieser Form nicht gibt, weil die Daten möglicherweise gar nicht unabhängig voneinander sind.\n",
    "\n",
    "Im Abschnitt 'Unabhängigkeit der Werte' haben wir gesehen, dass durchaus ein Zusammenhang mit dem Wetter vorstellbar wäre. Nachdem wir nun aus diesem Experiment keinen Erkenntnisgewinn ziehen konnten, wäre dies ja ein möglicher Ansatz um neue Überlegungen anzustellen und neue Hypothesen zu formulieren."
   ]
  }
 ],
 "metadata": {
  "colab": {
   "collapsed_sections": [
    "C9x9TSWcJ7k8",
    "vHX96v5GPs2S",
    "VpuijFbe7XLC",
    "_83G7u17tG3U",
    "-fsT6Fk4ldXW",
    "2VT0b1mcvNqj",
    "PZKcVJKQJoiV",
    "hnMy-ruvJrtI",
    "CmzB11uBeC_m"
   ],
   "include_colab_link": true,
   "provenance": []
  },
  "kernelspec": {
   "display_name": "Python 3 (ipykernel)",
   "language": "python",
   "name": "python3"
  },
  "language_info": {
   "codemirror_mode": {
    "name": "ipython",
    "version": 3
   },
   "file_extension": ".py",
   "mimetype": "text/x-python",
   "name": "python",
   "nbconvert_exporter": "python",
   "pygments_lexer": "ipython3",
   "version": "3.9.7"
  }
 },
 "nbformat": 4,
 "nbformat_minor": 1
}
