{
 "cells": [
  {
   "cell_type": "markdown",
   "metadata": {
    "id": "pxBpJrBndiTJ"
   },
   "source": [
    "# Hypothesentest: Korrelationsanalyse\n",
    "\n",
    "In diesem Jupyter Notebook werden wir die Hypothese 2, die wir in [Modul 2](https://moodle.ki-campus.org/mod/h5pactivity/view.php?id=6593) formuliert haben, untersuchen.\n",
    "\n",
    "Dafür werden wir alle Schritte, die Sie bereits für den Vorzeichentest kennengelernt haben durcharbeiten:\n",
    "\n",
    "\n",
    " -   Formulierung der Nullhypothese und der Alternativhypothese\n",
    " -   Teststatistik wählen\n",
    " -   Signifikanzniveau festlegen\n",
    " -   Nullverteilung der Teststatistik bestimmen\n",
    " -   Annahme und Ablehnungsbereich für die Nullhypothese bestimmen\n",
    " -   Teststatistik berechnen\n",
    " -   Das Ergebnis der Studie gemäß den Vorgaben aus 3. + 5. ermitteln.\n",
    "\n",
    "Im Folgenden möchten wir unsere aufgestellten Hypothesen nun untersuchen und werden dazu die aufgeführten Schritte durchführen.\n",
    "Versuchen Sie die Schritte nachzuvollziehen und soweit möglich auf Ihre eigenen Hypothesen anzuwenden.\n",
    "\n",
    "---\n",
    "\n",
    "**Bitte beachten** Sie, dass die enthaltenen Codezeilen ausgeführt werden müssen. Wir empfehlen Ihnen, alle Codezeilen vor der Ausführung auszuführen. Wählen Sie dazu im Menü \"Cell\" den Punkt \"Run all\"."
   ]
  },
  {
   "cell_type": "markdown",
   "metadata": {
    "id": "C9x9TSWcJ7k8",
    "jp-MarkdownHeadingCollapsed": true
   },
   "source": [
    "## Einlesen der Daten"
   ]
  },
  {
   "cell_type": "markdown",
   "metadata": {
    "id": "rWNl2mqKz49a"
   },
   "source": [
    "Um unsere Hypothesen im Folgenden zu überprüfen, starten wir zunächst mit dem Einlesen unserer Daten."
   ]
  },
  {
   "cell_type": "code",
   "execution_count": 2,
   "metadata": {
    "colab": {
     "base_uri": "https://localhost:8080/"
    },
    "id": "oF6WYN9zQgiT",
    "outputId": "db3b669a-ba3d-466d-faa2-ad8395cbdc28",
    "scrolled": true
   },
   "outputs": [
    {
     "data": {
      "text/html": [
       "<div>\n",
       "<style scoped>\n",
       "    .dataframe tbody tr th:only-of-type {\n",
       "        vertical-align: middle;\n",
       "    }\n",
       "\n",
       "    .dataframe tbody tr th {\n",
       "        vertical-align: top;\n",
       "    }\n",
       "\n",
       "    .dataframe thead th {\n",
       "        text-align: right;\n",
       "    }\n",
       "</style>\n",
       "<table border=\"1\" class=\"dataframe\">\n",
       "  <thead>\n",
       "    <tr style=\"text-align: right;\">\n",
       "      <th></th>\n",
       "      <th>Stationscode</th>\n",
       "      <th>Datum</th>\n",
       "      <th>Uhrzeit</th>\n",
       "      <th>Feinstaub</th>\n",
       "      <th>Ozon</th>\n",
       "      <th>Stickstoffdioxid</th>\n",
       "      <th>Luftqualitätsindex</th>\n",
       "      <th>Temperatur-mean</th>\n",
       "      <th>Temperatur-min</th>\n",
       "      <th>Temperatur-max</th>\n",
       "      <th>Niederschlag</th>\n",
       "      <th>Schneefall</th>\n",
       "      <th>Windrichtung</th>\n",
       "      <th>Windgeschwindigkeit</th>\n",
       "      <th>Spitzenwindboe</th>\n",
       "      <th>Luftdruck</th>\n",
       "      <th>Sonnenminuten</th>\n",
       "    </tr>\n",
       "  </thead>\n",
       "  <tbody>\n",
       "    <tr>\n",
       "      <th>0</th>\n",
       "      <td>DENW053</td>\n",
       "      <td>01.11.2020</td>\n",
       "      <td>01:00</td>\n",
       "      <td>13.0</td>\n",
       "      <td>45.0</td>\n",
       "      <td>9.0</td>\n",
       "      <td>sehr gut</td>\n",
       "      <td>15.5</td>\n",
       "      <td>12.8</td>\n",
       "      <td>18.2</td>\n",
       "      <td>2.3</td>\n",
       "      <td>0.0</td>\n",
       "      <td>214.4</td>\n",
       "      <td>30.5</td>\n",
       "      <td>63.0</td>\n",
       "      <td>1012.0</td>\n",
       "      <td>0.0</td>\n",
       "    </tr>\n",
       "    <tr>\n",
       "      <th>1</th>\n",
       "      <td>DENW053</td>\n",
       "      <td>01.11.2020</td>\n",
       "      <td>02:00</td>\n",
       "      <td>13.0</td>\n",
       "      <td>33.0</td>\n",
       "      <td>13.0</td>\n",
       "      <td>sehr gut</td>\n",
       "      <td>15.5</td>\n",
       "      <td>12.8</td>\n",
       "      <td>18.2</td>\n",
       "      <td>2.3</td>\n",
       "      <td>0.0</td>\n",
       "      <td>214.4</td>\n",
       "      <td>30.5</td>\n",
       "      <td>63.0</td>\n",
       "      <td>1012.0</td>\n",
       "      <td>0.0</td>\n",
       "    </tr>\n",
       "    <tr>\n",
       "      <th>2</th>\n",
       "      <td>DENW053</td>\n",
       "      <td>01.11.2020</td>\n",
       "      <td>03:00</td>\n",
       "      <td>13.0</td>\n",
       "      <td>28.0</td>\n",
       "      <td>13.0</td>\n",
       "      <td>sehr gut</td>\n",
       "      <td>15.5</td>\n",
       "      <td>12.8</td>\n",
       "      <td>18.2</td>\n",
       "      <td>2.3</td>\n",
       "      <td>0.0</td>\n",
       "      <td>214.4</td>\n",
       "      <td>30.5</td>\n",
       "      <td>63.0</td>\n",
       "      <td>1012.0</td>\n",
       "      <td>0.0</td>\n",
       "    </tr>\n",
       "    <tr>\n",
       "      <th>3</th>\n",
       "      <td>DENW053</td>\n",
       "      <td>01.11.2020</td>\n",
       "      <td>04:00</td>\n",
       "      <td>13.0</td>\n",
       "      <td>41.0</td>\n",
       "      <td>7.0</td>\n",
       "      <td>sehr gut</td>\n",
       "      <td>15.5</td>\n",
       "      <td>12.8</td>\n",
       "      <td>18.2</td>\n",
       "      <td>2.3</td>\n",
       "      <td>0.0</td>\n",
       "      <td>214.4</td>\n",
       "      <td>30.5</td>\n",
       "      <td>63.0</td>\n",
       "      <td>1012.0</td>\n",
       "      <td>0.0</td>\n",
       "    </tr>\n",
       "    <tr>\n",
       "      <th>4</th>\n",
       "      <td>DENW053</td>\n",
       "      <td>01.11.2020</td>\n",
       "      <td>05:00</td>\n",
       "      <td>13.0</td>\n",
       "      <td>46.0</td>\n",
       "      <td>7.0</td>\n",
       "      <td>sehr gut</td>\n",
       "      <td>15.5</td>\n",
       "      <td>12.8</td>\n",
       "      <td>18.2</td>\n",
       "      <td>2.3</td>\n",
       "      <td>0.0</td>\n",
       "      <td>214.4</td>\n",
       "      <td>30.5</td>\n",
       "      <td>63.0</td>\n",
       "      <td>1012.0</td>\n",
       "      <td>0.0</td>\n",
       "    </tr>\n",
       "    <tr>\n",
       "      <th>...</th>\n",
       "      <td>...</td>\n",
       "      <td>...</td>\n",
       "      <td>...</td>\n",
       "      <td>...</td>\n",
       "      <td>...</td>\n",
       "      <td>...</td>\n",
       "      <td>...</td>\n",
       "      <td>...</td>\n",
       "      <td>...</td>\n",
       "      <td>...</td>\n",
       "      <td>...</td>\n",
       "      <td>...</td>\n",
       "      <td>...</td>\n",
       "      <td>...</td>\n",
       "      <td>...</td>\n",
       "      <td>...</td>\n",
       "      <td>...</td>\n",
       "    </tr>\n",
       "    <tr>\n",
       "      <th>35039</th>\n",
       "      <td>DENW059</td>\n",
       "      <td>31.10.2021</td>\n",
       "      <td>21:00</td>\n",
       "      <td>6.0</td>\n",
       "      <td>51.0</td>\n",
       "      <td>9.0</td>\n",
       "      <td>sehr gut</td>\n",
       "      <td>13.0</td>\n",
       "      <td>9.0</td>\n",
       "      <td>17.9</td>\n",
       "      <td>11.6</td>\n",
       "      <td>0.0</td>\n",
       "      <td>172.1</td>\n",
       "      <td>17.0</td>\n",
       "      <td>78.0</td>\n",
       "      <td>1003.9</td>\n",
       "      <td>71.0</td>\n",
       "    </tr>\n",
       "    <tr>\n",
       "      <th>35040</th>\n",
       "      <td>DENW059</td>\n",
       "      <td>31.10.2021</td>\n",
       "      <td>22:00</td>\n",
       "      <td>6.0</td>\n",
       "      <td>59.0</td>\n",
       "      <td>7.0</td>\n",
       "      <td>sehr gut</td>\n",
       "      <td>13.0</td>\n",
       "      <td>9.0</td>\n",
       "      <td>17.9</td>\n",
       "      <td>11.6</td>\n",
       "      <td>0.0</td>\n",
       "      <td>172.1</td>\n",
       "      <td>17.0</td>\n",
       "      <td>78.0</td>\n",
       "      <td>1003.9</td>\n",
       "      <td>71.0</td>\n",
       "    </tr>\n",
       "    <tr>\n",
       "      <th>35041</th>\n",
       "      <td>DENW059</td>\n",
       "      <td>31.10.2021</td>\n",
       "      <td>23:00</td>\n",
       "      <td>6.0</td>\n",
       "      <td>45.0</td>\n",
       "      <td>NaN</td>\n",
       "      <td>sehr gut</td>\n",
       "      <td>13.0</td>\n",
       "      <td>9.0</td>\n",
       "      <td>17.9</td>\n",
       "      <td>11.6</td>\n",
       "      <td>0.0</td>\n",
       "      <td>172.1</td>\n",
       "      <td>17.0</td>\n",
       "      <td>78.0</td>\n",
       "      <td>1003.9</td>\n",
       "      <td>71.0</td>\n",
       "    </tr>\n",
       "    <tr>\n",
       "      <th>35042</th>\n",
       "      <td>DENW059</td>\n",
       "      <td>01.11.2021</td>\n",
       "      <td>24:00</td>\n",
       "      <td>6.0</td>\n",
       "      <td>39.0</td>\n",
       "      <td>9.0</td>\n",
       "      <td>sehr gut</td>\n",
       "      <td>NaN</td>\n",
       "      <td>NaN</td>\n",
       "      <td>NaN</td>\n",
       "      <td>NaN</td>\n",
       "      <td>NaN</td>\n",
       "      <td>NaN</td>\n",
       "      <td>NaN</td>\n",
       "      <td>NaN</td>\n",
       "      <td>NaN</td>\n",
       "      <td>NaN</td>\n",
       "    </tr>\n",
       "    <tr>\n",
       "      <th>35043</th>\n",
       "      <td>DENW059</td>\n",
       "      <td>01.11.2021</td>\n",
       "      <td>01:00</td>\n",
       "      <td>6.0</td>\n",
       "      <td>30.0</td>\n",
       "      <td>11.0</td>\n",
       "      <td>sehr gut</td>\n",
       "      <td>NaN</td>\n",
       "      <td>NaN</td>\n",
       "      <td>NaN</td>\n",
       "      <td>NaN</td>\n",
       "      <td>NaN</td>\n",
       "      <td>NaN</td>\n",
       "      <td>NaN</td>\n",
       "      <td>NaN</td>\n",
       "      <td>NaN</td>\n",
       "      <td>NaN</td>\n",
       "    </tr>\n",
       "  </tbody>\n",
       "</table>\n",
       "<p>35044 rows × 17 columns</p>\n",
       "</div>"
      ],
      "text/plain": [
       "      Stationscode       Datum Uhrzeit  Feinstaub  Ozon  Stickstoffdioxid  \\\n",
       "0          DENW053  01.11.2020   01:00       13.0  45.0               9.0   \n",
       "1          DENW053  01.11.2020   02:00       13.0  33.0              13.0   \n",
       "2          DENW053  01.11.2020   03:00       13.0  28.0              13.0   \n",
       "3          DENW053  01.11.2020   04:00       13.0  41.0               7.0   \n",
       "4          DENW053  01.11.2020   05:00       13.0  46.0               7.0   \n",
       "...            ...         ...     ...        ...   ...               ...   \n",
       "35039      DENW059  31.10.2021   21:00        6.0  51.0               9.0   \n",
       "35040      DENW059  31.10.2021   22:00        6.0  59.0               7.0   \n",
       "35041      DENW059  31.10.2021   23:00        6.0  45.0               NaN   \n",
       "35042      DENW059  01.11.2021   24:00        6.0  39.0               9.0   \n",
       "35043      DENW059  01.11.2021   01:00        6.0  30.0              11.0   \n",
       "\n",
       "      Luftqualitätsindex  Temperatur-mean  Temperatur-min  Temperatur-max  \\\n",
       "0               sehr gut             15.5            12.8            18.2   \n",
       "1               sehr gut             15.5            12.8            18.2   \n",
       "2               sehr gut             15.5            12.8            18.2   \n",
       "3               sehr gut             15.5            12.8            18.2   \n",
       "4               sehr gut             15.5            12.8            18.2   \n",
       "...                  ...              ...             ...             ...   \n",
       "35039           sehr gut             13.0             9.0            17.9   \n",
       "35040           sehr gut             13.0             9.0            17.9   \n",
       "35041           sehr gut             13.0             9.0            17.9   \n",
       "35042           sehr gut              NaN             NaN             NaN   \n",
       "35043           sehr gut              NaN             NaN             NaN   \n",
       "\n",
       "       Niederschlag  Schneefall  Windrichtung  Windgeschwindigkeit  \\\n",
       "0               2.3         0.0         214.4                 30.5   \n",
       "1               2.3         0.0         214.4                 30.5   \n",
       "2               2.3         0.0         214.4                 30.5   \n",
       "3               2.3         0.0         214.4                 30.5   \n",
       "4               2.3         0.0         214.4                 30.5   \n",
       "...             ...         ...           ...                  ...   \n",
       "35039          11.6         0.0         172.1                 17.0   \n",
       "35040          11.6         0.0         172.1                 17.0   \n",
       "35041          11.6         0.0         172.1                 17.0   \n",
       "35042           NaN         NaN           NaN                  NaN   \n",
       "35043           NaN         NaN           NaN                  NaN   \n",
       "\n",
       "       Spitzenwindboe  Luftdruck  Sonnenminuten  \n",
       "0                63.0     1012.0            0.0  \n",
       "1                63.0     1012.0            0.0  \n",
       "2                63.0     1012.0            0.0  \n",
       "3                63.0     1012.0            0.0  \n",
       "4                63.0     1012.0            0.0  \n",
       "...               ...        ...            ...  \n",
       "35039            78.0     1003.9           71.0  \n",
       "35040            78.0     1003.9           71.0  \n",
       "35041            78.0     1003.9           71.0  \n",
       "35042             NaN        NaN            NaN  \n",
       "35043             NaN        NaN            NaN  \n",
       "\n",
       "[35044 rows x 17 columns]"
      ]
     },
     "execution_count": 2,
     "metadata": {},
     "output_type": "execute_result"
    }
   ],
   "source": [
    "import numpy as np\n",
    "import pandas as pd\n",
    "\n",
    "from matplotlib import pyplot as plt\n",
    "\n",
    "daten = pd.read_csv(\"UmweltLuftDaten.CSV\", sep=';', header=0)\n",
    "\n",
    "daten"
   ]
  },
  {
   "cell_type": "markdown",
   "metadata": {
    "id": "XNQTQ70mA40D",
    "jp-MarkdownHeadingCollapsed": true
   },
   "source": [
    "## Formulierung der Nullhypothese und der Alternativhypothese"
   ]
  },
  {
   "cell_type": "markdown",
   "metadata": {
    "id": "7n70amWWeKOp"
   },
   "source": [
    "**Hypothese 2**: \"Es gibt einen Zusammenhang zwischen dem Luftdruck und der Feinstaubbelastung der Luft.\"\n",
    "\n",
    "**Nullhypothese 2:** \"Es gibt keinen Zusammenhang zwischen dem Luftdruck und der Feinstaubbelastung der Luft.\"\n",
    "\n",
    "\n"
   ]
  },
  {
   "cell_type": "markdown",
   "metadata": {
    "id": "MsfaZYe2kKcs",
    "jp-MarkdownHeadingCollapsed": true
   },
   "source": [
    "## Teststatistik wählen"
   ]
  },
  {
   "cell_type": "markdown",
   "metadata": {
    "id": "eEiHC7JhOMSy"
   },
   "source": [
    "Wie bereits beim Vorzeichentest beschreiben, ist die Teststatistik eine Kennzahl, die aus den Stichprobendaten berechnet wird, um in einem statistischen Hypothesentest eine Entscheidung zu treffen.\n",
    "\n",
    "Unsere **Hypothese 2** ist eine ungerichtete Zusammenhangshypothese [siehe Modul 2](https://moodle.ki-campus.org/mod/h5pactivity/view.php?id=6593). Zur Berechnung der Teststatistik wird eine Korrelationsanalyse durchgeführt. Die Korrelationsanalyse ist ein statistisches Verfahren, das die Stärke und Richtung eines linearen Zusammenhangs zwischen zwei oder mehr Variablen ermittelt (siehe auch: https://datatab.de/tutorial/korrelation).\n",
    "\n",
    "Bei der Korrelationsanalyse wird der Korrelationskoeffizient $r$ berechnet, der angibt, wie stark der Zusammenhang zwischen zwei Werten ist. In unserer Hypothese sind das die Werte für Feinstaub und Luftdruck. Der Korrelationskoeffizient $r$  kann Werte zwischen $-1$ und $+1$ annehmen. Somit ist unsere **Teststatistik** der Korrelationskoeffizient $r$.\n",
    "\n",
    "Mit Hilfe einer Korrelationsanalyse kann  festgestellt werden, wie stark und in welche Richtung zwei Werte zusammenhängen:\n",
    "\n",
    "+ **Positive Korrelationen** liegen vor, wenn die Zunahme der Variablen&nbsp;A auch zu einer Zunahme der Variablen&nbsp;B führt. Beispielsweise korreliert die Körpergröße positiv mit dem Gewicht. Positve Korrelationen werden am positiven Korrelationskoeffizienten&nbsp;$r$ erkannt.\n",
    "\n",
    "+ Bei **negativen Korrelationen** führt die Zunahme der Variablen&nbsp;A zu einer Abnahme der Variablen&nbsp;B. Ein Beispiel hierfür ist die Korrelation zwischen der Kraftstoffmenge im Auto und der Länge der zurückgelegten Strecke. Negative Korrelationen werden am negativen Korrelationskoeffizienten&nbsp;$r$ erkannt.\n",
    "\n",
    "+ Wenn der Korrelationskoeffizient nahe bei 0 liegt, besteht keine erkennbare lineare Beziehung zwischen den Variablen.\n",
    "\n",
    "**Wert \"$r$\" und Stärke des Zusammenhangs**\n",
    "+ 0,0 < 0,1\tkein Zusammenhang\n",
    "+ 0,1 < 0,3\tgeringer Zusammenhang\n",
    "+ 0,3 < 0,5\tmittlerer Zusammenhang\n",
    "+ 0,5 < 0,7\thoher Zusammenhang\n",
    "+ 0,7 < 1\tsehr hoher Zusammenhang\n",
    "\n",
    "siehe Kuckartz, U., Rädiker, S., Ebert, T., & Schehl, J. (2013). Statistik: eine verständliche Einführung. Wiesbaden, S. 213, URL: https://link.springer.com/book/10.1007/978-3-531-19890-3\n",
    "\n",
    "**Vorsicht**: Die Korrelation misst die Stärke des Zusammenhangs zwischen zwei Variablen. Sie sagt jedoch nichts darüber aus, ob eine Variable die andere verursacht (Kausalität). Korrelationsanalysen sind in erster Linie ein nützliches Instrument, um erste Hinweise auf Zusammenhänge zwischen Variablen zu erhalten, bevor tiefergehende Kausalanalysen durchgeführt werden.\n"
   ]
  },
  {
   "cell_type": "markdown",
   "metadata": {
    "id": "BfDq1QzTkeZP",
    "jp-MarkdownHeadingCollapsed": true
   },
   "source": [
    "## Signifikanzniveau festlegen"
   ]
  },
  {
   "cell_type": "markdown",
   "metadata": {
    "id": "UdtkJEUjkb6Y"
   },
   "source": [
    "Mit einem Hypothesentest kann die Nullhypothese nie mit 100 %iger Sicherheit verworfen oder bestätigt werden. Es besteht immer eine Irrtumswahrscheinlichkeit. Das liegt daran, dass für die Analyse immer eine Stichprobe aus der Grundgesamtheit gezogen wird. Wenn z. B. eine WählerInnenbefragung durchgeführt wird, werden nicht alle möglichen WählerInnen befragt, sondern es wird eine Stichprobe aus der Grundgesamtheit der WählerInnen gezogen, welche die Eigenschaften der WählerInnengruppe am besten repräsentiert. Eine andere Stichprobe aus der selben Grundgesamtheit könnte jedoch zu etwas anderen Ergebnissen bei der Analyse führen, insbesondere wenn die Stichprobe aus irgendeinem Grund von vornherein zu sehr von der Grundgesamtheit abweicht. Wenn die Daten auf Messergebnissen beruhen, kommen noch Messfehler dazu. Diese können einen Effekt verschleiern (Fehler 1. Art, s. u.) oder manchmal auch vortäuschen (Fehler 2. Art). Daher ist jede Aussage über eine Hypothese immer mit einer Irrtumswahrscheinlichkeit behaftet.\n",
    "\n",
    "Die Irrtumswahrscheinlichkeit für das fehlerhafte Ablehnen der Nullhypothese wird als **Signifikanzniveau** (α) bezeichnet.\n",
    "Das Signifikanzniveau wird immer vor der Analyse festgelegt. Es liegt häufig zwischen 1&#8239;% und 5&#8239;%. Bei einem Signifikanzniveau von 5&#8239;% ($α=0,05$) besteht ein Risiko von 5&#8239;%, dass die Nullhypothese verworfen wird, obwohl sie eigentlich wahr ist.\n",
    "\n",
    "Auch für unseren Korrelationstest legen wir das Signifikanznevieau auf $α=0,05$.\n",
    "\n",
    "Das Signifikanzniveau muss vor der Ermittlung der Teststatistik festgelegt werden. Sonst geht man wie der texanische Scharfschütze vor, der zuerst auf sein Scheunentor schießt und dann eine Zielscheibe um das Einschussloch malt.\n"
   ]
  },
  {
   "cell_type": "markdown",
   "metadata": {
    "id": "ICTqCIqlPPXr",
    "jp-MarkdownHeadingCollapsed": true
   },
   "source": [
    "## Nullverteilung der Teststatistik bestimmen\n"
   ]
  },
  {
   "cell_type": "markdown",
   "metadata": {
    "id": "yHBfiX2M7vY0"
   },
   "source": [
    "Da alle statistischen Test auf Wahrscheinlichkeiten und Stichproben beruhen, verwenden alle diese Tests auch eine **Nullverteilung**, die die Wahrscheinlichkeit beschreibt, mit der eine bestimmte Teststatistik auftritt, falls die Nullhypothese zutrifft (deswegen heißt sie Nullverteilung).\n",
    "In der Korrelationsanalyse beschreibt die Nullverteilung die Verteilung des Korrelationskoeffizienten $r$ unter der Annahme, dass kein Zusammenhang zwischen den beiden untersuchten Variablen besteht.\n",
    "Wenn die Nullhypothese stimmt, also keine Korrelation zwischen Variablen vorliegt, dann erwarten wir für $r$ einen Wert nahe Null. Werte die sich der $-1$ oder der $1$ annähern sind eher unwahrscheinlich.\n",
    "\n",
    "Allerdings werden uns in dem Test, den wir im Folgenden durchführen, viele Arbeitsschritte bereits abgenommen, sodass wir nicht mehr anhand der Nullverteilung entscheiden müssen, ob unser $r$ Wert in den Annahme- oder Ablehungsbereich fällt."
   ]
  },
  {
   "cell_type": "markdown",
   "metadata": {
    "id": "WYPwnRwGNT6O",
    "jp-MarkdownHeadingCollapsed": true
   },
   "source": [
    "## Annahme und Ablehnungsbereich für die Nullhypothese bestimmen"
   ]
  },
  {
   "cell_type": "markdown",
   "metadata": {
    "id": "CGSyqj_xlTHu"
   },
   "source": [
    "Für die Entscheidung, ob die Nullhypothese abgelehnt werden kann oder nicht, wird statt der Annahme- und Ablehnungsbereiche auch der sogenannte $p$-Wert verwendet. Er wird auch beim Test weiter unten neben den Korrelationskoeffizienten $r$ mit ausgegeben."
   ]
  },
  {
   "cell_type": "markdown",
   "metadata": {
    "id": "bIdJpb8FlnCL"
   },
   "source": [
    "### Was sagt der $p$-Wert aus?"
   ]
  },
  {
   "cell_type": "markdown",
   "metadata": {
    "id": "RyX5yhs9nfoA"
   },
   "source": [
    "Der $p$-Wert gibt die Wahrscheinlichkeit an, mit der festgestellt werden kann, ob ein Ergebnis einer Analyse zufällig ist oder tatsächlich eine statistisch signifikante Abweichung darstellt, so dass die Nullhypothese verworfen werden kann.\n",
    "\n",
    "Im Folgenden Video wir der $p$-Wert anschaulich erklärt: https://www.youtube.com/watch?v=NW-_u3vXJhk\n"
   ]
  },
  {
   "cell_type": "markdown",
   "metadata": {
    "id": "viURgJDsmDCV"
   },
   "source": [
    "**Interpretation des $p$-Werts:**\n",
    "\n",
    "Wir nutzen den $p$-Wert gemeinsam mit dem vorher festgelegten Signifikanzniveau $a$, um zu entscheiden, ob das Ergebnis in den Annahme- oder Ablehnungsbereich der Nullhypothese fällt, wie folgt:\n",
    "\n",
    "+ **Kleiner $p$-Wert** (z.&#8239;B. unter dem Signifikanzniveau $α = 0,05$): deutet darauf hin, dass das Ergebnis statistisch signifikant ist und die Nullhypothese möglicherweise abgelehnt werden kann. Das heißt, es ist unwahrscheinlich, dass das Ergebnis rein zufällig zustande kam. Aber Vorsicht vor dem **Fehler erster Ordnung** (siehe weiter unten)!\n",
    "\n",
    "+ **Großer $p$-Wert** (z. B. über dem Signifikanzniveau $\\alpha = 0,05)$:\n",
    "deutet darauf hin, dass das Ergebnis  vermutlich zufällig entstanden ist und wir  die Nullhypothse vorerst nicht verwerfen können. Aber Vorsicht vor dem Fehler **zweiter Ordnung** (siehe weiter unten)!\n",
    "\n",
    "Aufgrund des p-Werts wird der Effekt wie folgt interpretiert:\n",
    "+ $p < 0,01$ : hoch signifikant\n",
    "\n",
    "+ $p < 0,05$ : signifikant\n",
    "\n",
    "+ $p  ≥ 0,05$ : nicht signifikant"
   ]
  },
  {
   "cell_type": "markdown",
   "metadata": {
    "id": "TNLxdPhEdYDW"
   },
   "source": [
    "### Was sagt der p-Wert **nicht** aus?\n",
    "\n",
    "Der p-Wert entspricht **nicht** der Wahrscheinlichkeit dafür, dass der Ausgang eines Experimentes auf Zufall beruht oder dass die Teststatistik nur durch Zufall in den Ablehnungsbereich geraten ist, und nicht wegen eines tatsächlich vorhandenen Effekts.\n",
    "\n",
    "Den p-Wert mit dieser Wahrscheinlichkeit gleichzusetzen, wäre so, als ob man zuerst den Wert der Teststatistik durch ein Experiment bestimmen würde, dann die Grenze zwischen Annahme- und Ablehnungsbereich in der Nullverteilung genau an der Stelle ziehen würde, an der die Teststatistik liegt, und schließlich das Signifikanzniveau aus der Breite des Ablehnungsbereiches ablesen würde. Das darf man aber nicht, denn der p-Wert ist auch nur eine Zufallsgröße, die von der Zusammenetzung der Stichprobe und den Messfehlern abhängt.\n",
    "\n"
   ]
  },
  {
   "cell_type": "markdown",
   "metadata": {
    "id": "ZopGeqEazynr",
    "jp-MarkdownHeadingCollapsed": true
   },
   "source": [
    "## Teststatistik berechnen"
   ]
  },
  {
   "cell_type": "markdown",
   "metadata": {
    "id": "d2pGhubnH-2Y"
   },
   "source": [
    "Für unsere Auswertung verwenden wir die Korrelationsanalyse nach Pearson. Die Korrelationsanalyse nach Pearson untersucht den linearen Zusammenhang zwischen zwei metrischen Variablen, z. B. um festzustellen, ob eine Variable steigt oder sinkt, wenn die andere steigt.\n",
    "\n",
    "Um die Pearson-Analyse durchführen zu können, müssen folgende Voraussetzungen erfüllt sein:\n",
    "\n",
    "1. Die Variablen sollten metrisch sein (siehe auch: [Modul2 Skalenniveaul 2](https://moodle.ki-campus.org/mod/h5pactivity/view.php?id=6612)).\n",
    "2. Der Zusammenhang (die Korrelation) zwischen den Variablen sollte linear sein, was durch Streudiagramme überprüft werden kann.\n",
    "3. Insbesondere bei kleinen Stichproben sollten die Daten der Variablen annähernd normalverteilt sein.\n",
    "\n",
    "Die Voraussetzungen werden wir in den nächsten Schritten überprüfen."
   ]
  },
  {
   "cell_type": "markdown",
   "metadata": {
    "id": "dNW_4xZxBFzC"
   },
   "source": [
    "### Voraussetzung 1: Art der Variablen"
   ]
  },
  {
   "cell_type": "markdown",
   "metadata": {
    "id": "smMi1gNwAuEQ"
   },
   "source": [
    "Unsere Variablen \"Feinstaub\" und \"Luftdruck\" liegen als metrische Daten vor.  "
   ]
  },
  {
   "cell_type": "markdown",
   "metadata": {
    "id": "Run_L1qZ8wtE"
   },
   "source": [
    "### Voraussetzung 2: Überprüfung einer möglichen Korrelation"
   ]
  },
  {
   "cell_type": "markdown",
   "metadata": {
    "id": "yOgAT5XeOVTF"
   },
   "source": [
    "\n",
    "Ein Streudiagramm kann auch zur ersten visuellen Abschätzung eines liniearen Zusammenhangs zwischen Feinstaub und Luftdruck verwendet werden.  \n",
    "\n",
    "Ein Streudiagramm (auch Scatterplot genannt) ist eine grafische Darstellung, die verwendet wird, um die Beziehung zwischen zwei numerischen Variablen darzustellen. Jeder Punkt im Diagramm repräsentiert ein Datenpaar, wobei die Position entlang der x-Achse den Wert der einen Variable und die Position entlang der y-Achse den Wert der anderen Variable zeigt. Streudiagramme eignen sich besonders gut, um Zusammenhänge, Muster oder Ausreißer in den Daten zu erkennen, wie etwa positive oder negative Korrelationen zwischen den Variablen.\n",
    "\n"
   ]
  },
  {
   "cell_type": "code",
   "execution_count": 3,
   "metadata": {
    "colab": {
     "base_uri": "https://localhost:8080/",
     "height": 467
    },
    "id": "y1TMppcGQzt9",
    "outputId": "7ab2d910-f462-4e44-8848-e0e526aaa74a"
   },
   "outputs": [
    {
     "data": {
      "text/plain": [
       "<Axes: xlabel='Luftdruck', ylabel='Feinstaub'>"
      ]
     },
     "execution_count": 3,
     "metadata": {},
     "output_type": "execute_result"
    },
    {
     "data": {
      "image/png": "[encoded data removed]",
      "text/plain": [
       "<Figure size 640x480 with 1 Axes>"
      ]
     },
     "metadata": {},
     "output_type": "display_data"
    }
   ],
   "source": [
    "#Ausgabe des Scatterplots mit den Werten Luftdruck und Feinstaub\n",
    "daten.plot(kind='scatter', x='Luftdruck', y='Feinstaub', marker='.')"
   ]
  },
  {
   "cell_type": "markdown",
   "metadata": {
    "id": "pH48ovf0I746"
   },
   "source": [
    "Eine umfangreichere Darstellung eines möglichen Zusammenhangs sehen sie im Folgenden Plot."
   ]
  },
  {
   "cell_type": "code",
   "execution_count": 10,
   "metadata": {
    "colab": {
     "base_uri": "https://localhost:8080/",
     "height": 807
    },
    "id": "SLreo0lIyby1",
    "outputId": "2cd0b018-08c2-4206-9f51-1bec7c5137f1"
   },
   "outputs": [
    {
     "data": {
      "image/png": "[encoded data removed]",
      "text/plain": [
       "<Figure size 1500x800 with 1 Axes>"
      ]
     },
     "metadata": {},
     "output_type": "display_data"
    }
   ],
   "source": [
    "# Define the number of bins\n",
    "n_bins = 20\n",
    "\n",
    "# Filtering out NaN values from 'Luftdruck' and 'Feinstaub'\n",
    "filtered_data = daten.dropna(subset=['Luftdruck', 'Feinstaub']).copy()\n",
    "\n",
    "# Create Luftdruck bins\n",
    "min_luftdruck = filtered_data['Luftdruck'].min()\n",
    "max_luftdruck = filtered_data['Luftdruck'].max()\n",
    "bins = np.linspace(min_luftdruck, max_luftdruck, n_bins + 1)\n",
    "\n",
    "# Round the bins to the nearest integer\n",
    "bins = np.round(bins).astype(int)\n",
    "\n",
    "# Assign each Luftdruck value to a bin using .loc\n",
    "filtered_data.loc[:, 'Luftdruck_bin'] = pd.cut(filtered_data['Luftdruck'], bins, include_lowest=True)\n",
    "\n",
    "# Group the data by Luftdruck_bin and specify observed=False to retain current behavior\n",
    "grouped = filtered_data.groupby('Luftdruck_bin', observed=False)['Feinstaub']\n",
    "\n",
    "# Prepare the data for boxplot\n",
    "boxplot_data = [group.tolist() for name, group in grouped]\n",
    "\n",
    "# Create midpoints for the bins to center the boxplots\n",
    "bin_edges = bins\n",
    "bin_midpoints = (bin_edges[:-1] + bin_edges[1:]) / 2\n",
    "\n",
    "# Plotting\n",
    "plt.figure(figsize=(15, 8))\n",
    "bplot = plt.boxplot(boxplot_data, positions=bin_midpoints, whis=(0, 100), widths=np.diff(bin_edges) * 0.8, patch_artist=True)\n",
    "for patch in bplot['boxes']:\n",
    "    patch.set_facecolor(\"lightblue\") #THK_ORANGE\n",
    "for median in bplot['medians']:\n",
    "    median.set(color=\"black\")\n",
    "\n",
    "# Adding plot details\n",
    "plt.xlabel('Luftdruck/hPa')\n",
    "plt.ylabel('Feinstaub/(μg/m³)')\n",
    "plt.title('Abhängigkeit der Feinstaubbelastung vom Luftdruck')\n",
    "plt.xticks(ticks=bin_edges, labels=[f\"{int(edge)}\" for edge in bin_edges], rotation=90)  # Ticks at bin edges\n",
    "plt.grid(True)\n",
    "\n",
    "# Show the plot\n",
    "plt.tight_layout()\n",
    "plt.show()"
   ]
  },
  {
   "cell_type": "markdown",
   "metadata": {
    "id": "eSepqDBiJJfv"
   },
   "source": [
    "Beide Diagramme zeigen in Ansätzen, dass die Werte für den Feinstaub bei einem erhöten Luftdruck auch steigen. Der Zusammenhang scheint aber nicht immer linear zu sein. Dafür sind sogenannte Ausreißer sichtbar. Ausreißer sind Meßwerte, die stark von der gesamten Messreihe abweichen. Aber trotz der Ausreißen kann in beiden Graphiken ein leichter positiver linearer Zusammenhang zwischen Feinstaub und Luftdruck erkannt werden."
   ]
  },
  {
   "cell_type": "markdown",
   "metadata": {
    "id": "aOvuEsC3AKLb"
   },
   "source": [
    "### Voraussetzung 3: Überprüfung der Normalverteilung"
   ]
  },
  {
   "cell_type": "markdown",
   "metadata": {
    "id": "r-vadj8pk1ig"
   },
   "source": [
    "Viele statistische Tests setzen eine Normalverteilung der Daten voraus, da viele natürliche Phänomene (z. B. Körpergröße, Blutdruck) annähernd normalverteilt sind. Die Normalverteilung ist daher eine Wahrscheinlichkeitsverteilung, die eine Glockenkurve oder Gauß-*Kurve* beschreibt. Ihr Kurvenverlauf ist symmetrisch, wobei Modalwert, Median und arithmetischer Mittelwert identisch sind (siehe auch: [Modul 4.1](https://moodle.ki-campus.org/mod/page/view.php?id=6619)). Auch die Binomialverteilung, die Sie bereits beim Vorzeichentest kennengelernt haben, ist eine Normalverteilung (siehe auch: https://datatab.de/tutorial/test-auf-normalverteilung).\n",
    "\n",
    "Für die Korrelationsanalyse wird insbesondere bei kleinen Stichproben eine annähernde Normalverteilung vorausgesetzt. Für unseren Test werden wir die Normalverteilung grafisch überprüfen, indem wir die Werte für Feinstaub und Luftdruck in einem Histogramm darstellen."
   ]
  },
  {
   "cell_type": "markdown",
   "metadata": {
    "id": "Q12td4zKePlM"
   },
   "source": [
    "### Visuelle Prüfung auf Normalverteilung\n"
   ]
  },
  {
   "cell_type": "markdown",
   "metadata": {
    "id": "5iv4TxZXLEHF"
   },
   "source": [
    "Ob die Werte eines Datensatzes normalverteilt sind lässt sich auch mit statistischen Tests überprüfen. Wer sich dazu einlesen möchte findet z.B. hier eine einfache Einführung: [datatab.de](https://datatab.de/tutorial/test-auf-normalverteilung).\n",
    "\n",
    "\n",
    "Da die Überprüfung anhand eines statistischen Tests den Rahmen der Veranstaltung sprengen würde, konzentrieren wir uns hier auf die visuelle Überprüfung.\n",
    "\n",
    "Mit Hilfe eines Histogramms können wir uns einen Eindruck über die Verteilung der Daten verschaffen. Im \"[Modul 4.1](https://moodle.ki-campus.org/mod/page/view.php?id=6619): Daten auswerten\" Abschnitt \"Schiefe, Wölbung, Exzess\" haben wir Verteilungen untersucht und gesagt, dass die Schiefe einer Verteilung durch die Position von arithmetischem Mittel, Modalwert und Medianwert beschrieben werden kann. Man sagt die Verteilung ist symmetrisch, wenn gilt, dass Modus, Median und Mean der Verteilung in etwa übereinstimmen.\n",
    "\n",
    "Wir schauen uns also zunächst die Histogramme unserer Daten an."
   ]
  },
  {
   "cell_type": "markdown",
   "metadata": {
    "id": "jkSH8u34LHad"
   },
   "source": [
    "**Histogramm Luftdruck**"
   ]
  },
  {
   "cell_type": "code",
   "execution_count": 11,
   "metadata": {
    "colab": {
     "base_uri": "https://localhost:8080/"
    },
    "id": "vgcYtN6LSz0p",
    "outputId": "22a7cb14-0fbf-482c-9c69-ceb50c01550c"
   },
   "outputs": [
    {
     "name": "stdout",
     "output_type": "stream",
     "text": [
      "Histogramm Luftdruck\n"
     ]
    },
    {
     "data": {
      "text/plain": [
       "<Axes: ylabel='Frequency'>"
      ]
     },
     "execution_count": 11,
     "metadata": {},
     "output_type": "execute_result"
    },
    {
     "data": {
      "image/png": "[encoded data removed]",
      "text/plain": [
       "<Figure size 640x480 with 1 Axes>"
      ]
     },
     "metadata": {},
     "output_type": "display_data"
    }
   ],
   "source": [
    "#Histogramm für den Luftdruck ausgeben\n",
    "print(\"Histogramm Luftdruck\")\n",
    "daten['Luftdruck'].plot.hist(bins=200)"
   ]
  },
  {
   "cell_type": "code",
   "execution_count": 12,
   "metadata": {
    "colab": {
     "base_uri": "https://localhost:8080/"
    },
    "id": "E4jY7qqfLuFb",
    "outputId": "4197cae5-0339-4923-ce4b-753581b6fd78"
   },
   "outputs": [
    {
     "name": "stdout",
     "output_type": "stream",
     "text": [
      "Mean: 1016.5115652471744\n",
      "Median: 1017.2\n",
      "Modus: 1017.4\n"
     ]
    }
   ],
   "source": [
    "from statistics import mode\n",
    "\n",
    "print(\"Mean: \" + str(daten['Luftdruck'].mean()))\n",
    "print(\"Median: \" + str(daten['Luftdruck'].median()))\n",
    "print(\"Modus: \" + str(daten['Luftdruck'].mode()[0]))\n"
   ]
  },
  {
   "cell_type": "markdown",
   "metadata": {
    "id": "kkltCWsZPgyW"
   },
   "source": [
    "Die Verteilung der Luftdruckdaten scheint symmetrisch zu sein und auch die Werte für Median, Mittelwert und Modus der Daten liegen nahe beieinander. Für die Untersuchung kann hier von einer Normalverteilung der Daten ausgegangen werden."
   ]
  },
  {
   "cell_type": "markdown",
   "metadata": {
    "id": "Fdg7a3ajeSXl"
   },
   "source": [
    "**Histogramm Feinstaub**"
   ]
  },
  {
   "cell_type": "code",
   "execution_count": 7,
   "metadata": {
    "colab": {
     "base_uri": "https://localhost:8080/"
    },
    "id": "peWR_sMQb2_L",
    "outputId": "0262e60a-7267-4a3a-8510-16f954ceecb3"
   },
   "outputs": [
    {
     "data": {
      "text/plain": [
       "<Axes: ylabel='Frequency'>"
      ]
     },
     "execution_count": 7,
     "metadata": {},
     "output_type": "execute_result"
    },
    {
     "data": {
      "image/png": "[encoded data removed]",
      "text/plain": [
       "<Figure size 640x480 with 1 Axes>"
      ]
     },
     "metadata": {},
     "output_type": "display_data"
    }
   ],
   "source": [
    "daten['Feinstaub'].plot.hist(bins=200)"
   ]
  },
  {
   "cell_type": "code",
   "execution_count": 13,
   "metadata": {
    "colab": {
     "base_uri": "https://localhost:8080/"
    },
    "id": "Xn2o_Z6hFRlv",
    "outputId": "407c543d-a1f8-4d11-cdc9-3a6843667458"
   },
   "outputs": [
    {
     "name": "stdout",
     "output_type": "stream",
     "text": [
      "Mean: 15.521634268218712\n",
      "Median: 14.0\n",
      "Modus: 11.0\n"
     ]
    }
   ],
   "source": [
    "print(\"Mean: \" + str(daten['Feinstaub'].mean()))\n",
    "print(\"Median: \" + str(daten['Feinstaub'].median()))\n",
    "print(\"Modus: \" + str(daten['Feinstaub'].mode()[0]))"
   ]
  },
  {
   "cell_type": "markdown",
   "metadata": {
    "id": "O3s5eygXQGb8"
   },
   "source": [
    "Die Daten für den Feinstaub sind leicht rechtsschief.\n",
    "\n",
    "Wenn die Daten leicht rechtsschief sind, kann dies die Ergebnisse der Pearson-Korrelation beeinflussen, aber im Allgemeinen ist die Pearson-Korrelation relativ robust gegenüber kleinen Abweichungen von der Normalverteilung [1].\n",
    "\n",
    "---\n",
    "\n",
    "[1] Hauke, J., & Kossowski, T. (2011). Comparison of values of Pearson’s and Spearman’s correlation coefficients on the same sets of data. Quaestiones Geographicae, 30(2), 87-93.\n"
   ]
  },
  {
   "cell_type": "markdown",
   "metadata": {
    "id": "oWlmNfk9IQ2I"
   },
   "source": [
    "## Test durchführen"
   ]
  },
  {
   "cell_type": "markdown",
   "metadata": {
    "id": "Ne-ZrB9IICfc"
   },
   "source": [
    "Die Korrelationsanalyse nach Pearson ist im Pythen-Paket $scipy$ , die wir am Anfang dieser Datei importieren, bereits implementiert und kann einfach verwendet werden.\n",
    "\n",
    "Die Funktion zur Korrelationsanalyse kann keine fehlenden Werte verarbeiten, deshalb entfernen wir diese mit dropna() aus der Verteilung, bevor wir die Verteilung an die Funktion $stats.pearsonr()$ übergeben."
   ]
  },
  {
   "cell_type": "code",
   "execution_count": 17,
   "metadata": {
    "colab": {
     "base_uri": "https://localhost:8080/"
    },
    "id": "NXX8Dof7NH6t",
    "outputId": "2c73e20c-78af-4e05-a725-16fc6e7448ad"
   },
   "outputs": [
    {
     "name": "stdout",
     "output_type": "stream",
     "text": [
      "Das Ergebnis des Korrelationstest liefert einen Korrelationskoefizient r = 0.3819327489354056 mit einem p-Wert von p = 0.0\n",
      "Die Nullhypothese wird verworfen; es gibt vermutlich einen signifikanten linearen Zusammenhang zwischen Luftdruck und Feinstaubbelastung.\n"
     ]
    }
   ],
   "source": [
    "from scipy import stats\n",
    "#Berechnung des Korrelationskoeffizienten und des p-Wertes zwischen Feinstaub und Luftdruck\n",
    "r, p_value =stats.pearsonr(daten.dropna()['Feinstaub'], daten.dropna()['Luftdruck'])\n",
    "print(\"Das Ergebnis des Korrelationstest liefert einen Korrelationskoefizient r = \" + str(r) + \" mit einem p-Wert von p = \" + str(p_value) )\n",
    "\n",
    "# Resultate interpretieren und ausgeben:\n",
    "alpha = 0.05\n",
    "if p_value < alpha:\n",
    "    print(\"Die Nullhypothese wird verworfen; es gibt vermutlich einen signifikanten linearen Zusammenhang zwischen Luftdruck und Feinstaubbelastung.\")\n",
    "else:\n",
    "    print(\"Die Nullhypothese kann nicht verworfen werden; Es gibt vermutlich keinen signifikant linearen Zusammenhang zwischen der Luftdruck und der Feinstaubbelastung.\")\n"
   ]
  },
  {
   "cell_type": "markdown",
   "metadata": {
    "id": "57gvB-PZjuBb",
    "jp-MarkdownHeadingCollapsed": true
   },
   "source": [
    "## Das Ergebnis der Studie gemäß den Vorgaben aus 3. + 5. ermitteln."
   ]
  },
  {
   "cell_type": "markdown",
   "metadata": {
    "id": "ITNId783VyjC"
   },
   "source": [
    "Als Ergebnis der Korrelationsanalyse erhalten wir die Werte $r=0,38$ und $p=0,0$\n",
    "\n",
    "Der $p$-Wert kann von der Größe der Stichporbe beinflusst werden. Je größer die Stichprobe, desto kleiner der $p$-Wert. So ist er in unserer Korrelationsanalyse annährend Null, siehe auch: https://datatab.de/tutorial/test-auf-normalverteilung#Graphische).\n",
    "Der liegt somit unter dem festgelegten Signifikanzniveau von $α =0,05$, was auf einen signifikanten positive linearen Zusammenhang hinweist. Die Nullhypothese kann somit vorerst verworfen werden."
   ]
  },
  {
   "cell_type": "markdown",
   "metadata": {
    "id": "37LuqfXeEMvm",
    "jp-MarkdownHeadingCollapsed": true
   },
   "source": [
    "## Diskussion der Ergebnisse"
   ]
  },
  {
   "cell_type": "markdown",
   "metadata": {
    "id": "DLlaFxcPEQcn"
   },
   "source": [
    "Trotz dieser Werte ($r=0,38$ und $p =0,0$) sollten die Ergebnisse immer kritisch betrachtet werden. Der $p$-Wert gibt nur die Wahrscheinlichkeit an, unter der die Nullhypothese verworfen werden kann. Es kann immer zu Fehlinterpretationen kommen, die in der Statistik als Fehlern erster und zweiter Ordnung bezeichnet werden.\n",
    "\n",
    "Ein **Fehler erster Ordnung** liegt vor, wenn die Nullhypothese verworfen wird, obwohl sie in Wirklichkeit wahr ist.\n",
    "\n",
    "Ein **Fehler zweiter Ordnung** liegt vor, wenn die Nullhypothese nicht verworfen wird, obwohl sie falsch ist. Dies bedeutet, dass ein tatsächlicher Effekt übersehen wird.\n",
    "\n",
    "Es ist also wichtig, bei jeder Analyse abzuwägen und die Ergebnisse kritisch zu hinterfragen. Wenn wir eine größere Sicherheit erzielen wollen, sollten wir das Experiment beispielsweise mit einer anderen oder größeren Stichprobe wiederholen (dadurch nimmt die Standardabweichung ab und die Trennfähigkeit des Tests,*power* wird höher). Zudem können wir auch das Signifikanzniveau auf 1% ($a = 0,01$) senken. Damit wird es aber auch schwieriger, die Alternativhypothese zu bestätigen."
   ]
  },
  {
   "cell_type": "code",
   "execution_count": null,
   "metadata": {},
   "outputs": [],
   "source": []
  }
 ],
 "metadata": {
  "colab": {
   "collapsed_sections": [
    "C9x9TSWcJ7k8",
    "Q12td4zKePlM",
    "57gvB-PZjuBb"
   ],
   "include_colab_link": true,
   "provenance": []
  },
  "kernelspec": {
   "display_name": "Python 3 (ipykernel)",
   "language": "python",
   "name": "python3"
  },
  "language_info": {
   "codemirror_mode": {
    "name": "ipython",
    "version": 3
   },
   "file_extension": ".py",
   "mimetype": "text/x-python",
   "name": "python",
   "nbconvert_exporter": "python",
   "pygments_lexer": "ipython3",
   "version": "3.11.5"
  }
 },
 "nbformat": 4,
 "nbformat_minor": 4
}
